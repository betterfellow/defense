{
 "cells": [
  {
   "cell_type": "markdown",
   "metadata": {},
   "source": [
    "# VAE for CIFAR10"
   ]
  },
  {
   "cell_type": "code",
   "execution_count": 1,
   "metadata": {
    "collapsed": true
   },
   "outputs": [],
   "source": [
    "import numpy as np\n",
    "import torch\n",
    "import torch.nn as nn\n",
    "import torch.optim as optim\n",
    "import torch.nn.init as init\n",
    "import torchvision.datasets as dset\n",
    "import torchvision.transforms as transforms\n",
    "from torch.utils.data import DataLoader\n",
    "from torch.autograd import Variable\n",
    "from tensorboard import SummaryWriter\n",
    "import matplotlib.pyplot as plt\n",
    "import matplotlib.gridspec as gridspec\n",
    "% matplotlib inline"
   ]
  },
  {
   "cell_type": "markdown",
   "metadata": {},
   "source": [
    "## Set Hyperparameter"
   ]
  },
  {
   "cell_type": "code",
   "execution_count": 2,
   "metadata": {
    "collapsed": true
   },
   "outputs": [],
   "source": [
    "batch_size=64\n",
    "learning_rate=0.003\n",
    "num_epoch=2\n",
    "leak=0.05\n",
    "drop_rate=0.02\n",
    "z_dim=64"
   ]
  },
  {
   "cell_type": "markdown",
   "metadata": {},
   "source": [
    "## CIFAR10 dataset.\n",
    "It has 10 classes: \n",
    "\n",
    "‘airplane’, ‘automobile’, ‘bird’, ‘cat’, ‘deer’,\n",
    "‘dog’, ‘frog’, ‘horse’, ‘ship’, ‘truck’. \n",
    "\n",
    "The images in CIFAR-10 are of\n",
    "size 3x32x32, i.e. 3-channel color images of 32x32 pixels in size."
   ]
  },
  {
   "cell_type": "code",
   "execution_count": 3,
   "metadata": {
    "collapsed": true
   },
   "outputs": [],
   "source": [
    "# The output of torchvision datasets are PILImage images of range [0, 1].\n",
    "# We transform them to Tensors of normalized range [-1, 1]\n",
    "# Transforms are common image transforms. They can be chained together using `Compose`\n",
    "\n",
    "transform_config = transforms.Compose(\n",
    "    [transforms.ToTensor(),\n",
    "     transforms.Normalize((0.5, 0.5, 0.5), (0.5, 0.5, 0.5))])"
   ]
  },
  {
   "cell_type": "code",
   "execution_count": 4,
   "metadata": {},
   "outputs": [
    {
     "name": "stdout",
     "output_type": "stream",
     "text": [
      "Files already downloaded and verified\n",
      "Files already downloaded and verified\n"
     ]
    }
   ],
   "source": [
    "# Download the data\n",
    "cifar_train=dset.CIFAR10(root=\"./\", train=True, transform=transforms.ToTensor(), target_transform=None, download=True)\n",
    "cifar_test=dset.CIFAR10(root=\"./\", train=False, transform=transforms.ToTensor(), target_transform=None, download=True)"
   ]
  },
  {
   "cell_type": "code",
   "execution_count": 5,
   "metadata": {
    "collapsed": true
   },
   "outputs": [],
   "source": [
    "train_loader=torch.utils.data.DataLoader(cifar_train,batch_size=batch_size, shuffle=True, num_workers=2,drop_last=True)\n",
    "test_loader=torch.utils.data.DataLoader(cifar_test,batch_size=batch_size,shuffle=False,num_workers=2,drop_last=True)"
   ]
  },
  {
   "cell_type": "markdown",
   "metadata": {},
   "source": [
    "## Model\n"
   ]
  },
  {
   "cell_type": "markdown",
   "metadata": {},
   "source": [
    "### Encoder\n",
    "* Two outputs\n",
    "    * z_mu\n",
    "    * z_logvar"
   ]
  },
  {
   "cell_type": "code",
   "execution_count": 6,
   "metadata": {},
   "outputs": [],
   "source": [
    "class Encoder(nn.Module):\n",
    "    def __init__(self):\n",
    "        super(Encoder,self).__init__()\n",
    "        \n",
    "        # output size = (image_width - kernel_width)/stride +1\n",
    "        \n",
    "        # torch.nn.Conv2d(in_channels, out_channels, kernel_size,\n",
    "        #                 stride=1, padding=0, dilation=1,\n",
    "        #                 groups=1, bias=True)\n",
    "\n",
    "        \n",
    "        self.conv_layer = nn.Sequential(\n",
    "                        nn.Conv2d(3,64,3,padding=1),  \n",
    "                        nn.ReLU(),\n",
    "                        nn.BatchNorm2d(64),\n",
    "                        nn.Dropout(p=drop_rate,inplace=True),\n",
    "                        # batch_size*  32*32  *64 featuremaps\n",
    "            \n",
    "                        nn.Conv2d(64,128,3,padding=1), \n",
    "                        nn.BatchNorm2d(128),\n",
    "                        nn.ReLU(),\n",
    "                        nn.Dropout(p=drop_rate,inplace=True),\n",
    "                        nn.MaxPool2d(2,2),\n",
    "                        # batch_size*  16*16  *128 featuremaps\n",
    "            \n",
    "                        nn.Conv2d(128,256,3,padding=1),\n",
    "                        nn.BatchNorm2d(256),\n",
    "                        nn.ReLU(),\n",
    "                        nn.Dropout(p=drop_rate,inplace=True),\n",
    "                        nn.MaxPool2d(2,2),\n",
    "                        # batch_size*  8*8  *256 featuremaps\n",
    "            \n",
    "            \n",
    "                        nn.Conv2d(256,256,3,padding=1,stride=2), # ((8+1*2) - 3)/2 +1 = 4\n",
    "                        nn.BatchNorm2d(256),\n",
    "                        nn.ReLU(),\n",
    "                        nn.Dropout(p=drop_rate,inplace=True),\n",
    "                        # batch_size*  4*4  *256 featuremaps\n",
    "                \n",
    "                        nn.Conv2d(256,1024,4, padding=0),  # ((4 - 2)/1 +1 = 28\n",
    "                        nn.ReLU(),\n",
    "#                         nn.BatchNorm2d(28),\n",
    "#                         nn.MaxPool2d(2,2),\n",
    "                        # batch_size*  1*1  *1024 featuremaps\n",
    "            \n",
    "        )\n",
    "        \n",
    "        self.fc_layer = nn.Sequential(\n",
    "                        nn.Linear(1*1*1024,512),\n",
    "                        nn.LeakyReLU(leak),\n",
    "                        nn.Dropout(p=drop_rate,inplace=True),\n",
    "                        nn.Linear(512,128),\n",
    "                        nn.LeakyReLU(leak)\n",
    "        )\n",
    "   \n",
    "        # ===== Two output vectors generated by the Encoder =====\n",
    "        \n",
    "        # One for z_mu\n",
    "        self.z_mu=nn.Sequential(\n",
    "            nn.Linear(128,z_dim),\n",
    "            nn.LeakyReLU(leak)\n",
    "        )\n",
    "        \n",
    "        # Another for z_logvar\n",
    "        self.z_logvar=nn.Sequential(\n",
    "            nn.Linear(128,z_dim),\n",
    "            nn.LeakyReLU(leak)\n",
    "        )\n",
    "        \n",
    "        \n",
    "    def forward(self,x):\n",
    "        out=self.conv_layer(x)\n",
    "        out=out.view(batch_size,-1)\n",
    "        \n",
    "        out=self.fc_layer(out)\n",
    "\n",
    "        z_mu=self.z_mu(out)\n",
    "        z_logvar=self.z_logvar(out)\n",
    "        \n",
    "        return z_mu,z_logvar"
   ]
  },
  {
   "cell_type": "markdown",
   "metadata": {},
   "source": [
    "### Decoder\n",
    "* input: sampled_z\n",
    "* output: reconstructed image"
   ]
  },
  {
   "cell_type": "code",
   "execution_count": 7,
   "metadata": {
    "collapsed": true
   },
   "outputs": [],
   "source": [
    "# torch.nn.ConvTranspose2d(in_channels, out_channels, kernel_size, stride=1, padding=0, \n",
    "#   output_padding=0, groups=1, bias=True, dilation=1)\n",
    "\n",
    "# H_out=(H_in−1)∗stride(4th) + kernel_size(3rd) − 2∗padding(5th) + output_padding\n",
    "\n",
    "class Decoder(nn.Module):\n",
    "    def __init__(self):\n",
    "        super(Decoder,self).__init__()\n",
    "        \n",
    "        self.fc_layer=nn.Sequential(\n",
    "            nn.Linear(z_dim,128),\n",
    "            nn.BatchNorm1d(128),\n",
    "            nn.LeakyReLU(leak),\n",
    "            nn.Dropout(p=drop_rate,inplace=True),\n",
    "            \n",
    "            nn.Linear(128,256),\n",
    "            nn.BatchNorm1d(256),\n",
    "            nn.LeakyReLU(leak),\n",
    "            nn.Dropout(p=drop_rate,inplace=True),\n",
    "            \n",
    "            nn.Linear(256,1024),\n",
    "            nn.BatchNorm1d(1024),\n",
    "            nn.LeakyReLU(leak),\n",
    "            nn.Dropout(p=drop_rate,inplace=True),\n",
    "            \n",
    "            nn.Linear(1024,512*2*2),\n",
    "            nn.BatchNorm1d(512*2*2),\n",
    "            nn.LeakyReLU(leak)\n",
    "        )\n",
    "        \n",
    "        self.transConv_layer=nn.Sequential(\n",
    "            \n",
    "            nn.ConvTranspose2d(512,256,3,2,1,1), \n",
    "            nn.BatchNorm2d(256),\n",
    "            nn.ReLU(),\n",
    "            # 4*4\n",
    "            \n",
    "            nn.UpsamplingNearest2d(scale_factor=2),\n",
    "            nn.ConvTranspose2d(256,256,3,1,1,0),\n",
    "            nn.BatchNorm2d(256),\n",
    "            nn.ReLU(),\n",
    "            # 8*8\n",
    "            \n",
    "            nn.UpsamplingNearest2d(scale_factor=2),\n",
    "            nn.ConvTranspose2d(256,128,3,1,1,0),\n",
    "            nn.BatchNorm2d(128),\n",
    "            nn.ReLU(),\n",
    "            # 16*16\n",
    "            \n",
    "            nn.UpsamplingNearest2d(scale_factor=2),\n",
    "            nn.ConvTranspose2d(128,64,3,1,1,0),\n",
    "            nn.BatchNorm2d(64),\n",
    "            nn.ReLU(),\n",
    "            # 32*32\n",
    "            \n",
    "            nn.ConvTranspose2d(64,3,3,1,1,0),\n",
    "            nn.BatchNorm2d(3),\n",
    "            nn.Sigmoid()\n",
    "            # 32*32\n",
    "            \n",
    "        )\n",
    "    \n",
    "    # decode the sampled_z\n",
    "    def forward(self,sampled_z):\n",
    "\n",
    "        out=self.fc_layer(sampled_z)\n",
    "        out=out.view(batch_size,-1,2,2)\n",
    "        out=self.transConv_layer(out)\n",
    "\n",
    "        return out"
   ]
  },
  {
   "cell_type": "markdown",
   "metadata": {},
   "source": [
    "### the Model as a whole\n",
    "* encoder & decoder\n",
    "* sample z"
   ]
  },
  {
   "cell_type": "code",
   "execution_count": 9,
   "metadata": {
    "collapsed": true
   },
   "outputs": [],
   "source": [
    "class VAE(nn.Module):\n",
    "    def __init__(self, encoder, decoder):\n",
    "        super(VAE,self).__init__()\n",
    "        \n",
    "        self.encoder=encoder\n",
    "        self.decoder=decoder\n",
    "    \n",
    "    def sample_z(self, z_mu,z_logvar):\n",
    "        \n",
    "        # sample epsilon ~ N(0, 1)\n",
    "        epsilon=Variable(torch.randn(batch_size,z_dim),requires_grad=False)\n",
    "        \n",
    "        # reparameterization trick\n",
    "        sampled_z=z_mu+torch.mul(torch.exp(z_logvar),epsilon)\n",
    "       \n",
    "        return sampled_z\n",
    "        \n",
    "            \n",
    "    def forward(self,x):\n",
    "        # encode the latent variable from the image\n",
    "        # sample z from the encoded result\n",
    "        # decode the sampled z\n",
    "        \n",
    "        z_mu,z_logvar=self.encoder(x)\n",
    "        \n",
    "        self.z_mu=z_mu\n",
    "        self.z_logvar=z_logvar\n",
    "\n",
    "        sampled_z=self.sample_z(z_mu,z_logvar)\n",
    "\n",
    "        result=self.decoder(sampled_z)\n",
    "        \n",
    "        return result"
   ]
  },
  {
   "cell_type": "markdown",
   "metadata": {},
   "source": [
    "### Check GPU availibility"
   ]
  },
  {
   "cell_type": "code",
   "execution_count": 10,
   "metadata": {},
   "outputs": [
    {
     "name": "stdout",
     "output_type": "stream",
     "text": [
      "Use CPU\n"
     ]
    }
   ],
   "source": [
    "use_gpu = torch.cuda.is_available()\n",
    "if use_gpu:\n",
    "    model = VAE(Encoder(),Decoder()).cuda()\n",
    "    print ('Use GPU')\n",
    "else:\n",
    "    model = VAE(Encoder(),Decoder())\n",
    "    print ('Use CPU')"
   ]
  },
  {
   "cell_type": "code",
   "execution_count": 11,
   "metadata": {
    "collapsed": true
   },
   "outputs": [],
   "source": [
    "def loss_func(generated_image,x,z_mu,z_logvar):\n",
    "    \n",
    "    recon=nn.BCELoss(size_average=False)\n",
    "    reconstruction_loss=recon(generated_image,x)\n",
    "    \n",
    "    # alias the KL-divergence term\n",
    "    latent_loss=-0.5*torch.sum(1+z_logvar-z_mu**2-z_logvar.exp())\n",
    "    \n",
    "    return reconstruction_loss+latent_loss"
   ]
  },
  {
   "cell_type": "code",
   "execution_count": null,
   "metadata": {
    "collapsed": true
   },
   "outputs": [],
   "source": [
    "optimizer=optim.Adam(model.parameters(),lr=learning_rate)"
   ]
  },
  {
   "cell_type": "markdown",
   "metadata": {},
   "source": [
    "## Training"
   ]
  },
  {
   "cell_type": "code",
   "execution_count": null,
   "metadata": {},
   "outputs": [
    {
     "name": "stdout",
     "output_type": "stream",
     "text": [
      "\n",
      "============== No Model to be Restored ==============\n",
      "\n"
     ]
    },
    {
     "name": "stderr",
     "output_type": "stream",
     "text": [
      "/anaconda/envs/pytorch/lib/python3.6/site-packages/torch/nn/modules/upsampling.py:135: UserWarning: nn.UpsamplingNearest2d is deprecated. Use nn.Upsample instead.\n",
      "  warnings.warn(\"nn.UpsamplingNearest2d is deprecated. Use nn.Upsample instead.\")\n"
     ]
    },
    {
     "name": "stdout",
     "output_type": "stream",
     "text": [
      "[Training Epoch: 0 \tn_iter: 0 \tLoss: 147271.453125]\n"
     ]
    },
    {
     "data": {
      "image/png": "[encoded data removed]",
      "text/plain": [
       "<matplotlib.figure.Figure at 0x117109f98>"
      ]
     },
     "metadata": {},
     "output_type": "display_data"
    },
    {
     "name": "stderr",
     "output_type": "stream",
     "text": [
      "/anaconda/envs/pytorch/lib/python3.6/site-packages/torch/serialization.py:147: UserWarning: Couldn't retrieve source code for container of type VAE. It won't be checked for correctness upon loading.\n",
      "  \"type \" + obj.__name__ + \". It won't be checked \"\n",
      "/anaconda/envs/pytorch/lib/python3.6/site-packages/torch/serialization.py:147: UserWarning: Couldn't retrieve source code for container of type Encoder. It won't be checked for correctness upon loading.\n",
      "  \"type \" + obj.__name__ + \". It won't be checked \"\n",
      "/anaconda/envs/pytorch/lib/python3.6/site-packages/torch/serialization.py:147: UserWarning: Couldn't retrieve source code for container of type Decoder. It won't be checked for correctness upon loading.\n",
      "  \"type \" + obj.__name__ + \". It won't be checked \"\n"
     ]
    },
    {
     "name": "stdout",
     "output_type": "stream",
     "text": [
      "[Training Epoch: 0 \tn_iter: 50 \tLoss: 136385.406250]\n"
     ]
    },
    {
     "data": {
      "image/png": "[encoded data removed]",
      "text/plain": [
       "<matplotlib.figure.Figure at 0x13d16cb00>"
      ]
     },
     "metadata": {},
     "output_type": "display_data"
    },
    {
     "name": "stdout",
     "output_type": "stream",
     "text": [
      "[Training Epoch: 0 \tn_iter: 100 \tLoss: 134171.312500]\n"
     ]
    },
    {
     "data": {
      "image/png": "[encoded data removed]",
      "text/plain": [
       "<matplotlib.figure.Figure at 0x115309c88>"
      ]
     },
     "metadata": {},
     "output_type": "display_data"
    },
    {
     "name": "stdout",
     "output_type": "stream",
     "text": [
      "[Training Epoch: 0 \tn_iter: 150 \tLoss: 130211.476562]\n"
     ]
    },
    {
     "data": {
      "image/png": "[encoded data removed]",
      "text/plain": [
       "<matplotlib.figure.Figure at 0x115309cf8>"
      ]
     },
     "metadata": {},
     "output_type": "display_data"
    }
   ],
   "source": [
    "writer=SummaryWriter()\n",
    "\n",
    "try:\n",
    "    model = torch.load('./model/dVAE.pkl')\n",
    "    print(\"\\n================== Model Restored ==================\\n\")\n",
    "except:\n",
    "    print(\"\\n============== No Model to be Restored ==============\\n\")\n",
    "    pass\n",
    "\n",
    "for i in range(num_epoch):\n",
    "    for batch_idx,[image,_] in enumerate(train_loader):\n",
    "        n_iter = (i*len(train_loader))+batch_idx\n",
    "        \n",
    "        if use_gpu:\n",
    "            x=Variable(image).cuda()\n",
    "        else:\n",
    "            x=Variable(image)\n",
    "        # x: batchsize x 3 x 32 x 32\n",
    "        \n",
    "        optimizer.zero_grad()\n",
    "        \n",
    "        reconstructed_image=model(x)\n",
    "        \n",
    "        loss=loss_func(reconstructed_image,x,model.z_mu,model.z_logvar)\n",
    "        loss.backward()\n",
    "        \n",
    "        optimizer.step()\n",
    "        \n",
    "        if batch_idx%50==0:\n",
    "            print('[Training Epoch: {} \\tn_iter: {} \\tLoss: {:.6f}]'.format(\n",
    "                i, n_iter, loss.data[0]))\n",
    "            plt.imshow(reconstructed_image.data[0].numpy().transpose(1,2,0), cmap='hsv')\n",
    "            plt.show(block=True)\n",
    "            \n",
    "            \n",
    "        if batch_idx%200==0:\n",
    "            torch.save(model,'./model/dVAE_'+str(batch_idx)+'.pkl')\n",
    "            torch.save(model,'./model/dVAE.pkl')\n",
    "            \n",
    "        writer.add_scalar('loss',loss.data[0] / len(x),n_iter)\n",
    "  "
   ]
  },
  {
   "cell_type": "markdown",
   "metadata": {},
   "source": [
    "## Sample results"
   ]
  },
  {
   "cell_type": "code",
   "execution_count": null,
   "metadata": {},
   "outputs": [],
   "source": [
    "example_z = Variable(torch.FloatTensor(8*8*z_dim).normal_(0,1).view(64,-1))\n",
    "\n",
    "samples = model.decoder(example_z).data.numpy()\n",
    "fig = plt.figure(figsize=(10, 10))\n",
    "gs = gridspec.GridSpec(8, 8)\n",
    "gs.update(wspace=0.05, hspace=0.05)\n",
    "for i, sample in enumerate(samples):\n",
    "    ax = plt.subplot(gs[i])\n",
    "    plt.axis('off')\n",
    "    ax.set_xticklabels([])\n",
    "    ax.set_yticklabels([])\n",
    "    ax.set_aspect('equal')\n",
    "    plt.imshow(sample.reshape(32, 32,3).transpose(1,2,0), cmap='hsv')\n",
    "fig.savefig(\"generated_images_by_{}epochs.png\".format(num_epoch))"
   ]
  },
  {
   "cell_type": "code",
   "execution_count": null,
   "metadata": {
    "collapsed": true
   },
   "outputs": [],
   "source": []
  }
 ],
 "metadata": {
  "kernelspec": {
   "display_name": "Python3.6 [pytorch]",
   "language": "python",
   "name": "pytorch"
  },
  "language_info": {
   "codemirror_mode": {
    "name": "ipython",
    "version": 3
   },
   "file_extension": ".py",
   "mimetype": "text/x-python",
   "name": "python",
   "nbconvert_exporter": "python",
   "pygments_lexer": "ipython3",
   "version": "3.6.2"
  }
 },
 "nbformat": 4,
 "nbformat_minor": 2
}
