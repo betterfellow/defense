{
 "cells": [
  {
   "cell_type": "markdown",
   "metadata": {},
   "source": [
    "# denoising VAE for CIFAR10"
   ]
  },
  {
   "cell_type": "code",
   "execution_count": 2,
   "metadata": {
    "collapsed": true
   },
   "outputs": [],
   "source": [
    "import numpy as np\n",
    "import torch\n",
    "import torch.nn as nn\n",
    "import torch.optim as optim\n",
    "import torch.nn.init as init\n",
    "import torchvision\n",
    "import torchvision.datasets as dset\n",
    "import torchvision.transforms as transforms\n",
    "from torch.utils.data import DataLoader\n",
    "from torch.autograd import Variable\n",
    "from tensorboard import SummaryWriter\n",
    "import matplotlib.pyplot as plt\n",
    "import matplotlib.gridspec as gridspec\n",
    "% matplotlib inline"
   ]
  },
  {
   "cell_type": "markdown",
   "metadata": {},
   "source": [
    "## Set Hyperparameter"
   ]
  },
  {
   "cell_type": "code",
   "execution_count": 1,
   "metadata": {
    "collapsed": true
   },
   "outputs": [],
   "source": [
    "import sys\n",
    "sys.path.append('../')"
   ]
  },
  {
   "cell_type": "code",
   "execution_count": 3,
   "metadata": {
    "collapsed": true
   },
   "outputs": [],
   "source": [
    "import dataloader"
   ]
  },
  {
   "cell_type": "code",
   "execution_count": 4,
   "metadata": {
    "collapsed": true
   },
   "outputs": [],
   "source": [
    "transform_train = transforms.Compose([\n",
    "    transforms.RandomCrop(32, padding=4),\n",
    "    transforms.RandomHorizontalFlip(),\n",
    "    transforms.ToTensor(),\n",
    "    transforms.Normalize((0.4914, 0.4822, 0.4465), (0.2023, 0.1994, 0.2010)),\n",
    "])\n",
    "transform_test = transforms.Compose([\n",
    "    transforms.ToTensor(),\n",
    "    transforms.Normalize((0.4914, 0.4822, 0.4465), (0.2023, 0.1994, 0.2010)),\n",
    "])"
   ]
  },
  {
   "cell_type": "code",
   "execution_count": 5,
   "metadata": {
    "collapsed": true
   },
   "outputs": [],
   "source": [
    "batch_size=32\n",
    "learning_rate=0.0003\n",
    "num_epoch=20\n",
    "leak=0.05\n",
    "drop_rate=0.02\n",
    "z_dim=64\n",
    "\n",
    "noise_level=0.1"
   ]
  },
  {
   "cell_type": "code",
   "execution_count": 74,
   "metadata": {},
   "outputs": [
    {
     "name": "stdout",
     "output_type": "stream",
     "text": [
      "Files already downloaded and verified\n",
      "Files already downloaded and verified\n"
     ]
    }
   ],
   "source": [
    "traindset = dataloader.dset('../attack/train/*',transform=transform_test)\n",
    "testdset = dataloader.dset('../attack/test/*',transform=transform_test,train=False)"
   ]
  },
  {
   "cell_type": "code",
   "execution_count": 75,
   "metadata": {
    "collapsed": true
   },
   "outputs": [],
   "source": [
    "# image, attacked, label\n",
    "train_loader = dataloader.loader(traindset,batch_size=batch_size, shuffle=False, num_workers=4,drop_last=True)\n",
    "test_loader = dataloader.loader(testdset,batch_size=batch_size, shuffle=False, num_workers=4,drop_last=True)"
   ]
  },
  {
   "cell_type": "code",
   "execution_count": 8,
   "metadata": {
    "collapsed": true
   },
   "outputs": [],
   "source": [
    "for i in enumerate(test_loader):\n",
    "    break"
   ]
  },
  {
   "cell_type": "code",
   "execution_count": 10,
   "metadata": {},
   "outputs": [
    {
     "data": {
      "text/plain": [
       "\n",
       "(0 ,0 ,.,.) = \n",
       "  0.6338  0.6531  0.7694  ...   0.2267  0.0134 -0.1804\n",
       "  0.5174  0.4981  0.6531  ...   0.2073 -0.0060 -0.1223\n",
       "  0.4981  0.4981  0.6338  ...   0.2654  0.0910 -0.1029\n",
       "           ...             ⋱             ...          \n",
       " -1.1109 -1.6149 -1.8281  ...  -1.6924 -2.1771 -1.6537\n",
       " -1.2466 -1.4792 -1.7506  ...  -1.9251 -1.8669 -2.0414\n",
       " -1.3823 -1.3435 -1.5567  ...  -1.9638 -1.7700 -2.0220\n",
       "\n",
       "(0 ,1 ,.,.) = \n",
       " -0.2156 -0.2352 -0.1369  ...  -0.5499 -0.6286 -0.7466\n",
       " -0.2156 -0.2549 -0.1762  ...  -0.5499 -0.6286 -0.6876\n",
       " -0.2549 -0.2746 -0.2352  ...  -0.4909 -0.5499 -0.6679\n",
       "           ...             ⋱             ...          \n",
       "  0.0204 -0.4516 -0.6876  ...  -0.5106 -1.1596 -0.7466\n",
       " -0.1369 -0.4122 -0.7466  ...  -0.8056 -0.8056 -1.1596\n",
       " -0.3139 -0.3532 -0.6679  ...  -0.9039 -0.7662 -1.1006\n",
       "\n",
       "(0 ,2 ,.,.) = \n",
       " -1.2654 -1.3044 -1.2264  ...  -1.5190 -1.5190 -1.5776\n",
       " -1.2264 -1.4410 -1.3434  ...  -1.6166 -1.5971 -1.5580\n",
       " -1.3044 -1.5776 -1.5190  ...  -1.5580 -1.5580 -1.5776\n",
       "           ...             ⋱             ...          \n",
       "  1.2319  0.6661  0.4515  ...   0.6271 -0.1143  0.2564\n",
       "  1.0563  0.6661  0.3540  ...   0.3149  0.2369 -0.1338\n",
       "  0.9003  0.6856  0.3540  ...   0.1979  0.2954 -0.0753\n",
       "     ⋮ \n",
       "\n",
       "(1 ,0 ,.,.) = \n",
       "  2.1264  2.0489  2.0682  ...   2.0876  2.0876  2.0682\n",
       "  2.1845  2.1264  2.1264  ...   2.1458  2.1458  2.1264\n",
       "  2.1652  2.1070  2.1070  ...   2.1264  2.1264  2.1070\n",
       "           ...             ⋱             ...          \n",
       " -0.7426 -1.5955 -2.0608  ...   0.8470  1.0990  1.2153\n",
       " -0.8395 -1.5374 -1.7312  ...   0.9439  1.1571  1.1959\n",
       " -0.7813 -1.2272 -1.3047  ...   0.8276  1.0602  1.1765\n",
       "\n",
       "(1 ,1 ,.,.) = \n",
       "  2.2035  2.1248  2.1445  ...   2.1641  2.1641  2.1445\n",
       "  2.2625  2.2035  2.2035  ...   2.2231  2.2231  2.2035\n",
       "  2.2428  2.1838  2.1838  ...   2.2035  2.2035  2.1838\n",
       "           ...             ⋱             ...          \n",
       " -0.4712 -1.4152 -1.9659  ...   1.2004  1.4561  1.5544\n",
       " -0.5302 -1.2972 -1.5529  ...   1.2988  1.5151  1.5544\n",
       " -0.4319 -0.9432 -1.1006  ...   1.1808  1.4168  1.5151\n",
       "\n",
       "(1 ,2 ,.,.) = \n",
       "  2.3635  2.2855  2.3050  ...   2.3245  2.3245  2.3050\n",
       "  2.4221  2.3635  2.3635  ...   2.3830  2.3830  2.3635\n",
       "  2.4025  2.3440  2.3440  ...   2.3635  2.3635  2.3440\n",
       "           ...             ⋱             ...          \n",
       " -0.4850 -1.4995 -2.0068  ...   1.2709  1.5441  1.7002\n",
       " -0.6215 -1.5190 -1.7922  ...   1.3490  1.6026  1.6807\n",
       " -0.6020 -1.2849 -1.4800  ...   1.2514  1.5051  1.6612\n",
       "     ⋮ \n",
       "\n",
       "(2 ,0 ,.,.) = \n",
       "  0.6338  0.6338  0.2654  ...   1.9907  2.1652  2.1845\n",
       "  0.8664  0.9051  0.4981  ...   2.0682  2.3396  2.3396\n",
       "  0.9439  0.9827  0.6144  ...   2.0295  2.4172  2.3202\n",
       "           ...             ⋱             ...          \n",
       " -1.8281 -1.8475 -1.9251  ...  -1.7118 -2.2546 -2.3515\n",
       " -1.9832 -1.9057 -1.9444  ...  -2.0608 -2.3515 -2.3321\n",
       " -1.8863 -1.8475 -1.8087  ...  -2.3321 -2.3515 -2.2934\n",
       "\n",
       "(2 ,1 ,.,.) = \n",
       "  1.3184  1.2594  0.8464  ...   2.1248  2.2821  2.3215\n",
       "  1.5151  1.4954  1.0431  ...   2.1445  2.4198  2.4395\n",
       "  1.5348  1.5151  1.1021  ...   2.0855  2.4788  2.3805\n",
       "           ...             ⋱             ...          \n",
       " -1.6316 -1.6512 -1.7299  ...  -1.6316 -2.1626 -2.2806\n",
       " -1.7496 -1.6709 -1.7102  ...  -2.0249 -2.3003 -2.2806\n",
       " -1.6119 -1.5726 -1.5332  ...  -2.3003 -2.3199 -2.2609\n",
       "\n",
       "(2 ,2 ,.,.) = \n",
       "  2.1099  2.0319  1.5636  ...   2.3440  2.5196  2.5781\n",
       "  2.2465  2.1879  1.7002  ...   2.3830  2.6562  2.6757\n",
       "  2.1684  2.1099  1.6612  ...   2.3050  2.6757  2.5976\n",
       "           ...             ⋱             ...          \n",
       " -1.3434 -1.3629 -1.4410  ...  -1.3239 -1.9482 -2.1238\n",
       " -1.4605 -1.3825 -1.4215  ...  -1.7531 -2.1629 -2.1629\n",
       " -1.3044 -1.2459 -1.2069  ...  -2.0653 -2.1629 -2.0848\n",
       "...   \n",
       "     ⋮ \n",
       "\n",
       "(29,0 ,.,.) = \n",
       " -0.7232 -0.8201 -0.4712  ...  -0.2386 -0.4518 -0.6457\n",
       " -0.6457 -0.2967  0.1104  ...  -0.2580 -0.3549 -0.3743\n",
       " -0.2386  0.8470  1.0990  ...  -0.7232 -0.5100 -0.3549\n",
       "           ...             ⋱             ...          \n",
       " -1.1497 -0.9946 -0.1223  ...  -1.2078 -1.4404 -1.1497\n",
       " -0.6457 -0.6069 -0.2192  ...  -1.0915 -1.2078 -1.5180\n",
       " -0.7813 -0.5875 -0.3161  ...  -1.5567 -1.3047 -1.5374\n",
       "\n",
       "(29,1 ,.,.) = \n",
       "  0.1188  0.2958  0.9251  ...   0.6891  0.3154  0.0008\n",
       "  0.0991  0.7874  1.0628  ...   0.5514  0.5514  0.6498\n",
       "  0.0008  0.9448  1.0431  ...  -0.1369  0.1188  0.4138\n",
       "           ...             ⋱             ...          \n",
       " -1.5529 -1.3366 -0.0386  ...  -1.0612 -1.2186 -0.9236\n",
       " -0.6679 -0.5499  0.4334  ...  -1.0809 -1.1989 -1.6512\n",
       " -0.5302 -0.2549  0.5318  ...  -1.7692 -1.2579 -1.3562\n",
       "\n",
       "(29,2 ,.,.) = \n",
       " -1.4020 -1.4020 -1.1678  ...  -1.2069 -1.3239 -1.4800\n",
       " -1.5971 -0.8752 -0.4655  ...  -1.4605 -1.3629 -1.1678\n",
       " -1.3044  0.2954  0.3540  ...  -1.5776 -1.5385 -1.3239\n",
       "           ...             ⋱             ...          \n",
       " -1.9287 -1.7336 -0.6411  ...  -1.6751 -1.8897 -1.7531\n",
       " -1.1483 -1.0703 -0.6215  ...  -1.7336 -1.9482 -2.0068\n",
       " -1.2849 -1.1288 -0.9337  ...  -1.9482 -1.8507 -1.8702\n",
       "     ⋮ \n",
       "\n",
       "(30,0 ,.,.) = \n",
       " -1.3241 -0.9170 -0.5487  ...  -0.3549 -1.1109 -1.1303\n",
       " -1.0334 -0.4324 -0.5875  ...  -0.5681 -1.4792 -1.7894\n",
       " -0.8201 -0.4518 -0.1416  ...  -0.8589 -1.1690 -2.0995\n",
       "           ...             ⋱             ...          \n",
       "  0.0522  0.0716 -0.1804  ...  -0.9170 -0.7426  0.2073\n",
       " -0.2967 -0.5875 -0.6844  ...  -0.8201 -0.8201 -0.3549\n",
       " -0.1029 -0.3355 -0.5100  ...  -0.0253 -0.3355 -0.1998\n",
       "\n",
       "(30,1 ,.,.) = \n",
       " -1.8282 -1.2776 -0.9039  ...  -0.9236 -1.5726 -1.4939\n",
       " -1.6906 -0.9236 -1.0219  ...  -0.9826 -1.7692 -2.0446\n",
       " -1.6316 -1.1596 -0.8646  ...  -1.1399 -1.3169 -2.2216\n",
       "           ...             ⋱             ...          \n",
       " -0.4122 -0.3532 -0.5696  ...  -1.2972 -1.2382 -0.5892\n",
       " -0.8646 -1.0809 -1.1006  ...  -1.1596 -1.1596 -0.8842\n",
       " -0.7662 -0.9236 -1.0219  ...  -0.4909 -0.6679 -0.4516\n",
       "\n",
       "(30,2 ,.,.) = \n",
       " -2.1043 -1.5580 -1.1873  ...  -1.5190 -1.9092 -1.6361\n",
       " -2.0068 -1.2849 -1.3434  ...  -1.4020 -1.8897 -1.9873\n",
       " -2.1238 -1.6361 -1.3044  ...  -1.3434 -1.3044 -2.0458\n",
       "           ...             ⋱             ...          \n",
       " -0.7191 -0.6801 -0.9532  ...  -1.7922 -1.6166 -0.8947\n",
       " -1.3044 -1.4800 -1.4995  ...  -1.5190 -1.4605 -1.1093\n",
       " -1.5580 -1.5971 -1.5580  ...  -0.8167 -1.0313 -0.8752\n",
       "     ⋮ \n",
       "\n",
       "(31,0 ,.,.) = \n",
       "  0.0328  0.0910  0.1879  ...   0.1104  0.0522  0.0716\n",
       "  0.0328  0.0134  0.0328  ...   0.0328  0.0134  0.0134\n",
       "  0.0134 -0.0060  0.0134  ...   0.0328  0.0328  0.0134\n",
       "           ...             ⋱             ...          \n",
       " -0.5100 -0.6069 -0.5681  ...  -0.5293 -0.5487 -0.4324\n",
       " -0.3743 -0.3936 -0.5100  ...  -0.5487 -0.7426 -0.4906\n",
       " -0.2386 -0.1610 -0.4130  ...  -0.4518 -0.5875 -0.4324\n",
       "\n",
       "(31,1 ,.,.) = \n",
       "  0.1384  0.1974  0.2761  ...   0.1974  0.1581  0.1581\n",
       "  0.1384  0.1188  0.1384  ...   0.1384  0.1384  0.1384\n",
       "  0.1188  0.0991  0.1188  ...   0.1384  0.1581  0.1384\n",
       "           ...             ⋱             ...          \n",
       " -0.3926 -0.4909 -0.4516  ...  -0.3729 -0.3729 -0.3729\n",
       " -0.2549 -0.2352 -0.3336  ...  -0.3926 -0.5499 -0.3532\n",
       " -0.0976  0.0401 -0.2156  ...  -0.3926 -0.4909 -0.3336\n",
       "\n",
       "(31,2 ,.,.) = \n",
       " -0.6411 -0.5045 -0.3484  ...  -0.3679 -0.4850 -0.4460\n",
       " -0.6215 -0.6020 -0.5435  ...  -0.5630 -0.6411 -0.6215\n",
       " -0.6411 -0.6411 -0.6215  ...  -0.6020 -0.6801 -0.6801\n",
       "           ...             ⋱             ...          \n",
       " -0.9727 -1.0703 -1.0313  ...  -1.0703 -1.0898 -1.0313\n",
       " -0.8557 -0.8557 -0.9922  ...  -1.1483 -1.3239 -1.0703\n",
       " -0.6996 -0.6020 -0.8947  ...  -1.0313 -1.1678 -0.9922\n",
       "[torch.FloatTensor of size 32x3x32x32]"
      ]
     },
     "execution_count": 10,
     "metadata": {},
     "output_type": "execute_result"
    }
   ],
   "source": [
    "i[1][0]"
   ]
  },
  {
   "cell_type": "code",
   "execution_count": 11,
   "metadata": {},
   "outputs": [
    {
     "data": {
      "text/plain": [
       "\n",
       "(0 ,0 ,.,.) = \n",
       "  0.9245  0.9245 -0.0253  ...  -0.4906 -0.6650  0.2267\n",
       "  0.8082 -0.2580 -0.1223  ...  -0.5100 -0.6844  0.2654\n",
       "  0.8082 -0.2580 -0.1416  ...  -0.4518 -0.6069  0.2848\n",
       "           ...             ⋱             ...          \n",
       " -1.6149 -2.0414 -1.1690  ...  -1.0527 -1.4792 -2.0801\n",
       " -1.7312 -0.8783 -2.1577  ...  -1.2660 -2.2740 -1.3629\n",
       " -0.8007 -0.7620 -2.0026  ...  -1.2854 -2.1771 -1.3435\n",
       "\n",
       "(0 ,1 ,.,.) = \n",
       "  0.1974  0.1974 -0.8056  ...  -0.0779 -1.2186 -1.3169\n",
       " -0.8646 -0.9039  0.2368  ...  -0.0779 -1.2186 -1.2579\n",
       "  0.1778 -0.9236  0.1974  ...  -0.0189 -1.1399 -1.2579\n",
       "           ...             ⋱             ...          \n",
       "  0.4138  0.0008 -0.1959  ...  -0.0386 -0.5892 -1.3169\n",
       " -0.8056 -1.0219 -0.2549  ...  -0.2942 -1.3562 -0.5892\n",
       "  0.1188  0.0794 -0.1762  ...  -0.3729 -1.3366 -1.6119\n",
       "\n",
       "(0 ,2 ,.,.) = \n",
       " -1.7336 -0.6996 -1.6946  ...  -0.8752 -0.8752 -1.9873\n",
       " -1.6946 -0.8167 -0.7386  ...  -0.9532 -0.9532 -0.9142\n",
       " -1.7531 -1.9873 -0.8752  ...  -1.9678 -0.9142 -1.9873\n",
       "           ...             ⋱             ...          \n",
       "  1.4661 -0.0753  0.8027  ...   0.9393  0.3149 -0.4264\n",
       "  1.3100 -0.0753  0.7052  ...   0.6856 -0.4460  0.2954\n",
       "  1.1734 -0.0753 -0.3484  ...   0.5881 -0.4069  0.3540\n",
       "     ⋮ \n",
       "\n",
       "(1 ,0 ,.,.) = \n",
       "  1.3510  2.3202  2.3396  ...   2.3590  2.3590  1.3122\n",
       "  2.4365  2.3784  1.3510  ...   2.3978  2.3978  1.3510\n",
       "  1.3898  1.3316  2.3784  ...   1.3510  2.3784  2.3784\n",
       "           ...             ⋱             ...          \n",
       " -0.0060 -1.7312 -1.0915  ...   1.3316  0.4981  1.6224\n",
       " -1.1109 -1.6924 -0.8201  ...   0.3817  1.5836  0.5756\n",
       " -0.0253 -0.3936 -0.4712  ...   0.2848  0.4787  1.6030\n",
       "\n",
       "(1 ,1 ,.,.) = \n",
       "  1.4168  1.3578  2.4198  ...   1.3971  1.3971  1.3774\n",
       "  2.5181  2.4591  2.4591  ...   1.4364  2.4788  1.4168\n",
       "  1.4561  2.4591  2.4591  ...   1.4168  2.4591  1.3971\n",
       "           ...             ⋱             ...          \n",
       "  0.2368 -1.5922 -1.0022  ...   1.6331  1.8495  1.9281\n",
       "  0.1974 -1.4939 -0.6482  ...   1.7118  1.8888  0.8858\n",
       "  0.2761 -0.1566 -0.2746  ...   1.6134  1.8101  0.8464\n",
       "\n",
       "(1 ,2 ,.,.) = \n",
       "  1.5831  1.5246  1.5441  ...   1.5636  2.5976  2.5781\n",
       "  2.6757  1.5831  1.5831  ...   1.6026  2.6367  1.5831\n",
       "  1.6221  2.6172  2.6172  ...   1.5831  2.6172  1.5636\n",
       "           ...             ⋱             ...          \n",
       "  0.2564 -1.6166 -1.0118  ...   1.7197  0.9003  2.0709\n",
       "  0.1394 -1.6361 -1.8702  ...   1.7782  1.9928  1.0173\n",
       "  0.1589 -0.4069 -0.5630  ...   1.7002  1.9148  0.9978\n",
       "     ⋮ \n",
       "\n",
       "(2 ,0 ,.,.) = \n",
       "  0.0134  1.0214 -0.2967  ...   2.1264  1.2541  1.2735\n",
       "  1.2153  0.2267  0.9051  ...   2.2039  2.4172  1.4091\n",
       "  0.2654  1.3122  1.0021  ...   2.1652  2.4753  2.3978\n",
       "           ...             ⋱             ...          \n",
       " -0.9946 -0.9946 -2.0801  ...  -0.8977 -1.3435 -2.4291\n",
       " -2.1189 -1.0527 -1.0915  ...  -2.1964 -1.4211 -1.4017\n",
       " -2.0414 -2.0220 -0.9752  ...  -2.4097 -1.4211 -2.3903\n",
       "\n",
       "(2 ,1 ,.,.) = \n",
       "  0.5711  0.5318  0.1778  ...   1.2398  1.3578  1.3971\n",
       "  0.7284  0.7088  1.3774  ...   1.2398  2.4985  2.5181\n",
       "  1.7708  1.7511  1.4168  ...   1.2004  1.5151  2.4591\n",
       "           ...             ⋱             ...          \n",
       " -1.8479 -1.8479 -1.9266  ...  -1.8479 -1.2382 -2.3789\n",
       " -1.9266 -1.8676 -0.8842  ...  -2.1626 -1.3562 -2.3789\n",
       " -0.7859 -0.7662 -0.7269  ...  -1.3562 -1.3759 -2.3593\n",
       "\n",
       "(2 ,2 ,.,.) = \n",
       "  2.2660  2.2074  0.8027  ...   1.4465  1.5831  2.6562\n",
       "  2.3830  1.3100  1.9343  ...   1.4856  2.7147  1.7197\n",
       "  1.3100  2.2660  1.9148  ...   1.4075  1.7197  2.6757\n",
       "           ...             ⋱             ...          \n",
       " -0.5435 -0.5630 -1.6556  ...  -1.5580 -1.0508 -2.2019\n",
       " -1.6556 -1.5971 -0.6020  ...  -1.9092 -1.2264 -1.2264\n",
       " -0.5240 -1.4800 -1.4605  ...  -1.1288 -1.2264 -2.1824\n",
       "...   \n",
       "     ⋮ \n",
       "\n",
       "(29,0 ,.,.) = \n",
       "  0.3236 -0.9364  0.5756  ...   0.7888  0.5756 -0.7813\n",
       "  0.4011  0.7307  1.1184  ...   0.7694 -0.4906  0.6531\n",
       "  0.7888  1.8162  2.0489  ...  -0.8395 -0.6457  0.6725\n",
       "           ...             ⋱             ...          \n",
       " -1.2466 -1.1109  0.9051  ...  -0.1416 -0.3549 -0.0835\n",
       " -0.7813 -0.7426  0.8082  ...  -1.1884 -1.3047 -0.4324\n",
       " -0.8977 -0.7232  0.7113  ...  -1.6343 -1.4017 -0.4518\n",
       "\n",
       "(29,1 ,.,.) = \n",
       "  1.1414  0.1188  0.7088  ...   0.4924  0.1384  1.0234\n",
       " -0.0779  0.5908  0.8464  ...   0.3548  0.3548  0.4531\n",
       " -0.1566  0.7284  2.0265  ...  -0.2942 -0.0582  0.2368\n",
       "           ...             ⋱             ...          \n",
       " -0.4516 -0.2352 -0.1959  ...   0.0204 -1.3169 -1.0416\n",
       "  0.3941  0.5121  0.2564  ...  -1.1792 -1.2972 -1.7299\n",
       "  0.5318  0.7874  0.3351  ...  -0.6482 -0.1566 -0.2549\n",
       "\n",
       "(29,2 ,.,.) = \n",
       " -0.2899 -0.2899 -0.0753  ...  -0.1143 -0.2313 -1.5580\n",
       " -0.4850  0.1979 -0.6020  ...  -0.3484 -0.2704 -0.0753\n",
       " -1.3825  0.1198  0.1784  ...  -0.4655 -0.4264 -1.4020\n",
       "           ...             ⋱             ...          \n",
       " -1.9873 -1.7922  0.4320  ...  -0.5630 -0.7581 -0.6215\n",
       " -1.2459  0.0223  0.4515  ...  -1.7922 -0.8167 -2.0458\n",
       " -1.3629 -1.2264 -1.0313  ...  -2.0068 -1.9092 -1.9287\n",
       "     ⋮ \n",
       "\n",
       "(30,0 ,.,.) = \n",
       " -0.0641 -0.9170 -0.5293  ...  -0.3355  0.1491 -1.1303\n",
       "  0.2267  0.8470 -0.5875  ...  -0.5487 -0.2192 -0.5293\n",
       "  0.4399  0.8276  1.1378  ...   0.4011 -1.1690 -0.8589\n",
       "           ...             ⋱             ...          \n",
       "  0.0716  1.3510 -0.1610  ...   0.3430 -0.7426  0.2267\n",
       "  0.9827 -0.5875 -0.6844  ...   0.4399  0.4399 -0.3355\n",
       " -0.0835  0.9439  0.7694  ...   1.2541  0.9439 -0.1804\n",
       "\n",
       "(30,1 ,.,.) = \n",
       " -0.5696 -1.2776  0.3744  ...  -0.9236 -0.2942 -1.4939\n",
       " -1.6906  0.3548 -1.0219  ...   0.2958 -0.4909 -0.7859\n",
       " -1.6316 -1.1596 -0.8646  ...   0.1384 -1.3169 -0.9629\n",
       "           ...             ⋱             ...          \n",
       "  0.8858  0.9448  0.7284  ...  -0.0189  0.0401 -0.5892\n",
       " -0.8646  0.1974  0.1778  ...  -1.1596  0.1188 -0.8842\n",
       " -0.7662  0.3548  0.2564  ...  -0.4712  0.6104  0.8464\n",
       "\n",
       "(30,2 ,.,.) = \n",
       " -0.8557 -0.2899  0.0808  ...  -0.2509 -0.6606 -1.6556\n",
       " -2.0263 -0.0167 -1.3434  ...  -0.1338 -0.6411 -0.7386\n",
       " -2.1434 -0.3874 -1.3044  ...  -0.0753 -1.3044 -2.0653\n",
       "           ...             ⋱             ...          \n",
       "  0.5491  0.5881  0.3149  ...  -0.5435 -0.3679 -0.8947\n",
       " -1.3044 -0.2118 -0.2313  ...  -1.5190 -0.1923 -1.1093\n",
       " -1.5580 -0.3289 -0.2899  ...  -0.8167  0.2369 -0.8752\n",
       "     ⋮ \n",
       "\n",
       "(31,0 ,.,.) = \n",
       " -0.5487  0.7501 -0.3936  ...   0.7694  0.7113 -0.5100\n",
       "  0.6919 -0.5681 -0.5487  ...   0.6919 -0.5681  0.6725\n",
       " -0.5681 -0.5875 -0.5681  ...   0.6919 -0.5487  0.6725\n",
       "           ...             ⋱             ...          \n",
       "  0.1491 -1.2078 -1.1497  ...  -1.1109  0.1104 -1.0140\n",
       "  0.2848  0.2654  0.1491  ...   0.1104 -0.0835  0.1685\n",
       "  0.4205 -0.7426 -0.9946  ...  -1.0334 -1.1690 -1.0140\n",
       "\n",
       "(31,1 ,.,.) = \n",
       " -0.4516  0.8661 -0.3139  ...  -0.3926  0.8268 -0.4319\n",
       "  0.8071 -0.4712  0.8071  ...  -0.4516 -0.4516  0.8071\n",
       " -0.4712  0.7678  0.7874  ...   0.8071 -0.4319  0.8071\n",
       "           ...             ⋱             ...          \n",
       " -0.9826 -1.0809  0.2171  ...  -0.9629 -0.9629  0.2958\n",
       " -0.8449  0.4334  0.3351  ...  -0.9826 -1.1399  0.3154\n",
       " -0.6876 -0.5499 -0.8056  ...  -0.9826  0.1778  0.3351\n",
       "\n",
       "(31,2 ,.,.) = \n",
       " -1.2459  0.1589  0.3149  ...   0.2954  0.1784 -1.0508\n",
       "  0.0418 -1.2069  0.1198  ...  -1.1678 -1.2459  0.0418\n",
       " -1.2459 -1.2459 -1.2264  ...  -1.2069 -1.2849 -0.0167\n",
       "           ...             ⋱             ...          \n",
       " -0.3094 -1.6751 -1.6361  ...  -1.6751 -1.6946 -1.6361\n",
       " -0.1923 -0.1923 -1.5971  ...  -0.4850 -1.9287 -1.6751\n",
       " -0.0362 -1.2069 -1.4995  ...  -0.3679 -1.7727 -1.5971\n",
       "[torch.FloatTensor of size 32x3x32x32]"
      ]
     },
     "execution_count": 11,
     "metadata": {},
     "output_type": "execute_result"
    }
   ],
   "source": [
    "i[1][1]"
   ]
  },
  {
   "cell_type": "markdown",
   "metadata": {},
   "source": [
    "## CIFAR10 dataset.\n",
    "It has 10 classes: \n",
    "\n",
    "‘airplane’, ‘automobile’, ‘bird’, ‘cat’, ‘deer’,\n",
    "‘dog’, ‘frog’, ‘horse’, ‘ship’, ‘truck’. \n",
    "\n",
    "The images in CIFAR-10 are of\n",
    "size 3x32x32, i.e. 3-channel color images of 32x32 pixels in size."
   ]
  },
  {
   "cell_type": "code",
   "execution_count": 8,
   "metadata": {
    "collapsed": true
   },
   "outputs": [],
   "source": [
    "# The output of torchvision datasets are PILImage images of range [0, 1].\n",
    "# We transform them to Tensors of normalized range [-1, 1]\n",
    "# Transforms are common image transforms. They can be chained together using `Compose`\n",
    "\n",
    "transform_config = transforms.Compose(\n",
    "    [transforms.ToTensor(),\n",
    "     #transforms.Normalize((0.4914, 0.4822, 0.4465), (0.2023, 0.1994, 0.2010))])\n",
    "     transforms.Normalize((0.5,0.5,0.5),(0.5,0.5,0.5))])"
   ]
  },
  {
   "cell_type": "code",
   "execution_count": 47,
   "metadata": {},
   "outputs": [
    {
     "name": "stdout",
     "output_type": "stream",
     "text": [
      "Files already downloaded and verified\n",
      "Files already downloaded and verified\n"
     ]
    }
   ],
   "source": [
    "# Download the data\n",
    "cifar_train=dset.CIFAR10(root=\"../data/\", train=True, transform=transforms.ToTensor(), target_transform=None, download=True)\n",
    "cifar_test=dset.CIFAR10(root=\"../data/\", train=False, transform=transforms.ToTensor(), target_transform=None, download=True)"
   ]
  },
  {
   "cell_type": "code",
   "execution_count": 49,
   "metadata": {
    "collapsed": true
   },
   "outputs": [],
   "source": [
    "# i[0] == index, i[1][1] = label, i[1][0] = data (FloatTensor)\n",
    "real_train_loader=torch.utils.data.DataLoader(cifar_train,batch_size=batch_size, shuffle=False, num_workers=2,drop_last=True)\n",
    "real_test_loader=torch.utils.data.DataLoader(cifar_test,batch_size=batch_size,shuffle=False,num_workers=2,drop_last=True)"
   ]
  },
  {
   "cell_type": "code",
   "execution_count": 37,
   "metadata": {
    "collapsed": true
   },
   "outputs": [],
   "source": [
    " tmp = nn.LogSoftmax()"
   ]
  },
  {
   "cell_type": "markdown",
   "metadata": {},
   "source": [
    "## Model\n"
   ]
  },
  {
   "cell_type": "markdown",
   "metadata": {},
   "source": [
    "### Encoder\n",
    "* Two outputs\n",
    "    * z_mu\n",
    "    * z_logvar"
   ]
  },
  {
   "cell_type": "code",
   "execution_count": 23,
   "metadata": {
    "collapsed": true
   },
   "outputs": [],
   "source": [
    "class Encoder(nn.Module):\n",
    "    def __init__(self):\n",
    "        super(Encoder,self).__init__()\n",
    "        \n",
    "        # output size = (image_width - kernel_width)/stride +1\n",
    "        \n",
    "        # torch.nn.Conv2d(in_channels, out_channels, kernel_size,\n",
    "        #                 stride=1, padding=0, dilation=1,\n",
    "        #                 groups=1, bias=True)\n",
    "\n",
    "\n",
    "\n",
    "        self.conv_layer = nn.Sequential(\n",
    "                        nn.Conv2d(3,64,3,padding=1),\n",
    "                        nn.BatchNorm2d(64),\n",
    "                        nn.ReLU(),\n",
    "                        nn.Dropout(p=drop_rate,inplace=True),\n",
    "                        # batch_size*  32*32  *64 featuremaps\n",
    "            \n",
    "                        nn.Conv2d(64,128,3,padding=1), \n",
    "                        nn.BatchNorm2d(128),\n",
    "                        nn.ReLU(),\n",
    "                        nn.Dropout(p=drop_rate,inplace=True),\n",
    "                        nn.MaxPool2d(2,2),\n",
    "                        # batch_size*  16*16  *128 featuremaps\n",
    "            \n",
    "                        nn.Conv2d(128,256,3,padding=1),\n",
    "                        nn.BatchNorm2d(256),\n",
    "                        nn.ReLU(),\n",
    "                        nn.Dropout(p=drop_rate,inplace=True),\n",
    "                        nn.MaxPool2d(2,2),\n",
    "                        # batch_size*  8*8  *256 featuremaps\n",
    "            \n",
    "            \n",
    "                        nn.Conv2d(256,256,3,padding=1,stride=2), # ((8+1*2) - 3)/2 +1 = 4\n",
    "                        nn.BatchNorm2d(256),\n",
    "                        nn.ReLU(),\n",
    "                        nn.Dropout(p=drop_rate,inplace=True),\n",
    "                        # batch_size*  4*4  *256 featuremaps\n",
    "                \n",
    "                        nn.Conv2d(256,1024,4, padding=0),  # ((4 - 2)/1 +1 = 28\n",
    "                        nn.BatchNorm2d(1024),\n",
    "                        nn.ReLU()\n",
    "                        # batch_size*  1*1  *1024 featuremaps\n",
    "            \n",
    "        )\n",
    "        \n",
    "        self.fc_layer = nn.Sequential(\n",
    "                        nn.Linear(1*1*1024,512),\n",
    "                        nn.LeakyReLU(leak),\n",
    "                        nn.Dropout(p=drop_rate,inplace=True),\n",
    "                        nn.Linear(512,128),\n",
    "                        nn.LeakyReLU(leak)\n",
    "        )\n",
    "   \n",
    "        # ===== Two output vectors generated by the Encoder =====\n",
    "        \n",
    "        # One for z_mu\n",
    "        self.z_mu=nn.Sequential(\n",
    "            nn.Linear(128,z_dim),\n",
    "            nn.LeakyReLU(leak)\n",
    "        )\n",
    "        \n",
    "        # Another for z_logvar\n",
    "        self.z_logvar=nn.Sequential(\n",
    "            nn.Linear(128,z_dim),\n",
    "            nn.LeakyReLU(leak)\n",
    "        )\n",
    "        \n",
    "        \n",
    "    def forward(self,x):\n",
    "        out=self.conv_layer(x)\n",
    "        out=out.view(batch_size,-1)\n",
    "        \n",
    "        out=self.fc_layer(out)\n",
    "\n",
    "        z_mu=self.z_mu(out)\n",
    "        z_logvar=self.z_logvar(out)\n",
    "        \n",
    "        return z_mu,z_logvar"
   ]
  },
  {
   "cell_type": "markdown",
   "metadata": {},
   "source": [
    "### Decoder\n",
    "* input: sampled_z\n",
    "* output: reconstructed image"
   ]
  },
  {
   "cell_type": "code",
   "execution_count": 22,
   "metadata": {
    "collapsed": true
   },
   "outputs": [],
   "source": [
    "# torch.nn.ConvTranspose2d(in_channels, out_channels, kernel_size, stride=1, padding=0, \n",
    "#   output_padding=0, groups=1, bias=True, dilation=1)\n",
    "\n",
    "# H_out=(H_in−1)∗stride(4th) + kernel_size(3rd) − 2∗padding(5th) + output_padding\n",
    "\n",
    "class Decoder(nn.Module):\n",
    "    def __init__(self):\n",
    "        super(Decoder,self).__init__()\n",
    "        \n",
    "        self.fc_layer=nn.Sequential(\n",
    "            nn.Linear(z_dim,128),\n",
    "            nn.BatchNorm1d(128),\n",
    "            nn.LeakyReLU(leak),\n",
    "            nn.Dropout(p=drop_rate,inplace=True),\n",
    "            \n",
    "            nn.Linear(128,256),\n",
    "            nn.BatchNorm1d(256),\n",
    "            nn.LeakyReLU(leak),\n",
    "            nn.Dropout(p=drop_rate,inplace=True),\n",
    "            \n",
    "            nn.Linear(256,1024),\n",
    "            nn.BatchNorm1d(1024),\n",
    "            nn.LeakyReLU(leak),\n",
    "            nn.Dropout(p=drop_rate,inplace=True),\n",
    "            \n",
    "            nn.Linear(1024,512*2*2),\n",
    "            nn.BatchNorm1d(512*2*2),\n",
    "            nn.LeakyReLU(leak)\n",
    "        )\n",
    "        \n",
    "        self.transConv_layer=nn.Sequential(\n",
    "            \n",
    "            nn.ConvTranspose2d(512,256,3,2,1,1), \n",
    "            nn.BatchNorm2d(256),\n",
    "            nn.ReLU(),\n",
    "            # 4*4\n",
    "            \n",
    "            nn.Upsample(scale_factor=2),\n",
    "            nn.ConvTranspose2d(256,256,3,1,1,0),\n",
    "            nn.BatchNorm2d(256),\n",
    "            nn.ReLU(),\n",
    "            # 8*8\n",
    "            \n",
    "            nn.Upsample(scale_factor=2),\n",
    "            nn.ConvTranspose2d(256,128,3,1,1,0),\n",
    "            nn.BatchNorm2d(128),\n",
    "            nn.ReLU(),\n",
    "            # 16*16\n",
    "            \n",
    "            nn.Upsample(scale_factor=2),\n",
    "            nn.ConvTranspose2d(128,64,3,1,1,0),\n",
    "            nn.BatchNorm2d(64),\n",
    "            nn.ReLU(),\n",
    "            # 32*32\n",
    "            \n",
    "            nn.ConvTranspose2d(64,3,3,1,1,0),\n",
    "            nn.BatchNorm2d(3),\n",
    "            nn.Sigmoid()\n",
    "            # 32*32\n",
    "            \n",
    "        )\n",
    "    \n",
    "    # decode the sampled_z\n",
    "    def forward(self,sampled_z):\n",
    "\n",
    "        out=self.fc_layer(sampled_z)\n",
    "        out=out.view(batch_size,-1,2,2)\n",
    "        out=self.transConv_layer(out)\n",
    "\n",
    "        return out"
   ]
  },
  {
   "cell_type": "code",
   "execution_count": 27,
   "metadata": {
    "collapsed": true
   },
   "outputs": [],
   "source": [
    "## check GPU availability here bro\n",
    "use_gpu = torch.cuda.is_available()"
   ]
  },
  {
   "cell_type": "markdown",
   "metadata": {},
   "source": [
    "### the Model as a whole\n",
    "* encoder & decoder\n",
    "* sample z"
   ]
  },
  {
   "cell_type": "code",
   "execution_count": 24,
   "metadata": {
    "collapsed": true
   },
   "outputs": [],
   "source": [
    "class VAE(nn.Module):\n",
    "    def __init__(self, encoder, decoder):\n",
    "        super(VAE,self).__init__()\n",
    "        \n",
    "        self.encoder=encoder\n",
    "        self.decoder=decoder\n",
    "    \n",
    "    def sample_z(self, z_mu,z_logvar):\n",
    "        \n",
    "        # sample epsilon ~ N(0, 1)\n",
    "        \n",
    "        epsilon=Variable(torch.randn(batch_size,z_dim),requires_grad=False)\n",
    "        if use_gpu:\n",
    "            epsilon = epsilon.cuda()\n",
    "        else:\n",
    "            pass\n",
    "        \n",
    "        # reparameterization trick\n",
    "        sampled_z=z_mu+torch.mul(torch.exp(z_logvar),epsilon)\n",
    "       \n",
    "        return sampled_z\n",
    "        \n",
    "            \n",
    "    def forward(self,x):\n",
    "        # encode the latent variable from the image\n",
    "        # sample z from the encoded result\n",
    "        # decode the sampled z\n",
    "        \n",
    "        z_mu,z_logvar=self.encoder(x)\n",
    "        \n",
    "        self.z_mu=z_mu\n",
    "        self.z_logvar=z_logvar\n",
    "\n",
    "        sampled_z=self.sample_z(z_mu,z_logvar)\n",
    "\n",
    "        result=self.decoder(sampled_z)\n",
    "        \n",
    "        return result"
   ]
  },
  {
   "cell_type": "markdown",
   "metadata": {},
   "source": [
    "### Check GPU availibility"
   ]
  },
  {
   "cell_type": "code",
   "execution_count": 15,
   "metadata": {},
   "outputs": [
    {
     "name": "stdout",
     "output_type": "stream",
     "text": [
      "Use GPU\n"
     ]
    }
   ],
   "source": [
    "if use_gpu:\n",
    "    model = VAE(Encoder(),Decoder()).cuda()\n",
    "    print ('Use GPU')\n",
    "else:\n",
    "    model = VAE(Encoder(),Decoder())\n",
    "    print ('Use CPU')"
   ]
  },
  {
   "cell_type": "markdown",
   "metadata": {},
   "source": [
    "### Function for adding noise in the input"
   ]
  },
  {
   "cell_type": "code",
   "execution_count": 76,
   "metadata": {
    "collapsed": true
   },
   "outputs": [],
   "source": [
    "def add_noise(x,noise_level=1):\n",
    "    \n",
    "    noise=noise_level*init.normal(torch.FloatTensor(batch_size,3,32,32),0,0.1)\n",
    "    \n",
    "    noise=Variable(noise)\n",
    "    \n",
    "    if use_gpu:\n",
    "        noise=noise.cuda()\n",
    "    else:\n",
    "        pass\n",
    "        \n",
    "    result=x+noise\n",
    "\n",
    "    return result"
   ]
  },
  {
   "cell_type": "markdown",
   "metadata": {},
   "source": [
    "## Loss function & Optimizer for dVAE"
   ]
  },
  {
   "cell_type": "code",
   "execution_count": 77,
   "metadata": {
    "collapsed": true
   },
   "outputs": [],
   "source": [
    "def loss_func(generated_image,x,z_mu,z_logvar):\n",
    "    \n",
    "    recon=nn.MSELoss(size_average=False)\n",
    "    reconstruction_loss=recon(generated_image,x)\n",
    "    # alias the KL-divergence term\n",
    "    latent_loss=-0.5*torch.sum(1+z_logvar-z_mu**2-z_logvar.exp())\n",
    "#    latent_loss = torch.sum(0.5 * (z_mu**2 + torch.exp(z_logvar) -z_logvar - 1))\n",
    "    \n",
    "    return reconstruction_loss+latent_loss"
   ]
  },
  {
   "cell_type": "code",
   "execution_count": 78,
   "metadata": {
    "collapsed": true
   },
   "outputs": [],
   "source": [
    "optimizer=optim.Adam(model.parameters(),lr=learning_rate)"
   ]
  },
  {
   "cell_type": "code",
   "execution_count": 25,
   "metadata": {
    "collapsed": true
   },
   "outputs": [],
   "source": [
    "model = torch.load('./model/dVAE.pkl')"
   ]
  },
  {
   "cell_type": "markdown",
   "metadata": {},
   "source": [
    "## Training"
   ]
  },
  {
   "cell_type": "code",
   "execution_count": 80,
   "metadata": {},
   "outputs": [
    {
     "name": "stdout",
     "output_type": "stream",
     "text": [
      "\n",
      "================== Model Restored ==================\n",
      "\n"
     ]
    },
    {
     "name": "stderr",
     "output_type": "stream",
     "text": [
      "/home/voithru/anaconda3/envs/torch/lib/python3.6/site-packages/torch/serialization.py:147: UserWarning: Couldn't retrieve source code for container of type VAE. It won't be checked for correctness upon loading.\n",
      "  \"type \" + obj.__name__ + \". It won't be checked \"\n",
      "/home/voithru/anaconda3/envs/torch/lib/python3.6/site-packages/torch/serialization.py:147: UserWarning: Couldn't retrieve source code for container of type Encoder. It won't be checked for correctness upon loading.\n",
      "  \"type \" + obj.__name__ + \". It won't be checked \"\n",
      "/home/voithru/anaconda3/envs/torch/lib/python3.6/site-packages/torch/serialization.py:147: UserWarning: Couldn't retrieve source code for container of type Decoder. It won't be checked for correctness upon loading.\n",
      "  \"type \" + obj.__name__ + \". It won't be checked \"\n",
      "Process Process-63:\n",
      "  File \"/home/voithru/anaconda3/envs/torch/lib/python3.6/multiprocessing/synchronize.py\", line 96, in __enter__\n",
      "    return self._semlock.__enter__()\n",
      "Process Process-64:\n",
      "Process Process-62:\n",
      "Process Process-61:\n",
      "Traceback (most recent call last):\n",
      "Traceback (most recent call last):\n",
      "Traceback (most recent call last):\n",
      "Traceback (most recent call last):\n",
      "  File \"/home/voithru/anaconda3/envs/torch/lib/python3.6/multiprocessing/process.py\", line 249, in _bootstrap\n",
      "    self.run()\n",
      "  File \"/home/voithru/anaconda3/envs/torch/lib/python3.6/multiprocessing/process.py\", line 249, in _bootstrap\n",
      "    self.run()\n",
      "  File \"/home/voithru/anaconda3/envs/torch/lib/python3.6/multiprocessing/process.py\", line 93, in run\n",
      "    self._target(*self._args, **self._kwargs)\n",
      "  File \"/home/voithru/anaconda3/envs/torch/lib/python3.6/site-packages/torch/utils/data/dataloader.py\", line 34, in _worker_loop\n",
      "    r = index_queue.get()\n",
      "  File \"/home/voithru/anaconda3/envs/torch/lib/python3.6/multiprocessing/process.py\", line 249, in _bootstrap\n",
      "    self.run()\n",
      "  File \"/home/voithru/anaconda3/envs/torch/lib/python3.6/multiprocessing/process.py\", line 249, in _bootstrap\n",
      "    self.run()\n",
      "  File \"/home/voithru/anaconda3/envs/torch/lib/python3.6/multiprocessing/process.py\", line 93, in run\n",
      "    self._target(*self._args, **self._kwargs)\n",
      "  File \"/home/voithru/anaconda3/envs/torch/lib/python3.6/multiprocessing/process.py\", line 93, in run\n",
      "    self._target(*self._args, **self._kwargs)\n",
      "  File \"/home/voithru/anaconda3/envs/torch/lib/python3.6/multiprocessing/queues.py\", line 341, in get\n",
      "    with self._rlock:\n",
      "  File \"/home/voithru/anaconda3/envs/torch/lib/python3.6/site-packages/torch/utils/data/dataloader.py\", line 34, in _worker_loop\n",
      "    r = index_queue.get()\n",
      "  File \"/home/voithru/anaconda3/envs/torch/lib/python3.6/site-packages/torch/utils/data/dataloader.py\", line 34, in _worker_loop\n",
      "    r = index_queue.get()\n",
      "  File \"/home/voithru/anaconda3/envs/torch/lib/python3.6/multiprocessing/synchronize.py\", line 96, in __enter__\n",
      "    return self._semlock.__enter__()\n",
      "KeyboardInterrupt\n",
      "  File \"/home/voithru/anaconda3/envs/torch/lib/python3.6/multiprocessing/queues.py\", line 341, in get\n",
      "    with self._rlock:\n",
      "  File \"/home/voithru/anaconda3/envs/torch/lib/python3.6/multiprocessing/queues.py\", line 342, in get\n",
      "    res = self._reader.recv_bytes()\n",
      "  File \"/home/voithru/anaconda3/envs/torch/lib/python3.6/multiprocessing/connection.py\", line 216, in recv_bytes\n",
      "    buf = self._recv_bytes(maxlength)\n",
      "  File \"/home/voithru/anaconda3/envs/torch/lib/python3.6/multiprocessing/connection.py\", line 407, in _recv_bytes\n",
      "    buf = self._recv(4)\n",
      "KeyboardInterrupt\n",
      "  File \"/home/voithru/anaconda3/envs/torch/lib/python3.6/multiprocessing/connection.py\", line 379, in _recv\n",
      "    chunk = read(handle, remaining)\n",
      "KeyboardInterrupt\n",
      "  File \"/home/voithru/anaconda3/envs/torch/lib/python3.6/multiprocessing/process.py\", line 93, in run\n",
      "    self._target(*self._args, **self._kwargs)\n",
      "  File \"/home/voithru/anaconda3/envs/torch/lib/python3.6/site-packages/torch/utils/data/dataloader.py\", line 34, in _worker_loop\n",
      "    r = index_queue.get()\n",
      "  File \"/home/voithru/anaconda3/envs/torch/lib/python3.6/multiprocessing/queues.py\", line 341, in get\n",
      "    with self._rlock:\n",
      "  File \"/home/voithru/anaconda3/envs/torch/lib/python3.6/multiprocessing/synchronize.py\", line 96, in __enter__\n",
      "    return self._semlock.__enter__()\n",
      "KeyboardInterrupt\n"
     ]
    },
    {
     "ename": "KeyboardInterrupt",
     "evalue": "",
     "output_type": "error",
     "traceback": [
      "\u001b[0;31m---------------------------------------------------------------------------\u001b[0m",
      "\u001b[0;31mKeyboardInterrupt\u001b[0m                         Traceback (most recent call last)",
      "\u001b[0;32m<ipython-input-80-2b77a5317d57>\u001b[0m in \u001b[0;36m<module>\u001b[0;34m()\u001b[0m\n\u001b[1;32m     24\u001b[0m \u001b[0;34m\u001b[0m\u001b[0m\n\u001b[1;32m     25\u001b[0m         \u001b[0;31m# reconstructed based on the noise added image\u001b[0m\u001b[0;34m\u001b[0m\u001b[0;34m\u001b[0m\u001b[0m\n\u001b[0;32m---> 26\u001b[0;31m         \u001b[0mreconstructed_image\u001b[0m\u001b[0;34m=\u001b[0m\u001b[0mmodel\u001b[0m\u001b[0;34m(\u001b[0m\u001b[0mnoise_added_image\u001b[0m\u001b[0;34m)\u001b[0m\u001b[0;34m\u001b[0m\u001b[0m\n\u001b[0m\u001b[1;32m     27\u001b[0m \u001b[0;31m#        reconstructed_image=model(x)\u001b[0m\u001b[0;34m\u001b[0m\u001b[0;34m\u001b[0m\u001b[0m\n\u001b[1;32m     28\u001b[0m         \u001b[0;31m# calculate reconstruction loss with the original clean image\u001b[0m\u001b[0;34m\u001b[0m\u001b[0;34m\u001b[0m\u001b[0m\n",
      "\u001b[0;32m~/anaconda3/envs/torch/lib/python3.6/site-packages/torch/nn/modules/module.py\u001b[0m in \u001b[0;36m__call__\u001b[0;34m(self, *input, **kwargs)\u001b[0m\n\u001b[1;32m    222\u001b[0m         \u001b[0;32mfor\u001b[0m \u001b[0mhook\u001b[0m \u001b[0;32min\u001b[0m \u001b[0mself\u001b[0m\u001b[0;34m.\u001b[0m\u001b[0m_forward_pre_hooks\u001b[0m\u001b[0;34m.\u001b[0m\u001b[0mvalues\u001b[0m\u001b[0;34m(\u001b[0m\u001b[0;34m)\u001b[0m\u001b[0;34m:\u001b[0m\u001b[0;34m\u001b[0m\u001b[0m\n\u001b[1;32m    223\u001b[0m             \u001b[0mhook\u001b[0m\u001b[0;34m(\u001b[0m\u001b[0mself\u001b[0m\u001b[0;34m,\u001b[0m \u001b[0minput\u001b[0m\u001b[0;34m)\u001b[0m\u001b[0;34m\u001b[0m\u001b[0m\n\u001b[0;32m--> 224\u001b[0;31m         \u001b[0mresult\u001b[0m \u001b[0;34m=\u001b[0m \u001b[0mself\u001b[0m\u001b[0;34m.\u001b[0m\u001b[0mforward\u001b[0m\u001b[0;34m(\u001b[0m\u001b[0;34m*\u001b[0m\u001b[0minput\u001b[0m\u001b[0;34m,\u001b[0m \u001b[0;34m**\u001b[0m\u001b[0mkwargs\u001b[0m\u001b[0;34m)\u001b[0m\u001b[0;34m\u001b[0m\u001b[0m\n\u001b[0m\u001b[1;32m    225\u001b[0m         \u001b[0;32mfor\u001b[0m \u001b[0mhook\u001b[0m \u001b[0;32min\u001b[0m \u001b[0mself\u001b[0m\u001b[0;34m.\u001b[0m\u001b[0m_forward_hooks\u001b[0m\u001b[0;34m.\u001b[0m\u001b[0mvalues\u001b[0m\u001b[0;34m(\u001b[0m\u001b[0;34m)\u001b[0m\u001b[0;34m:\u001b[0m\u001b[0;34m\u001b[0m\u001b[0m\n\u001b[1;32m    226\u001b[0m             \u001b[0mhook_result\u001b[0m \u001b[0;34m=\u001b[0m \u001b[0mhook\u001b[0m\u001b[0;34m(\u001b[0m\u001b[0mself\u001b[0m\u001b[0;34m,\u001b[0m \u001b[0minput\u001b[0m\u001b[0;34m,\u001b[0m \u001b[0mresult\u001b[0m\u001b[0;34m)\u001b[0m\u001b[0;34m\u001b[0m\u001b[0m\n",
      "\u001b[0;32m<ipython-input-24-7d95c532aaab>\u001b[0m in \u001b[0;36mforward\u001b[0;34m(self, x)\u001b[0m\n\u001b[1;32m     32\u001b[0m         \u001b[0mself\u001b[0m\u001b[0;34m.\u001b[0m\u001b[0mz_logvar\u001b[0m\u001b[0;34m=\u001b[0m\u001b[0mz_logvar\u001b[0m\u001b[0;34m\u001b[0m\u001b[0m\n\u001b[1;32m     33\u001b[0m \u001b[0;34m\u001b[0m\u001b[0m\n\u001b[0;32m---> 34\u001b[0;31m         \u001b[0msampled_z\u001b[0m\u001b[0;34m=\u001b[0m\u001b[0mself\u001b[0m\u001b[0;34m.\u001b[0m\u001b[0msample_z\u001b[0m\u001b[0;34m(\u001b[0m\u001b[0mz_mu\u001b[0m\u001b[0;34m,\u001b[0m\u001b[0mz_logvar\u001b[0m\u001b[0;34m)\u001b[0m\u001b[0;34m\u001b[0m\u001b[0m\n\u001b[0m\u001b[1;32m     35\u001b[0m \u001b[0;34m\u001b[0m\u001b[0m\n\u001b[1;32m     36\u001b[0m         \u001b[0mresult\u001b[0m\u001b[0;34m=\u001b[0m\u001b[0mself\u001b[0m\u001b[0;34m.\u001b[0m\u001b[0mdecoder\u001b[0m\u001b[0;34m(\u001b[0m\u001b[0msampled_z\u001b[0m\u001b[0;34m)\u001b[0m\u001b[0;34m\u001b[0m\u001b[0m\n",
      "\u001b[0;32m<ipython-input-24-7d95c532aaab>\u001b[0m in \u001b[0;36msample_z\u001b[0;34m(self, z_mu, z_logvar)\u001b[0m\n\u001b[1;32m     12\u001b[0m         \u001b[0mepsilon\u001b[0m\u001b[0;34m=\u001b[0m\u001b[0mVariable\u001b[0m\u001b[0;34m(\u001b[0m\u001b[0mtorch\u001b[0m\u001b[0;34m.\u001b[0m\u001b[0mrandn\u001b[0m\u001b[0;34m(\u001b[0m\u001b[0mbatch_size\u001b[0m\u001b[0;34m,\u001b[0m\u001b[0mz_dim\u001b[0m\u001b[0;34m)\u001b[0m\u001b[0;34m,\u001b[0m\u001b[0mrequires_grad\u001b[0m\u001b[0;34m=\u001b[0m\u001b[0;32mFalse\u001b[0m\u001b[0;34m)\u001b[0m\u001b[0;34m\u001b[0m\u001b[0m\n\u001b[1;32m     13\u001b[0m         \u001b[0;32mif\u001b[0m \u001b[0muse_gpu\u001b[0m\u001b[0;34m:\u001b[0m\u001b[0;34m\u001b[0m\u001b[0m\n\u001b[0;32m---> 14\u001b[0;31m             \u001b[0mepsilon\u001b[0m \u001b[0;34m=\u001b[0m \u001b[0mepsilon\u001b[0m\u001b[0;34m.\u001b[0m\u001b[0mcuda\u001b[0m\u001b[0;34m(\u001b[0m\u001b[0;34m)\u001b[0m\u001b[0;34m\u001b[0m\u001b[0m\n\u001b[0m\u001b[1;32m     15\u001b[0m         \u001b[0;32melse\u001b[0m\u001b[0;34m:\u001b[0m\u001b[0;34m\u001b[0m\u001b[0m\n\u001b[1;32m     16\u001b[0m             \u001b[0;32mpass\u001b[0m\u001b[0;34m\u001b[0m\u001b[0m\n",
      "\u001b[0;32m~/anaconda3/envs/torch/lib/python3.6/site-packages/torch/autograd/variable.py\u001b[0m in \u001b[0;36mcuda\u001b[0;34m(self, device_id, async)\u001b[0m\n\u001b[1;32m    277\u001b[0m \u001b[0;34m\u001b[0m\u001b[0m\n\u001b[1;32m    278\u001b[0m     \u001b[0;32mdef\u001b[0m \u001b[0mcuda\u001b[0m\u001b[0;34m(\u001b[0m\u001b[0mself\u001b[0m\u001b[0;34m,\u001b[0m \u001b[0mdevice_id\u001b[0m\u001b[0;34m=\u001b[0m\u001b[0;32mNone\u001b[0m\u001b[0;34m,\u001b[0m \u001b[0masync\u001b[0m\u001b[0;34m=\u001b[0m\u001b[0;32mFalse\u001b[0m\u001b[0;34m)\u001b[0m\u001b[0;34m:\u001b[0m\u001b[0;34m\u001b[0m\u001b[0m\n\u001b[0;32m--> 279\u001b[0;31m         \u001b[0;32mreturn\u001b[0m \u001b[0mCudaTransfer\u001b[0m\u001b[0;34m.\u001b[0m\u001b[0mapply\u001b[0m\u001b[0;34m(\u001b[0m\u001b[0mself\u001b[0m\u001b[0;34m,\u001b[0m \u001b[0mdevice_id\u001b[0m\u001b[0;34m,\u001b[0m \u001b[0masync\u001b[0m\u001b[0;34m)\u001b[0m\u001b[0;34m\u001b[0m\u001b[0m\n\u001b[0m\u001b[1;32m    280\u001b[0m \u001b[0;34m\u001b[0m\u001b[0m\n\u001b[1;32m    281\u001b[0m     \u001b[0;32mdef\u001b[0m \u001b[0mcpu\u001b[0m\u001b[0;34m(\u001b[0m\u001b[0mself\u001b[0m\u001b[0;34m)\u001b[0m\u001b[0;34m:\u001b[0m\u001b[0;34m\u001b[0m\u001b[0m\n",
      "\u001b[0;32m~/anaconda3/envs/torch/lib/python3.6/site-packages/torch/autograd/_functions/tensor.py\u001b[0m in \u001b[0;36mforward\u001b[0;34m(ctx, i, device_id, async)\u001b[0m\n\u001b[1;32m    149\u001b[0m             \u001b[0;32mreturn\u001b[0m \u001b[0mi\u001b[0m\u001b[0;34m.\u001b[0m\u001b[0mcuda\u001b[0m\u001b[0;34m(\u001b[0m\u001b[0mdevice_id\u001b[0m\u001b[0;34m,\u001b[0m \u001b[0masync\u001b[0m\u001b[0;34m=\u001b[0m\u001b[0masync\u001b[0m\u001b[0;34m)\u001b[0m\u001b[0;34m\u001b[0m\u001b[0m\n\u001b[1;32m    150\u001b[0m         \u001b[0;32melse\u001b[0m\u001b[0;34m:\u001b[0m\u001b[0;34m\u001b[0m\u001b[0m\n\u001b[0;32m--> 151\u001b[0;31m             \u001b[0;32mreturn\u001b[0m \u001b[0mi\u001b[0m\u001b[0;34m.\u001b[0m\u001b[0mcuda\u001b[0m\u001b[0;34m(\u001b[0m\u001b[0masync\u001b[0m\u001b[0;34m=\u001b[0m\u001b[0masync\u001b[0m\u001b[0;34m)\u001b[0m\u001b[0;34m\u001b[0m\u001b[0m\n\u001b[0m\u001b[1;32m    152\u001b[0m \u001b[0;34m\u001b[0m\u001b[0m\n\u001b[1;32m    153\u001b[0m     \u001b[0;34m@\u001b[0m\u001b[0mstaticmethod\u001b[0m\u001b[0;34m\u001b[0m\u001b[0m\n",
      "\u001b[0;32m~/anaconda3/envs/torch/lib/python3.6/site-packages/torch/_utils.py\u001b[0m in \u001b[0;36m_cuda\u001b[0;34m(self, device, async)\u001b[0m\n\u001b[1;32m     64\u001b[0m         \u001b[0;32melse\u001b[0m\u001b[0;34m:\u001b[0m\u001b[0;34m\u001b[0m\u001b[0m\n\u001b[1;32m     65\u001b[0m             \u001b[0mnew_type\u001b[0m \u001b[0;34m=\u001b[0m \u001b[0mgetattr\u001b[0m\u001b[0;34m(\u001b[0m\u001b[0mtorch\u001b[0m\u001b[0;34m.\u001b[0m\u001b[0mcuda\u001b[0m\u001b[0;34m,\u001b[0m \u001b[0mself\u001b[0m\u001b[0;34m.\u001b[0m\u001b[0m__class__\u001b[0m\u001b[0;34m.\u001b[0m\u001b[0m__name__\u001b[0m\u001b[0;34m)\u001b[0m\u001b[0;34m\u001b[0m\u001b[0m\n\u001b[0;32m---> 66\u001b[0;31m             \u001b[0;32mreturn\u001b[0m \u001b[0mnew_type\u001b[0m\u001b[0;34m(\u001b[0m\u001b[0mself\u001b[0m\u001b[0;34m.\u001b[0m\u001b[0msize\u001b[0m\u001b[0;34m(\u001b[0m\u001b[0;34m)\u001b[0m\u001b[0;34m)\u001b[0m\u001b[0;34m.\u001b[0m\u001b[0mcopy_\u001b[0m\u001b[0;34m(\u001b[0m\u001b[0mself\u001b[0m\u001b[0;34m,\u001b[0m \u001b[0masync\u001b[0m\u001b[0;34m)\u001b[0m\u001b[0;34m\u001b[0m\u001b[0m\n\u001b[0m\u001b[1;32m     67\u001b[0m \u001b[0;34m\u001b[0m\u001b[0m\n\u001b[1;32m     68\u001b[0m \u001b[0;34m\u001b[0m\u001b[0m\n",
      "\u001b[0;31mKeyboardInterrupt\u001b[0m: "
     ]
    }
   ],
   "source": [
    "writer=SummaryWriter('./logs/')\n",
    "\n",
    "try:\n",
    "    model = torch.load('./model/dVAE.pkl')\n",
    "    print(\"\\n================== Model Restored ==================\\n\")\n",
    "except:\n",
    "    print(\"\\n============== No Model to be Restored ==============\\n\")\n",
    "    pass\n",
    "\n",
    "for i in range(40,40+num_epoch):\n",
    "    for batch_idx,[image,_,_] in enumerate(train_loader):\n",
    "        n_iter = (i*len(real_train_loader))+batch_idx\n",
    "        \n",
    "        if use_gpu:\n",
    "            x=Variable(image).cuda()\n",
    "        else:\n",
    "            x=Variable(image)\n",
    "        # x: batchsize x 3 x 32 x 32\n",
    "        \n",
    "        optimizer.zero_grad()\n",
    "        \n",
    "        # add noise to the input\n",
    "        noise_added_image = add_noise(x,noise_level)\n",
    "        \n",
    "        # reconstructed based on the noise added image\n",
    "        reconstructed_image=model(noise_added_image)\n",
    "#        reconstructed_image=model(x)        \n",
    "        # calculate reconstruction loss with the original clean image\n",
    "        loss=loss_func(reconstructed_image,x,model.z_mu,model.z_logvar)\n",
    "        loss.backward()\n",
    "        \n",
    "        optimizer.step()\n",
    "        \n",
    "        if batch_idx%50==0:\n",
    "            print('[Training Epoch: {} \\tn_iter: {} \\tLoss: {:.6f}]'.format(\n",
    "                i+1, n_iter, loss.data[0]))\n",
    "            plt.imshow(reconstructed_image.cpu().data[0].numpy().transpose(1,2,0), cmap='hsv')\n",
    "            plt.show(block=True)\n",
    "            \n",
    "            \n",
    "        if batch_idx%200==0:\n",
    "            torch.save(model,'./model/dVAE_'+str(batch_idx)+'.pkl')\n",
    "            torch.save(model,'./model/dVAE.pkl')\n",
    "            \n",
    "        writer.add_scalar('loss',loss.data[0] / len(x),n_iter)\n",
    "  "
   ]
  },
  {
   "cell_type": "code",
   "execution_count": 81,
   "metadata": {},
   "outputs": [
    {
     "name": "stdout",
     "output_type": "stream",
     "text": [
      "\n",
      "================== Model Restored ==================\n",
      "\n",
      "[Training Epoch: 61 \tn_iter: 93720 \tLoss: 151461.718750]\n"
     ]
    },
    {
     "data": {
      "image/png": "[encoded data removed]",
      "text/plain": [
       "<matplotlib.figure.Figure at 0x7f124f6bf7b8>"
      ]
     },
     "metadata": {},
     "output_type": "display_data"
    },
    {
     "name": "stderr",
     "output_type": "stream",
     "text": [
      "/home/voithru/anaconda3/envs/torch/lib/python3.6/site-packages/torch/serialization.py:147: UserWarning: Couldn't retrieve source code for container of type VAE. It won't be checked for correctness upon loading.\n",
      "  \"type \" + obj.__name__ + \". It won't be checked \"\n",
      "/home/voithru/anaconda3/envs/torch/lib/python3.6/site-packages/torch/serialization.py:147: UserWarning: Couldn't retrieve source code for container of type Encoder. It won't be checked for correctness upon loading.\n",
      "  \"type \" + obj.__name__ + \". It won't be checked \"\n",
      "/home/voithru/anaconda3/envs/torch/lib/python3.6/site-packages/torch/serialization.py:147: UserWarning: Couldn't retrieve source code for container of type Decoder. It won't be checked for correctness upon loading.\n",
      "  \"type \" + obj.__name__ + \". It won't be checked \"\n"
     ]
    },
    {
     "name": "stdout",
     "output_type": "stream",
     "text": [
      "[Training Epoch: 61 \tn_iter: 93770 \tLoss: 130894.804688]\n"
     ]
    },
    {
     "data": {
      "image/png": "[encoded data removed]",
      "text/plain": [
       "<matplotlib.figure.Figure at 0x7f11aedf6c88>"
      ]
     },
     "metadata": {},
     "output_type": "display_data"
    },
    {
     "name": "stdout",
     "output_type": "stream",
     "text": [
      "[Training Epoch: 61 \tn_iter: 93820 \tLoss: 146367.562500]\n"
     ]
    },
    {
     "data": {
      "image/png": "[encoded data removed]",
      "text/plain": [
       "<matplotlib.figure.Figure at 0x7f12441b5898>"
      ]
     },
     "metadata": {},
     "output_type": "display_data"
    },
    {
     "name": "stdout",
     "output_type": "stream",
     "text": [
      "[Training Epoch: 61 \tn_iter: 93870 \tLoss: 139007.312500]\n"
     ]
    },
    {
     "data": {
      "image/png": "[encoded data removed]",
      "text/plain": [
       "<matplotlib.figure.Figure at 0x7f123803a240>"
      ]
     },
     "metadata": {},
     "output_type": "display_data"
    },
    {
     "name": "stdout",
     "output_type": "stream",
     "text": [
      "[Training Epoch: 61 \tn_iter: 93920 \tLoss: 153052.000000]\n"
     ]
    },
    {
     "data": {
      "image/png": "[encoded data removed]",
      "text/plain": [
       "<matplotlib.figure.Figure at 0x7f119582b8d0>"
      ]
     },
     "metadata": {},
     "output_type": "display_data"
    },
    {
     "name": "stdout",
     "output_type": "stream",
     "text": [
      "[Training Epoch: 61 \tn_iter: 93970 \tLoss: 134703.421875]\n"
     ]
    },
    {
     "data": {
      "image/png": "[encoded data removed]",
      "text/plain": [
       "<matplotlib.figure.Figure at 0x7f1243ae6860>"
      ]
     },
     "metadata": {},
     "output_type": "display_data"
    },
    {
     "name": "stdout",
     "output_type": "stream",
     "text": [
      "[Training Epoch: 61 \tn_iter: 94020 \tLoss: 118779.562500]\n"
     ]
    },
    {
     "data": {
      "image/png": "[encoded data removed]",
      "text/plain": [
       "<matplotlib.figure.Figure at 0x7f1245901668>"
      ]
     },
     "metadata": {},
     "output_type": "display_data"
    },
    {
     "name": "stdout",
     "output_type": "stream",
     "text": [
      "[Training Epoch: 61 \tn_iter: 94070 \tLoss: 130952.242188]\n"
     ]
    },
    {
     "data": {
      "image/png": "[encoded data removed]",
      "text/plain": [
       "<matplotlib.figure.Figure at 0x7f11bd023a90>"
      ]
     },
     "metadata": {},
     "output_type": "display_data"
    },
    {
     "name": "stderr",
     "output_type": "stream",
     "text": [
      "Process Process-68:\n",
      "  File \"/home/voithru/anaconda3/envs/torch/lib/python3.6/multiprocessing/process.py\", line 93, in run\n",
      "    self._target(*self._args, **self._kwargs)\n",
      "Process Process-65:\n",
      "Process Process-66:\n",
      "Process Process-67:\n",
      "Traceback (most recent call last):\n",
      "Traceback (most recent call last):\n",
      "  File \"/home/voithru/anaconda3/envs/torch/lib/python3.6/multiprocessing/process.py\", line 249, in _bootstrap\n",
      "    self.run()\n",
      "Traceback (most recent call last):\n"
     ]
    },
    {
     "ename": "KeyboardInterrupt",
     "evalue": "",
     "output_type": "error",
     "traceback": [
      "\u001b[0;31m---------------------------------------------------------------------------\u001b[0m",
      "\u001b[0;31mKeyboardInterrupt\u001b[0m                         Traceback (most recent call last)",
      "\u001b[0;32m<ipython-input-81-85c59aad3a3b>\u001b[0m in \u001b[0;36m<module>\u001b[0;34m()\u001b[0m\n\u001b[1;32m     24\u001b[0m \u001b[0;34m\u001b[0m\u001b[0m\n\u001b[1;32m     25\u001b[0m         \u001b[0;31m# reconstructed based on the noise added image\u001b[0m\u001b[0;34m\u001b[0m\u001b[0;34m\u001b[0m\u001b[0m\n\u001b[0;32m---> 26\u001b[0;31m         \u001b[0mreconstructed_image\u001b[0m\u001b[0;34m=\u001b[0m\u001b[0mmodel\u001b[0m\u001b[0;34m(\u001b[0m\u001b[0mnoise_added_image\u001b[0m\u001b[0;34m)\u001b[0m\u001b[0;34m\u001b[0m\u001b[0m\n\u001b[0m\u001b[1;32m     27\u001b[0m \u001b[0;31m#        reconstructed_image=model(x)\u001b[0m\u001b[0;34m\u001b[0m\u001b[0;34m\u001b[0m\u001b[0m\n\u001b[1;32m     28\u001b[0m         \u001b[0;31m# calculate reconstruction loss with the original clean image\u001b[0m\u001b[0;34m\u001b[0m\u001b[0;34m\u001b[0m\u001b[0m\n",
      "\u001b[0;32m~/anaconda3/envs/torch/lib/python3.6/site-packages/torch/nn/modules/module.py\u001b[0m in \u001b[0;36m__call__\u001b[0;34m(self, *input, **kwargs)\u001b[0m\n\u001b[1;32m    222\u001b[0m         \u001b[0;32mfor\u001b[0m \u001b[0mhook\u001b[0m \u001b[0;32min\u001b[0m \u001b[0mself\u001b[0m\u001b[0;34m.\u001b[0m\u001b[0m_forward_pre_hooks\u001b[0m\u001b[0;34m.\u001b[0m\u001b[0mvalues\u001b[0m\u001b[0;34m(\u001b[0m\u001b[0;34m)\u001b[0m\u001b[0;34m:\u001b[0m\u001b[0;34m\u001b[0m\u001b[0m\n\u001b[1;32m    223\u001b[0m             \u001b[0mhook\u001b[0m\u001b[0;34m(\u001b[0m\u001b[0mself\u001b[0m\u001b[0;34m,\u001b[0m \u001b[0minput\u001b[0m\u001b[0;34m)\u001b[0m\u001b[0;34m\u001b[0m\u001b[0m\n\u001b[0;32m--> 224\u001b[0;31m         \u001b[0mresult\u001b[0m \u001b[0;34m=\u001b[0m \u001b[0mself\u001b[0m\u001b[0;34m.\u001b[0m\u001b[0mforward\u001b[0m\u001b[0;34m(\u001b[0m\u001b[0;34m*\u001b[0m\u001b[0minput\u001b[0m\u001b[0;34m,\u001b[0m \u001b[0;34m**\u001b[0m\u001b[0mkwargs\u001b[0m\u001b[0;34m)\u001b[0m\u001b[0;34m\u001b[0m\u001b[0m\n\u001b[0m\u001b[1;32m    225\u001b[0m         \u001b[0;32mfor\u001b[0m \u001b[0mhook\u001b[0m \u001b[0;32min\u001b[0m \u001b[0mself\u001b[0m\u001b[0;34m.\u001b[0m\u001b[0m_forward_hooks\u001b[0m\u001b[0;34m.\u001b[0m\u001b[0mvalues\u001b[0m\u001b[0;34m(\u001b[0m\u001b[0;34m)\u001b[0m\u001b[0;34m:\u001b[0m\u001b[0;34m\u001b[0m\u001b[0m\n\u001b[1;32m    226\u001b[0m             \u001b[0mhook_result\u001b[0m \u001b[0;34m=\u001b[0m \u001b[0mhook\u001b[0m\u001b[0;34m(\u001b[0m\u001b[0mself\u001b[0m\u001b[0;34m,\u001b[0m \u001b[0minput\u001b[0m\u001b[0;34m,\u001b[0m \u001b[0mresult\u001b[0m\u001b[0;34m)\u001b[0m\u001b[0;34m\u001b[0m\u001b[0m\n",
      "\u001b[0;32m<ipython-input-24-7d95c532aaab>\u001b[0m in \u001b[0;36mforward\u001b[0;34m(self, x)\u001b[0m\n\u001b[1;32m     34\u001b[0m         \u001b[0msampled_z\u001b[0m\u001b[0;34m=\u001b[0m\u001b[0mself\u001b[0m\u001b[0;34m.\u001b[0m\u001b[0msample_z\u001b[0m\u001b[0;34m(\u001b[0m\u001b[0mz_mu\u001b[0m\u001b[0;34m,\u001b[0m\u001b[0mz_logvar\u001b[0m\u001b[0;34m)\u001b[0m\u001b[0;34m\u001b[0m\u001b[0m\n\u001b[1;32m     35\u001b[0m \u001b[0;34m\u001b[0m\u001b[0m\n\u001b[0;32m---> 36\u001b[0;31m         \u001b[0mresult\u001b[0m\u001b[0;34m=\u001b[0m\u001b[0mself\u001b[0m\u001b[0;34m.\u001b[0m\u001b[0mdecoder\u001b[0m\u001b[0;34m(\u001b[0m\u001b[0msampled_z\u001b[0m\u001b[0;34m)\u001b[0m\u001b[0;34m\u001b[0m\u001b[0m\n\u001b[0m\u001b[1;32m     37\u001b[0m \u001b[0;34m\u001b[0m\u001b[0m\n\u001b[1;32m     38\u001b[0m         \u001b[0;32mreturn\u001b[0m \u001b[0mresult\u001b[0m\u001b[0;34m\u001b[0m\u001b[0m\n",
      "\u001b[0;32m~/anaconda3/envs/torch/lib/python3.6/site-packages/torch/nn/modules/module.py\u001b[0m in \u001b[0;36m__call__\u001b[0;34m(self, *input, **kwargs)\u001b[0m\n\u001b[1;32m    222\u001b[0m         \u001b[0;32mfor\u001b[0m \u001b[0mhook\u001b[0m \u001b[0;32min\u001b[0m \u001b[0mself\u001b[0m\u001b[0;34m.\u001b[0m\u001b[0m_forward_pre_hooks\u001b[0m\u001b[0;34m.\u001b[0m\u001b[0mvalues\u001b[0m\u001b[0;34m(\u001b[0m\u001b[0;34m)\u001b[0m\u001b[0;34m:\u001b[0m\u001b[0;34m\u001b[0m\u001b[0m\n\u001b[1;32m    223\u001b[0m             \u001b[0mhook\u001b[0m\u001b[0;34m(\u001b[0m\u001b[0mself\u001b[0m\u001b[0;34m,\u001b[0m \u001b[0minput\u001b[0m\u001b[0;34m)\u001b[0m\u001b[0;34m\u001b[0m\u001b[0m\n\u001b[0;32m--> 224\u001b[0;31m         \u001b[0mresult\u001b[0m \u001b[0;34m=\u001b[0m \u001b[0mself\u001b[0m\u001b[0;34m.\u001b[0m\u001b[0mforward\u001b[0m\u001b[0;34m(\u001b[0m\u001b[0;34m*\u001b[0m\u001b[0minput\u001b[0m\u001b[0;34m,\u001b[0m \u001b[0;34m**\u001b[0m\u001b[0mkwargs\u001b[0m\u001b[0;34m)\u001b[0m\u001b[0;34m\u001b[0m\u001b[0m\n\u001b[0m\u001b[1;32m    225\u001b[0m         \u001b[0;32mfor\u001b[0m \u001b[0mhook\u001b[0m \u001b[0;32min\u001b[0m \u001b[0mself\u001b[0m\u001b[0;34m.\u001b[0m\u001b[0m_forward_hooks\u001b[0m\u001b[0;34m.\u001b[0m\u001b[0mvalues\u001b[0m\u001b[0;34m(\u001b[0m\u001b[0;34m)\u001b[0m\u001b[0;34m:\u001b[0m\u001b[0;34m\u001b[0m\u001b[0m\n\u001b[1;32m    226\u001b[0m             \u001b[0mhook_result\u001b[0m \u001b[0;34m=\u001b[0m \u001b[0mhook\u001b[0m\u001b[0;34m(\u001b[0m\u001b[0mself\u001b[0m\u001b[0;34m,\u001b[0m \u001b[0minput\u001b[0m\u001b[0;34m,\u001b[0m \u001b[0mresult\u001b[0m\u001b[0;34m)\u001b[0m\u001b[0;34m\u001b[0m\u001b[0m\n",
      "\u001b[0;32m<ipython-input-22-53f041002f01>\u001b[0m in \u001b[0;36mforward\u001b[0;34m(self, sampled_z)\u001b[0m\n\u001b[1;32m     64\u001b[0m     \u001b[0;32mdef\u001b[0m \u001b[0mforward\u001b[0m\u001b[0;34m(\u001b[0m\u001b[0mself\u001b[0m\u001b[0;34m,\u001b[0m\u001b[0msampled_z\u001b[0m\u001b[0;34m)\u001b[0m\u001b[0;34m:\u001b[0m\u001b[0;34m\u001b[0m\u001b[0m\n\u001b[1;32m     65\u001b[0m \u001b[0;34m\u001b[0m\u001b[0m\n\u001b[0;32m---> 66\u001b[0;31m         \u001b[0mout\u001b[0m\u001b[0;34m=\u001b[0m\u001b[0mself\u001b[0m\u001b[0;34m.\u001b[0m\u001b[0mfc_layer\u001b[0m\u001b[0;34m(\u001b[0m\u001b[0msampled_z\u001b[0m\u001b[0;34m)\u001b[0m\u001b[0;34m\u001b[0m\u001b[0m\n\u001b[0m\u001b[1;32m     67\u001b[0m         \u001b[0mout\u001b[0m\u001b[0;34m=\u001b[0m\u001b[0mout\u001b[0m\u001b[0;34m.\u001b[0m\u001b[0mview\u001b[0m\u001b[0;34m(\u001b[0m\u001b[0mbatch_size\u001b[0m\u001b[0;34m,\u001b[0m\u001b[0;34m-\u001b[0m\u001b[0;36m1\u001b[0m\u001b[0;34m,\u001b[0m\u001b[0;36m2\u001b[0m\u001b[0;34m,\u001b[0m\u001b[0;36m2\u001b[0m\u001b[0;34m)\u001b[0m\u001b[0;34m\u001b[0m\u001b[0m\n\u001b[1;32m     68\u001b[0m         \u001b[0mout\u001b[0m\u001b[0;34m=\u001b[0m\u001b[0mself\u001b[0m\u001b[0;34m.\u001b[0m\u001b[0mtransConv_layer\u001b[0m\u001b[0;34m(\u001b[0m\u001b[0mout\u001b[0m\u001b[0;34m)\u001b[0m\u001b[0;34m\u001b[0m\u001b[0m\n",
      "\u001b[0;32m~/anaconda3/envs/torch/lib/python3.6/site-packages/torch/nn/modules/module.py\u001b[0m in \u001b[0;36m__call__\u001b[0;34m(self, *input, **kwargs)\u001b[0m\n\u001b[1;32m    222\u001b[0m         \u001b[0;32mfor\u001b[0m \u001b[0mhook\u001b[0m \u001b[0;32min\u001b[0m \u001b[0mself\u001b[0m\u001b[0;34m.\u001b[0m\u001b[0m_forward_pre_hooks\u001b[0m\u001b[0;34m.\u001b[0m\u001b[0mvalues\u001b[0m\u001b[0;34m(\u001b[0m\u001b[0;34m)\u001b[0m\u001b[0;34m:\u001b[0m\u001b[0;34m\u001b[0m\u001b[0m\n\u001b[1;32m    223\u001b[0m             \u001b[0mhook\u001b[0m\u001b[0;34m(\u001b[0m\u001b[0mself\u001b[0m\u001b[0;34m,\u001b[0m \u001b[0minput\u001b[0m\u001b[0;34m)\u001b[0m\u001b[0;34m\u001b[0m\u001b[0m\n\u001b[0;32m--> 224\u001b[0;31m         \u001b[0mresult\u001b[0m \u001b[0;34m=\u001b[0m \u001b[0mself\u001b[0m\u001b[0;34m.\u001b[0m\u001b[0mforward\u001b[0m\u001b[0;34m(\u001b[0m\u001b[0;34m*\u001b[0m\u001b[0minput\u001b[0m\u001b[0;34m,\u001b[0m \u001b[0;34m**\u001b[0m\u001b[0mkwargs\u001b[0m\u001b[0;34m)\u001b[0m\u001b[0;34m\u001b[0m\u001b[0m\n\u001b[0m\u001b[1;32m    225\u001b[0m         \u001b[0;32mfor\u001b[0m \u001b[0mhook\u001b[0m \u001b[0;32min\u001b[0m \u001b[0mself\u001b[0m\u001b[0;34m.\u001b[0m\u001b[0m_forward_hooks\u001b[0m\u001b[0;34m.\u001b[0m\u001b[0mvalues\u001b[0m\u001b[0;34m(\u001b[0m\u001b[0;34m)\u001b[0m\u001b[0;34m:\u001b[0m\u001b[0;34m\u001b[0m\u001b[0m\n\u001b[1;32m    226\u001b[0m             \u001b[0mhook_result\u001b[0m \u001b[0;34m=\u001b[0m \u001b[0mhook\u001b[0m\u001b[0;34m(\u001b[0m\u001b[0mself\u001b[0m\u001b[0;34m,\u001b[0m \u001b[0minput\u001b[0m\u001b[0;34m,\u001b[0m \u001b[0mresult\u001b[0m\u001b[0;34m)\u001b[0m\u001b[0;34m\u001b[0m\u001b[0m\n",
      "\u001b[0;32m~/anaconda3/envs/torch/lib/python3.6/site-packages/torch/nn/modules/container.py\u001b[0m in \u001b[0;36mforward\u001b[0;34m(self, input)\u001b[0m\n\u001b[1;32m     65\u001b[0m     \u001b[0;32mdef\u001b[0m \u001b[0mforward\u001b[0m\u001b[0;34m(\u001b[0m\u001b[0mself\u001b[0m\u001b[0;34m,\u001b[0m \u001b[0minput\u001b[0m\u001b[0;34m)\u001b[0m\u001b[0;34m:\u001b[0m\u001b[0;34m\u001b[0m\u001b[0m\n\u001b[1;32m     66\u001b[0m         \u001b[0;32mfor\u001b[0m \u001b[0mmodule\u001b[0m \u001b[0;32min\u001b[0m \u001b[0mself\u001b[0m\u001b[0;34m.\u001b[0m\u001b[0m_modules\u001b[0m\u001b[0;34m.\u001b[0m\u001b[0mvalues\u001b[0m\u001b[0;34m(\u001b[0m\u001b[0;34m)\u001b[0m\u001b[0;34m:\u001b[0m\u001b[0;34m\u001b[0m\u001b[0m\n\u001b[0;32m---> 67\u001b[0;31m             \u001b[0minput\u001b[0m \u001b[0;34m=\u001b[0m \u001b[0mmodule\u001b[0m\u001b[0;34m(\u001b[0m\u001b[0minput\u001b[0m\u001b[0;34m)\u001b[0m\u001b[0;34m\u001b[0m\u001b[0m\n\u001b[0m\u001b[1;32m     68\u001b[0m         \u001b[0;32mreturn\u001b[0m \u001b[0minput\u001b[0m\u001b[0;34m\u001b[0m\u001b[0m\n\u001b[1;32m     69\u001b[0m \u001b[0;34m\u001b[0m\u001b[0m\n",
      "\u001b[0;32m~/anaconda3/envs/torch/lib/python3.6/site-packages/torch/nn/modules/module.py\u001b[0m in \u001b[0;36m__call__\u001b[0;34m(self, *input, **kwargs)\u001b[0m\n\u001b[1;32m    222\u001b[0m         \u001b[0;32mfor\u001b[0m \u001b[0mhook\u001b[0m \u001b[0;32min\u001b[0m \u001b[0mself\u001b[0m\u001b[0;34m.\u001b[0m\u001b[0m_forward_pre_hooks\u001b[0m\u001b[0;34m.\u001b[0m\u001b[0mvalues\u001b[0m\u001b[0;34m(\u001b[0m\u001b[0;34m)\u001b[0m\u001b[0;34m:\u001b[0m\u001b[0;34m\u001b[0m\u001b[0m\n\u001b[1;32m    223\u001b[0m             \u001b[0mhook\u001b[0m\u001b[0;34m(\u001b[0m\u001b[0mself\u001b[0m\u001b[0;34m,\u001b[0m \u001b[0minput\u001b[0m\u001b[0;34m)\u001b[0m\u001b[0;34m\u001b[0m\u001b[0m\n\u001b[0;32m--> 224\u001b[0;31m         \u001b[0mresult\u001b[0m \u001b[0;34m=\u001b[0m \u001b[0mself\u001b[0m\u001b[0;34m.\u001b[0m\u001b[0mforward\u001b[0m\u001b[0;34m(\u001b[0m\u001b[0;34m*\u001b[0m\u001b[0minput\u001b[0m\u001b[0;34m,\u001b[0m \u001b[0;34m**\u001b[0m\u001b[0mkwargs\u001b[0m\u001b[0;34m)\u001b[0m\u001b[0;34m\u001b[0m\u001b[0m\n\u001b[0m\u001b[1;32m    225\u001b[0m         \u001b[0;32mfor\u001b[0m \u001b[0mhook\u001b[0m \u001b[0;32min\u001b[0m \u001b[0mself\u001b[0m\u001b[0;34m.\u001b[0m\u001b[0m_forward_hooks\u001b[0m\u001b[0;34m.\u001b[0m\u001b[0mvalues\u001b[0m\u001b[0;34m(\u001b[0m\u001b[0;34m)\u001b[0m\u001b[0;34m:\u001b[0m\u001b[0;34m\u001b[0m\u001b[0m\n\u001b[1;32m    226\u001b[0m             \u001b[0mhook_result\u001b[0m \u001b[0;34m=\u001b[0m \u001b[0mhook\u001b[0m\u001b[0;34m(\u001b[0m\u001b[0mself\u001b[0m\u001b[0;34m,\u001b[0m \u001b[0minput\u001b[0m\u001b[0;34m,\u001b[0m \u001b[0mresult\u001b[0m\u001b[0;34m)\u001b[0m\u001b[0;34m\u001b[0m\u001b[0m\n",
      "\u001b[0;32m~/anaconda3/envs/torch/lib/python3.6/site-packages/torch/nn/modules/linear.py\u001b[0m in \u001b[0;36mforward\u001b[0;34m(self, input)\u001b[0m\n\u001b[1;32m     51\u001b[0m \u001b[0;34m\u001b[0m\u001b[0m\n\u001b[1;32m     52\u001b[0m     \u001b[0;32mdef\u001b[0m \u001b[0mforward\u001b[0m\u001b[0;34m(\u001b[0m\u001b[0mself\u001b[0m\u001b[0;34m,\u001b[0m \u001b[0minput\u001b[0m\u001b[0;34m)\u001b[0m\u001b[0;34m:\u001b[0m\u001b[0;34m\u001b[0m\u001b[0m\n\u001b[0;32m---> 53\u001b[0;31m         \u001b[0;32mreturn\u001b[0m \u001b[0mF\u001b[0m\u001b[0;34m.\u001b[0m\u001b[0mlinear\u001b[0m\u001b[0;34m(\u001b[0m\u001b[0minput\u001b[0m\u001b[0;34m,\u001b[0m \u001b[0mself\u001b[0m\u001b[0;34m.\u001b[0m\u001b[0mweight\u001b[0m\u001b[0;34m,\u001b[0m \u001b[0mself\u001b[0m\u001b[0;34m.\u001b[0m\u001b[0mbias\u001b[0m\u001b[0;34m)\u001b[0m\u001b[0;34m\u001b[0m\u001b[0m\n\u001b[0m\u001b[1;32m     54\u001b[0m \u001b[0;34m\u001b[0m\u001b[0m\n\u001b[1;32m     55\u001b[0m     \u001b[0;32mdef\u001b[0m \u001b[0m__repr__\u001b[0m\u001b[0;34m(\u001b[0m\u001b[0mself\u001b[0m\u001b[0;34m)\u001b[0m\u001b[0;34m:\u001b[0m\u001b[0;34m\u001b[0m\u001b[0m\n",
      "\u001b[0;32m~/anaconda3/envs/torch/lib/python3.6/site-packages/torch/nn/functional.py\u001b[0m in \u001b[0;36mlinear\u001b[0;34m(input, weight, bias)\u001b[0m\n\u001b[1;32m    551\u001b[0m     \u001b[0;32mif\u001b[0m \u001b[0minput\u001b[0m\u001b[0;34m.\u001b[0m\u001b[0mdim\u001b[0m\u001b[0;34m(\u001b[0m\u001b[0;34m)\u001b[0m \u001b[0;34m==\u001b[0m \u001b[0;36m2\u001b[0m \u001b[0;32mand\u001b[0m \u001b[0mbias\u001b[0m \u001b[0;32mis\u001b[0m \u001b[0;32mnot\u001b[0m \u001b[0;32mNone\u001b[0m\u001b[0;34m:\u001b[0m\u001b[0;34m\u001b[0m\u001b[0m\n\u001b[1;32m    552\u001b[0m         \u001b[0;31m# fused op is marginally faster\u001b[0m\u001b[0;34m\u001b[0m\u001b[0;34m\u001b[0m\u001b[0m\n\u001b[0;32m--> 553\u001b[0;31m         \u001b[0;32mreturn\u001b[0m \u001b[0mtorch\u001b[0m\u001b[0;34m.\u001b[0m\u001b[0maddmm\u001b[0m\u001b[0;34m(\u001b[0m\u001b[0mbias\u001b[0m\u001b[0;34m,\u001b[0m \u001b[0minput\u001b[0m\u001b[0;34m,\u001b[0m \u001b[0mweight\u001b[0m\u001b[0;34m.\u001b[0m\u001b[0mt\u001b[0m\u001b[0;34m(\u001b[0m\u001b[0;34m)\u001b[0m\u001b[0;34m)\u001b[0m\u001b[0;34m\u001b[0m\u001b[0m\n\u001b[0m\u001b[1;32m    554\u001b[0m \u001b[0;34m\u001b[0m\u001b[0m\n\u001b[1;32m    555\u001b[0m     \u001b[0moutput\u001b[0m \u001b[0;34m=\u001b[0m \u001b[0minput\u001b[0m\u001b[0;34m.\u001b[0m\u001b[0mmatmul\u001b[0m\u001b[0;34m(\u001b[0m\u001b[0mweight\u001b[0m\u001b[0;34m.\u001b[0m\u001b[0mt\u001b[0m\u001b[0;34m(\u001b[0m\u001b[0;34m)\u001b[0m\u001b[0;34m)\u001b[0m\u001b[0;34m\u001b[0m\u001b[0m\n",
      "\u001b[0;32m~/anaconda3/envs/torch/lib/python3.6/site-packages/torch/autograd/variable.py\u001b[0m in \u001b[0;36maddmm\u001b[0;34m(cls, *args)\u001b[0m\n\u001b[1;32m    922\u001b[0m         \u001b[0;34m@\u001b[0m\u001b[0mclassmethod\u001b[0m\u001b[0;34m\u001b[0m\u001b[0m\n\u001b[1;32m    923\u001b[0m         \u001b[0;32mdef\u001b[0m \u001b[0maddmm\u001b[0m\u001b[0;34m(\u001b[0m\u001b[0mcls\u001b[0m\u001b[0;34m,\u001b[0m \u001b[0;34m*\u001b[0m\u001b[0margs\u001b[0m\u001b[0;34m)\u001b[0m\u001b[0;34m:\u001b[0m\u001b[0;34m\u001b[0m\u001b[0m\n\u001b[0;32m--> 924\u001b[0;31m             \u001b[0;32mreturn\u001b[0m \u001b[0mcls\u001b[0m\u001b[0;34m.\u001b[0m\u001b[0m_blas\u001b[0m\u001b[0;34m(\u001b[0m\u001b[0mAddmm\u001b[0m\u001b[0;34m,\u001b[0m \u001b[0margs\u001b[0m\u001b[0;34m,\u001b[0m \u001b[0;32mFalse\u001b[0m\u001b[0;34m)\u001b[0m\u001b[0;34m\u001b[0m\u001b[0m\n\u001b[0m\u001b[1;32m    925\u001b[0m \u001b[0;34m\u001b[0m\u001b[0m\n\u001b[1;32m    926\u001b[0m         \u001b[0;34m@\u001b[0m\u001b[0mclassmethod\u001b[0m\u001b[0;34m\u001b[0m\u001b[0m\n",
      "\u001b[0;32m~/anaconda3/envs/torch/lib/python3.6/site-packages/torch/autograd/variable.py\u001b[0m in \u001b[0;36m_blas\u001b[0;34m(cls, args, inplace)\u001b[0m\n\u001b[1;32m    918\u001b[0m             \u001b[0;32melse\u001b[0m\u001b[0;34m:\u001b[0m\u001b[0;34m\u001b[0m\u001b[0m\n\u001b[1;32m    919\u001b[0m                 \u001b[0mtensors\u001b[0m \u001b[0;34m=\u001b[0m \u001b[0margs\u001b[0m\u001b[0;34m\u001b[0m\u001b[0m\n\u001b[0;32m--> 920\u001b[0;31m             \u001b[0;32mreturn\u001b[0m \u001b[0mcls\u001b[0m\u001b[0;34m.\u001b[0m\u001b[0mapply\u001b[0m\u001b[0;34m(\u001b[0m\u001b[0;34m*\u001b[0m\u001b[0;34m(\u001b[0m\u001b[0mtensors\u001b[0m \u001b[0;34m+\u001b[0m \u001b[0;34m(\u001b[0m\u001b[0malpha\u001b[0m\u001b[0;34m,\u001b[0m \u001b[0mbeta\u001b[0m\u001b[0;34m,\u001b[0m \u001b[0minplace\u001b[0m\u001b[0;34m)\u001b[0m\u001b[0;34m)\u001b[0m\u001b[0;34m)\u001b[0m\u001b[0;34m\u001b[0m\u001b[0m\n\u001b[0m\u001b[1;32m    921\u001b[0m \u001b[0;34m\u001b[0m\u001b[0m\n\u001b[1;32m    922\u001b[0m         \u001b[0;34m@\u001b[0m\u001b[0mclassmethod\u001b[0m\u001b[0;34m\u001b[0m\u001b[0m\n",
      "\u001b[0;32m~/anaconda3/envs/torch/lib/python3.6/site-packages/torch/autograd/_functions/blas.py\u001b[0m in \u001b[0;36mforward\u001b[0;34m(ctx, add_matrix, matrix1, matrix2, alpha, beta, inplace)\u001b[0m\n\u001b[1;32m     16\u001b[0m \u001b[0;32mclass\u001b[0m \u001b[0mAddmm\u001b[0m\u001b[0;34m(\u001b[0m\u001b[0mInplaceFunction\u001b[0m\u001b[0;34m)\u001b[0m\u001b[0;34m:\u001b[0m\u001b[0;34m\u001b[0m\u001b[0m\n\u001b[1;32m     17\u001b[0m \u001b[0;34m\u001b[0m\u001b[0m\n\u001b[0;32m---> 18\u001b[0;31m     \u001b[0;34m@\u001b[0m\u001b[0mstaticmethod\u001b[0m\u001b[0;34m\u001b[0m\u001b[0m\n\u001b[0m\u001b[1;32m     19\u001b[0m     \u001b[0;32mdef\u001b[0m \u001b[0mforward\u001b[0m\u001b[0;34m(\u001b[0m\u001b[0mctx\u001b[0m\u001b[0;34m,\u001b[0m \u001b[0madd_matrix\u001b[0m\u001b[0;34m,\u001b[0m \u001b[0mmatrix1\u001b[0m\u001b[0;34m,\u001b[0m \u001b[0mmatrix2\u001b[0m\u001b[0;34m,\u001b[0m \u001b[0malpha\u001b[0m\u001b[0;34m=\u001b[0m\u001b[0;36m1\u001b[0m\u001b[0;34m,\u001b[0m \u001b[0mbeta\u001b[0m\u001b[0;34m=\u001b[0m\u001b[0;36m1\u001b[0m\u001b[0;34m,\u001b[0m \u001b[0minplace\u001b[0m\u001b[0;34m=\u001b[0m\u001b[0;32mFalse\u001b[0m\u001b[0;34m)\u001b[0m\u001b[0;34m:\u001b[0m\u001b[0;34m\u001b[0m\u001b[0m\n\u001b[1;32m     20\u001b[0m         \u001b[0mctx\u001b[0m\u001b[0;34m.\u001b[0m\u001b[0malpha\u001b[0m \u001b[0;34m=\u001b[0m \u001b[0malpha\u001b[0m\u001b[0;34m\u001b[0m\u001b[0m\n",
      "\u001b[0;31mKeyboardInterrupt\u001b[0m: "
     ]
    },
    {
     "name": "stderr",
     "output_type": "stream",
     "text": [
      "  File \"/home/voithru/anaconda3/envs/torch/lib/python3.6/multiprocessing/process.py\", line 93, in run\n",
      "    self._target(*self._args, **self._kwargs)\n",
      "  File \"/home/voithru/anaconda3/envs/torch/lib/python3.6/site-packages/torch/utils/data/dataloader.py\", line 34, in _worker_loop\n",
      "    r = index_queue.get()\n",
      "  File \"/home/voithru/anaconda3/envs/torch/lib/python3.6/multiprocessing/process.py\", line 249, in _bootstrap\n",
      "    self.run()\n",
      "  File \"/home/voithru/anaconda3/envs/torch/lib/python3.6/multiprocessing/queues.py\", line 342, in get\n",
      "    res = self._reader.recv_bytes()\n",
      "  File \"/home/voithru/anaconda3/envs/torch/lib/python3.6/multiprocessing/process.py\", line 249, in _bootstrap\n",
      "    self.run()\n",
      "  File \"/home/voithru/anaconda3/envs/torch/lib/python3.6/multiprocessing/connection.py\", line 216, in recv_bytes\n",
      "    buf = self._recv_bytes(maxlength)\n",
      "  File \"/home/voithru/anaconda3/envs/torch/lib/python3.6/multiprocessing/process.py\", line 93, in run\n",
      "    self._target(*self._args, **self._kwargs)\n",
      "  File \"/home/voithru/anaconda3/envs/torch/lib/python3.6/multiprocessing/process.py\", line 93, in run\n",
      "    self._target(*self._args, **self._kwargs)\n",
      "  File \"/home/voithru/anaconda3/envs/torch/lib/python3.6/multiprocessing/connection.py\", line 407, in _recv_bytes\n",
      "    buf = self._recv(4)\n",
      "  File \"/home/voithru/anaconda3/envs/torch/lib/python3.6/site-packages/torch/utils/data/dataloader.py\", line 34, in _worker_loop\n",
      "    r = index_queue.get()\n",
      "  File \"/home/voithru/anaconda3/envs/torch/lib/python3.6/site-packages/torch/utils/data/dataloader.py\", line 34, in _worker_loop\n",
      "    r = index_queue.get()\n",
      "  File \"/home/voithru/anaconda3/envs/torch/lib/python3.6/multiprocessing/connection.py\", line 379, in _recv\n",
      "    chunk = read(handle, remaining)\n",
      "Traceback (most recent call last):\n",
      "  File \"/home/voithru/anaconda3/envs/torch/lib/python3.6/multiprocessing/queues.py\", line 341, in get\n",
      "    with self._rlock:\n",
      "KeyboardInterrupt\n",
      "  File \"/home/voithru/anaconda3/envs/torch/lib/python3.6/multiprocessing/queues.py\", line 341, in get\n",
      "    with self._rlock:\n",
      "  File \"/home/voithru/anaconda3/envs/torch/lib/python3.6/multiprocessing/synchronize.py\", line 96, in __enter__\n",
      "    return self._semlock.__enter__()\n",
      "  File \"/home/voithru/anaconda3/envs/torch/lib/python3.6/multiprocessing/process.py\", line 249, in _bootstrap\n",
      "    self.run()\n",
      "KeyboardInterrupt\n",
      "  File \"/home/voithru/anaconda3/envs/torch/lib/python3.6/multiprocessing/synchronize.py\", line 96, in __enter__\n",
      "    return self._semlock.__enter__()\n",
      "KeyboardInterrupt\n",
      "  File \"/home/voithru/anaconda3/envs/torch/lib/python3.6/site-packages/torch/utils/data/dataloader.py\", line 34, in _worker_loop\n",
      "    r = index_queue.get()\n",
      "  File \"/home/voithru/anaconda3/envs/torch/lib/python3.6/multiprocessing/queues.py\", line 341, in get\n",
      "    with self._rlock:\n",
      "  File \"/home/voithru/anaconda3/envs/torch/lib/python3.6/multiprocessing/synchronize.py\", line 96, in __enter__\n",
      "    return self._semlock.__enter__()\n",
      "KeyboardInterrupt\n"
     ]
    }
   ],
   "source": [
    "writer=SummaryWriter('./logs/')\n",
    "\n",
    "try:\n",
    "#    model = torch.load('./model/dVAE.pkl')\n",
    "    print(\"\\n================== Model Restored ==================\\n\")\n",
    "except:\n",
    "    print(\"\\n============== No Model to be Restored ==============\\n\")\n",
    "    pass\n",
    "\n",
    "for i in range(60,60+num_epoch):\n",
    "    for batch_idx,[image,attacked,labels] in enumerate(train_loader):\n",
    "        n_iter = (i*len(train_loader))+batch_idx\n",
    "        \n",
    "        if use_gpu:\n",
    "            x=Variable(attacked).cuda()\n",
    "        else:\n",
    "            x=Variable(attacked)\n",
    "        # x: batchsize x 3 x 32 x 32\n",
    "        \n",
    "        optimizer.zero_grad()\n",
    "        \n",
    "        # add noise to the input\n",
    "        noise_added_image = add_noise(x,noise_level)\n",
    "        \n",
    "        # reconstructed based on the noise added image\n",
    "        reconstructed_image=model(noise_added_image)\n",
    "#        reconstructed_image=model(x)        \n",
    "        # calculate reconstruction loss with the original clean image\n",
    "        loss=loss_func(reconstructed_image,Variable(image).cuda(),model.z_mu,model.z_logvar)\n",
    "        loss.backward()\n",
    "        \n",
    "        optimizer.step()\n",
    "        \n",
    "        if batch_idx%50==0:\n",
    "            print('[Training Epoch: {} \\tn_iter: {} \\tLoss: {:.6f}]'.format(\n",
    "                i+1, n_iter, loss.data[0]))\n",
    "            plt.imshow(reconstructed_image.cpu().data[0].numpy().transpose(1,2,0), cmap='hsv')\n",
    "            plt.show(block=True)\n",
    "            correct = 0\n",
    "            total = 0\n",
    "            \n",
    "        if batch_idx%200==0:\n",
    "            torch.save(model,'./model/dVAE_'+str(batch_idx)+'.pkl')\n",
    "            torch.save(model,'./model/dVAE.pkl')\n",
    "            \n",
    "        writer.add_scalar('loss',loss.data[0] / len(x),n_iter)\n"
   ]
  },
  {
   "cell_type": "code",
   "execution_count": 117,
   "metadata": {},
   "outputs": [
    {
     "data": {
      "text/plain": [
       "torch.Size([32, 3, 32, 32])"
      ]
     },
     "execution_count": 117,
     "metadata": {},
     "output_type": "execute_result"
    }
   ],
   "source": []
  },
  {
   "cell_type": "code",
   "execution_count": 72,
   "metadata": {},
   "outputs": [
    {
     "data": {
      "text/plain": [
       "<matplotlib.image.AxesImage at 0x7f11ae7536d8>"
      ]
     },
     "execution_count": 72,
     "metadata": {},
     "output_type": "execute_result"
    },
    {
     "data": {
      "image/png": "[encoded data removed]",
      "text/plain": [
       "<matplotlib.figure.Figure at 0x7f11aeb13a20>"
      ]
     },
     "metadata": {},
     "output_type": "display_data"
    }
   ],
   "source": [
    "f, axarr = plt.subplots(3,3)\n",
    "axarr[0,0].imshow(traindset[11][1].numpy().transpose(1,2,0))\n",
    "axarr[0,1].imshow(traindset[1][1].numpy().transpose(1,2,0))\n",
    "axarr[0,2].imshow(traindset[2][1].numpy().transpose(1,2,0))\n",
    "axarr[1,0].imshow(traindset[13][1].numpy().transpose(1,2,0))\n",
    "axarr[1,1].imshow(traindset[4][1].numpy().transpose(1,2,0))\n",
    "axarr[1,2].imshow(traindset[5][1].numpy().transpose(1,2,0))\n",
    "axarr[2,0].imshow(traindset[20][1].numpy().transpose(1,2,0))\n",
    "axarr[2,1].imshow(traindset[7][1].numpy().transpose(1,2,0))\n",
    "axarr[2,2].imshow(traindset[8][1].numpy().transpose(1,2,0))"
   ]
  },
  {
   "cell_type": "code",
   "execution_count": 47,
   "metadata": {
    "collapsed": true
   },
   "outputs": [],
   "source": [
    "for i in train_loader:\n",
    "    break"
   ]
  },
  {
   "cell_type": "code",
   "execution_count": 48,
   "metadata": {},
   "outputs": [
    {
     "data": {
      "text/plain": [
       "<dataloader.dset at 0x7f1243b63780>"
      ]
     },
     "execution_count": 48,
     "metadata": {},
     "output_type": "execute_result"
    }
   ],
   "source": [
    "testdset"
   ]
  },
  {
   "cell_type": "code",
   "execution_count": 49,
   "metadata": {
    "collapsed": true
   },
   "outputs": [],
   "source": [
    "inp = Variable(i[1]).cuda()"
   ]
  },
  {
   "cell_type": "code",
   "execution_count": 50,
   "metadata": {
    "collapsed": true
   },
   "outputs": [],
   "source": [
    "outp = model(inp)"
   ]
  },
  {
   "cell_type": "code",
   "execution_count": 51,
   "metadata": {},
   "outputs": [
    {
     "data": {
      "text/plain": [
       "\n",
       "(0 ,.,.) = \n",
       "  0.3503  0.3544  0.3677  ...   0.3780  0.3738  0.3678\n",
       "  0.3698  0.3870  0.3936  ...   0.3911  0.3881  0.3730\n",
       "  0.3868  0.3994  0.4083  ...   0.4137  0.4035  0.3855\n",
       "           ...             ⋱             ...          \n",
       "  0.5378  0.5553  0.5578  ...   0.5236  0.5199  0.5111\n",
       "  0.5491  0.5521  0.5495  ...   0.5264  0.5276  0.5151\n",
       "  0.5423  0.5472  0.5470  ...   0.5270  0.5302  0.5164\n",
       "\n",
       "(1 ,.,.) = \n",
       "  0.2996  0.2896  0.2923  ...   0.2723  0.2684  0.2852\n",
       "  0.2936  0.2985  0.3014  ...   0.2747  0.2627  0.2681\n",
       "  0.2945  0.2966  0.3008  ...   0.2811  0.2651  0.2682\n",
       "           ...             ⋱             ...          \n",
       "  0.4158  0.4168  0.4061  ...   0.4055  0.4158  0.4270\n",
       "  0.4346  0.4238  0.4069  ...   0.4150  0.4249  0.4387\n",
       "  0.4398  0.4275  0.4150  ...   0.4322  0.4420  0.4520\n",
       "\n",
       "(2 ,.,.) = \n",
       "  0.1918  0.1721  0.1699  ...   0.1384  0.1421  0.1665\n",
       "  0.1719  0.1699  0.1741  ...   0.1366  0.1334  0.1417\n",
       "  0.1732  0.1720  0.1770  ...   0.1412  0.1362  0.1401\n",
       "           ...             ⋱             ...          \n",
       "  0.2362  0.2307  0.2213  ...   0.2021  0.2084  0.2157\n",
       "  0.2456  0.2338  0.2181  ...   0.2117  0.2186  0.2286\n",
       "  0.2649  0.2414  0.2273  ...   0.2347  0.2418  0.2617\n",
       "[torch.FloatTensor of size 3x32x32]"
      ]
     },
     "execution_count": 51,
     "metadata": {},
     "output_type": "execute_result"
    }
   ],
   "source": [
    "outp[0].data.cpu()"
   ]
  },
  {
   "cell_type": "code",
   "execution_count": 71,
   "metadata": {},
   "outputs": [
    {
     "data": {
      "text/plain": [
       "<matplotlib.image.AxesImage at 0x7f11ae949be0>"
      ]
     },
     "execution_count": 71,
     "metadata": {},
     "output_type": "execute_result"
    },
    {
     "data": {
      "image/png": "[encoded data removed]",
      "text/plain": [
       "<matplotlib.figure.Figure at 0x7f11aecf9898>"
      ]
     },
     "metadata": {},
     "output_type": "display_data"
    }
   ],
   "source": [
    "f, axarr = plt.subplots(3,3)\n",
    "axarr[0,0].imshow(outp[11].data.cpu().numpy().transpose(1,2,0))\n",
    "axarr[0,1].imshow(outp[1].data.cpu().numpy().transpose(1,2,0))\n",
    "axarr[0,2].imshow(outp[2].data.cpu().numpy().transpose(1,2,0))\n",
    "axarr[1,0].imshow(outp[13].data.cpu().numpy().transpose(1,2,0))\n",
    "axarr[1,1].imshow(outp[4].data.cpu().numpy().transpose(1,2,0))\n",
    "axarr[1,2].imshow(outp[5].data.cpu().numpy().transpose(1,2,0))\n",
    "axarr[2,0].imshow(outp[20].data.cpu().numpy().transpose(1,2,0))\n",
    "axarr[2,1].imshow(outp[7].data.cpu().numpy().transpose(1,2,0))\n",
    "axarr[2,2].imshow(outp[8].data.cpu().numpy().transpose(1,2,0))"
   ]
  },
  {
   "cell_type": "code",
   "execution_count": 205,
   "metadata": {},
   "outputs": [
    {
     "ename": "AttributeError",
     "evalue": "'list' object has no attribute 'size'",
     "output_type": "error",
     "traceback": [
      "\u001b[0;31m---------------------------------------------------------------------------\u001b[0m",
      "\u001b[0;31mAttributeError\u001b[0m                            Traceback (most recent call last)",
      "\u001b[0;32m<ipython-input-205-96e4af76c1fe>\u001b[0m in \u001b[0;36m<module>\u001b[0;34m()\u001b[0m\n\u001b[1;32m      5\u001b[0m     \u001b[0moutputs\u001b[0m \u001b[0;34m=\u001b[0m \u001b[0mnet\u001b[0m\u001b[0;34m(\u001b[0m\u001b[0mVariable\u001b[0m\u001b[0;34m(\u001b[0m\u001b[0mattack\u001b[0m\u001b[0;34m)\u001b[0m\u001b[0;34m.\u001b[0m\u001b[0mcuda\u001b[0m\u001b[0;34m(\u001b[0m\u001b[0;34m)\u001b[0m\u001b[0;34m)\u001b[0m\u001b[0;34m\u001b[0m\u001b[0m\n\u001b[1;32m      6\u001b[0m     \u001b[0m_\u001b[0m\u001b[0;34m,\u001b[0m \u001b[0mpredicted\u001b[0m \u001b[0;34m=\u001b[0m \u001b[0mtorch\u001b[0m\u001b[0;34m.\u001b[0m\u001b[0mmax\u001b[0m\u001b[0;34m(\u001b[0m\u001b[0moutputs\u001b[0m\u001b[0;34m.\u001b[0m\u001b[0mdata\u001b[0m\u001b[0;34m,\u001b[0m \u001b[0;36m1\u001b[0m\u001b[0;34m)\u001b[0m\u001b[0;34m\u001b[0m\u001b[0m\n\u001b[0;32m----> 7\u001b[0;31m     \u001b[0mtotal\u001b[0m \u001b[0;34m+=\u001b[0m \u001b[0mlabels\u001b[0m\u001b[0;34m.\u001b[0m\u001b[0msize\u001b[0m\u001b[0;34m(\u001b[0m\u001b[0;36m0\u001b[0m\u001b[0;34m)\u001b[0m\u001b[0;34m\u001b[0m\u001b[0m\n\u001b[0m\u001b[1;32m      8\u001b[0m     \u001b[0mcorrect\u001b[0m \u001b[0;34m+=\u001b[0m \u001b[0;34m(\u001b[0m\u001b[0mpredicted\u001b[0m\u001b[0;34m.\u001b[0m\u001b[0mcuda\u001b[0m\u001b[0;34m(\u001b[0m\u001b[0;34m)\u001b[0m \u001b[0;34m==\u001b[0m \u001b[0mlabels\u001b[0m\u001b[0;34m.\u001b[0m\u001b[0mcuda\u001b[0m\u001b[0;34m(\u001b[0m\u001b[0;34m)\u001b[0m\u001b[0;34m)\u001b[0m\u001b[0;34m.\u001b[0m\u001b[0msum\u001b[0m\u001b[0;34m(\u001b[0m\u001b[0;34m)\u001b[0m\u001b[0;34m\u001b[0m\u001b[0m\n\u001b[1;32m      9\u001b[0m \u001b[0;34m\u001b[0m\u001b[0m\n",
      "\u001b[0;31mAttributeError\u001b[0m: 'list' object has no attribute 'size'"
     ]
    }
   ],
   "source": [
    "correct = 0\n",
    "total = 0\n",
    "for data in test_loader:\n",
    "    images,attack, labels = data\n",
    "    outputs = net(Variable(attack).cuda())\n",
    "    _, predicted = torch.max(outputs.data, 1)\n",
    "    total += labels.size(0)\n",
    "    correct += (predicted.cuda() == labels.cuda()).sum()\n",
    "\n",
    "print('Accuracy of the network on the 10000 test images: %d %%' % (\n",
    "    100 * correct / total))"
   ]
  },
  {
   "cell_type": "code",
   "execution_count": 203,
   "metadata": {},
   "outputs": [
    {
     "data": {
      "text/plain": [
       "\n",
       "(0 ,0 ,.,.) = \n",
       "  0.3294  0.3020  0.2627  ...   0.2667  0.2392  0.2275\n",
       "  0.2941  0.2745  0.2863  ...   0.2000  0.1961  0.2157\n",
       "  0.2941  0.2549  0.2549  ...   0.2549  0.2235  0.2275\n",
       "           ...             ⋱             ...          \n",
       "  0.3412  0.2706  0.2353  ...   0.4588  0.4667  0.3765\n",
       "  0.3490  0.3333  0.2471  ...   0.3843  0.3529  0.2627\n",
       "  0.3176  0.3412  0.3608  ...   0.2902  0.2588  0.2275\n",
       "\n",
       "(0 ,1 ,.,.) = \n",
       "  0.3098  0.3333  0.3294  ...   0.2824  0.2471  0.2275\n",
       "  0.3333  0.3569  0.3843  ...   0.2118  0.2157  0.2392\n",
       "  0.3647  0.3529  0.3529  ...   0.3098  0.2706  0.2588\n",
       "           ...             ⋱             ...          \n",
       "  0.3686  0.2863  0.2588  ...   0.5216  0.5294  0.4353\n",
       "  0.3843  0.3725  0.2902  ...   0.4353  0.4275  0.3333\n",
       "  0.3608  0.4000  0.4196  ...   0.3176  0.3176  0.2863\n",
       "\n",
       "(0 ,2 ,.,.) = \n",
       "  0.3098  0.2980  0.1804  ...   0.4941  0.3608  0.2196\n",
       "  0.2392  0.2314  0.2078  ...   0.3882  0.2314  0.1294\n",
       "  0.2039  0.1686  0.1804  ...   0.1725  0.1373  0.1412\n",
       "           ...             ⋱             ...          \n",
       "  0.4118  0.4667  0.4824  ...   0.4588  0.4510  0.3529\n",
       "  0.3647  0.3529  0.2980  ...   0.5333  0.5294  0.4039\n",
       "  0.2471  0.2588  0.2784  ...   0.4941  0.5098  0.4235\n",
       "     ⋮ \n",
       "\n",
       "(1 ,0 ,.,.) = \n",
       "  0.8745  0.8941  0.9059  ...   0.6431  0.7255  0.6549\n",
       "  0.8510  0.8902  0.9059  ...   0.3804  0.4784  0.4588\n",
       "  0.8353  0.8235  0.8549  ...   0.2941  0.3451  0.3294\n",
       "           ...             ⋱             ...          \n",
       "  0.4039  0.4627  0.5490  ...   0.6039  0.6078  0.6000\n",
       "  0.4196  0.4471  0.5333  ...   0.5725  0.5529  0.5294\n",
       "  0.4392  0.4980  0.5490  ...   0.5647  0.5725  0.5451\n",
       "\n",
       "(1 ,1 ,.,.) = \n",
       "  0.9373  0.9451  0.9490  ...   0.6941  0.7725  0.7020\n",
       "  0.9098  0.9412  0.9451  ...   0.4157  0.5059  0.4902\n",
       "  0.8980  0.8745  0.8941  ...   0.3176  0.3647  0.3490\n",
       "           ...             ⋱             ...          \n",
       "  0.3765  0.4196  0.4824  ...   0.5137  0.5098  0.5020\n",
       "  0.3882  0.4039  0.4667  ...   0.4863  0.4588  0.4314\n",
       "  0.4118  0.4549  0.4824  ...   0.4824  0.4863  0.4549\n",
       "\n",
       "(1 ,2 ,.,.) = \n",
       "  0.9490  0.9490  0.9686  ...   0.7098  0.8118  0.7647\n",
       "  0.9373  0.9647  0.9804  ...   0.4314  0.5490  0.5451\n",
       "  0.9294  0.9098  0.9412  ...   0.3216  0.4000  0.4000\n",
       "           ...             ⋱             ...          \n",
       "  0.3137  0.3529  0.4157  ...   0.4235  0.4196  0.4118\n",
       "  0.3216  0.3333  0.4000  ...   0.4039  0.3686  0.3412\n",
       "  0.3451  0.3843  0.4157  ...   0.4039  0.4000  0.3647\n",
       "     ⋮ \n",
       "\n",
       "(2 ,0 ,.,.) = \n",
       "  0.0627  0.0588  0.0549  ...   0.0431  0.0431  0.0471\n",
       "  0.0627  0.0549  0.0510  ...   0.0510  0.0510  0.0549\n",
       "  0.0588  0.0510  0.0471  ...   0.0510  0.0471  0.0510\n",
       "           ...             ⋱             ...          \n",
       "  0.0588  0.0667  0.0706  ...   0.0314  0.0314  0.0353\n",
       "  0.0431  0.0392  0.0471  ...   0.0314  0.0314  0.0353\n",
       "  0.0431  0.0392  0.0353  ...   0.0314  0.0314  0.0314\n",
       "\n",
       "(2 ,1 ,.,.) = \n",
       "  0.0824  0.0824  0.0902  ...   0.0784  0.0706  0.0667\n",
       "  0.0902  0.0941  0.1020  ...   0.0902  0.0824  0.0745\n",
       "  0.1020  0.1059  0.1137  ...   0.0980  0.0863  0.0784\n",
       "           ...             ⋱             ...          \n",
       "  0.0745  0.0824  0.0863  ...   0.0275  0.0275  0.0314\n",
       "  0.0549  0.0549  0.0588  ...   0.0275  0.0275  0.0314\n",
       "  0.0431  0.0353  0.0353  ...   0.0275  0.0314  0.0314\n",
       "\n",
       "(2 ,2 ,.,.) = \n",
       "  0.2118  0.2196  0.2353  ...   0.2039  0.1882  0.1725\n",
       "  0.2392  0.2471  0.2627  ...   0.2353  0.2196  0.2039\n",
       "  0.2706  0.2784  0.2941  ...   0.2667  0.2510  0.2314\n",
       "           ...             ⋱             ...          \n",
       "  0.1059  0.1137  0.1216  ...   0.0471  0.0471  0.0510\n",
       "  0.0784  0.0745  0.0784  ...   0.0471  0.0471  0.0510\n",
       "  0.0510  0.0431  0.0431  ...   0.0392  0.0392  0.0392\n",
       "...   \n",
       "     ⋮ \n",
       "\n",
       "(29,0 ,.,.) = \n",
       "  0.5098  0.3333  0.2275  ...   0.2471  0.1686  0.1608\n",
       "  0.6000  0.3647  0.1725  ...   0.1216  0.0745  0.2196\n",
       "  0.4235  0.3608  0.2275  ...   0.1333  0.1020  0.3608\n",
       "           ...             ⋱             ...          \n",
       "  0.6353  0.6392  0.6157  ...   0.6863  0.6549  0.6863\n",
       "  0.7098  0.7059  0.6471  ...   0.7176  0.7020  0.6784\n",
       "  0.6314  0.6353  0.6039  ...   0.6941  0.6471  0.6314\n",
       "\n",
       "(29,1 ,.,.) = \n",
       "  0.6078  0.3804  0.2275  ...   0.2824  0.1922  0.1686\n",
       "  0.6980  0.4196  0.1882  ...   0.1569  0.0980  0.2275\n",
       "  0.5255  0.4275  0.2706  ...   0.1686  0.1255  0.3686\n",
       "           ...             ⋱             ...          \n",
       "  0.6235  0.6078  0.5647  ...   0.7569  0.7333  0.7608\n",
       "  0.6667  0.6314  0.5451  ...   0.7647  0.7608  0.7490\n",
       "  0.6196  0.5843  0.5137  ...   0.7216  0.6941  0.6941\n",
       "\n",
       "(29,2 ,.,.) = \n",
       "  0.5373  0.3529  0.2471  ...   0.2627  0.1725  0.1529\n",
       "  0.6314  0.3882  0.1922  ...   0.1255  0.0745  0.2039\n",
       "  0.4510  0.3765  0.2392  ...   0.1333  0.0941  0.3412\n",
       "           ...             ⋱             ...          \n",
       "  0.4000  0.4118  0.3882  ...   0.4235  0.4000  0.4510\n",
       "  0.4627  0.4667  0.4118  ...   0.4549  0.4431  0.4549\n",
       "  0.4275  0.4431  0.4118  ...   0.4471  0.4157  0.4353\n",
       "     ⋮ \n",
       "\n",
       "(30,0 ,.,.) = \n",
       "  0.1922  0.0314  0.0275  ...   0.1922  0.2706  0.2667\n",
       "  0.1451  0.0667  0.0314  ...   0.1804  0.2863  0.2980\n",
       "  0.1255  0.0941  0.0667  ...   0.1255  0.2000  0.3059\n",
       "           ...             ⋱             ...          \n",
       "  0.8863  0.8745  0.7529  ...   0.4275  0.5412  0.6549\n",
       "  0.8784  0.7647  0.8667  ...   0.4745  0.5765  0.6353\n",
       "  0.8196  0.7333  0.8510  ...   0.6471  0.4902  0.5255\n",
       "\n",
       "(30,1 ,.,.) = \n",
       "  0.1569  0.0275  0.0275  ...   0.1373  0.2039  0.1961\n",
       "  0.1098  0.0431  0.0314  ...   0.1176  0.2392  0.2510\n",
       "  0.0941  0.0588  0.0510  ...   0.0902  0.1529  0.2588\n",
       "           ...             ⋱             ...          \n",
       "  0.7961  0.7961  0.6078  ...   0.2980  0.3843  0.4863\n",
       "  0.7804  0.6549  0.7725  ...   0.3373  0.4706  0.4706\n",
       "  0.6549  0.5804  0.7451  ...   0.4824  0.4118  0.4118\n",
       "\n",
       "(30,2 ,.,.) = \n",
       "  0.1137  0.0235  0.0275  ...   0.0941  0.1608  0.1569\n",
       "  0.0745  0.0235  0.0235  ...   0.0745  0.1922  0.2157\n",
       "  0.0667  0.0353  0.0392  ...   0.0510  0.1059  0.2157\n",
       "           ...             ⋱             ...          \n",
       "  0.6157  0.6235  0.4275  ...   0.1569  0.2157  0.2941\n",
       "  0.6039  0.4745  0.5882  ...   0.1922  0.2588  0.2824\n",
       "  0.4471  0.3961  0.5647  ...   0.3373  0.2039  0.2471\n",
       "     ⋮ \n",
       "\n",
       "(31,0 ,.,.) = \n",
       "  0.6863  0.6118  0.4118  ...   0.6314  0.6510  0.4706\n",
       "  0.5804  0.5804  0.4902  ...   0.4980  0.5373  0.4353\n",
       "  0.4588  0.4667  0.4275  ...   0.4000  0.5176  0.5137\n",
       "           ...             ⋱             ...          \n",
       "  0.2980  0.3020  0.3059  ...   0.7412  0.7725  0.7765\n",
       "  0.2667  0.2667  0.2784  ...   0.5098  0.5843  0.6431\n",
       "  0.2353  0.2627  0.2941  ...   0.3725  0.4039  0.3804\n",
       "\n",
       "(31,1 ,.,.) = \n",
       "  0.7176  0.6118  0.3882  ...   0.6549  0.6706  0.4667\n",
       "  0.5961  0.5725  0.4667  ...   0.4980  0.5412  0.4392\n",
       "  0.4275  0.4157  0.3608  ...   0.3843  0.5529  0.5765\n",
       "           ...             ⋱             ...          \n",
       "  0.3569  0.3608  0.3608  ...   0.7137  0.7412  0.7490\n",
       "  0.3333  0.3216  0.3294  ...   0.4941  0.5608  0.6196\n",
       "  0.3059  0.3216  0.3412  ...   0.3725  0.4000  0.3843\n",
       "\n",
       "(31,2 ,.,.) = \n",
       "  0.7686  0.6510  0.3882  ...   0.7020  0.6863  0.4471\n",
       "  0.6510  0.6078  0.4627  ...   0.4980  0.5216  0.4039\n",
       "  0.3216  0.3216  0.2902  ...   0.3451  0.5490  0.6000\n",
       "           ...             ⋱             ...          \n",
       "  0.1098  0.1176  0.1216  ...   0.6941  0.7373  0.7569\n",
       "  0.0941  0.0863  0.0863  ...   0.3765  0.4706  0.5569\n",
       "  0.0706  0.0863  0.0980  ...   0.1529  0.2118  0.2275\n",
       "[torch.FloatTensor of size 32x3x32x32]"
      ]
     },
     "execution_count": 203,
     "metadata": {},
     "output_type": "execute_result"
    }
   ],
   "source": [
    "images"
   ]
  },
  {
   "cell_type": "code",
   "execution_count": 204,
   "metadata": {},
   "outputs": [
    {
     "data": {
      "text/plain": [
       "Variable containing:\n",
       "(0 ,0 ,.,.) = \n",
       " -0.6912 -0.8075 -1.9900  ...  -1.9706 -2.0869 -2.1451\n",
       " -1.8737 -0.9238 -0.8657  ...  -1.2340 -1.2340 -1.1564\n",
       " -0.8463 -1.0014 -1.0014  ...  -1.0014 -1.1371 -1.1177\n",
       "           ...             ⋱             ...          \n",
       " -0.6524 -0.9432 -1.0789  ...  -0.1678 -0.1290 -0.4974\n",
       " -0.6137 -0.6718 -1.0401  ...  -0.4780 -0.5943 -1.9900\n",
       " -1.7768 -0.6524 -0.5749  ...  -1.8737 -2.0094 -2.1451\n",
       "\n",
       "(0 ,1 ,.,.) = \n",
       " -1.7690 -1.6706 -1.6903  ...  -1.8870 -2.0246 -2.1230\n",
       " -1.6706 -1.5723 -0.4316  ...  -1.1396 -1.1200 -2.0640\n",
       " -0.5103 -1.5920 -1.5920  ...  -1.7690 -1.9263 -1.9853\n",
       "           ...             ⋱             ...          \n",
       " -0.4906 -1.8673 -1.9853  ...   0.1387 -0.8643 -1.2576\n",
       " -1.4740 -1.5133 -0.8250  ...  -1.2576 -0.2546 -1.6706\n",
       " -1.5723 -0.3530 -0.2743  ...  -1.7493 -0.7070 -0.8250\n",
       "\n",
       "(0 ,2 ,.,.) = \n",
       " -0.5472 -0.6057 -2.1080  ...  -0.8203 -1.3861 -1.9519\n",
       " -1.8739 -1.9129 -0.9764  ...  -1.2690 -1.9129 -2.3226\n",
       " -0.9959 -2.1665 -2.1080  ...  -2.1470 -1.2690 -1.2495\n",
       "           ...             ⋱             ...          \n",
       " -0.1374 -0.9374 -0.8788  ...  -0.9764 -1.0154 -0.3716\n",
       " -0.3325 -1.4056 -1.6397  ...   0.3698  0.3503 -0.1765\n",
       " -0.8203 -0.7618 -1.7178  ...  -0.8203  0.2723 -0.0789\n",
       "     ⋮ \n",
       "\n",
       "(1 ,0 ,.,.) = \n",
       "  0.9439  1.0408  1.0990  ...   1.0408  0.3042 -0.0060\n",
       "  0.8470  1.0214  2.1845  ...  -1.2078  0.3236  0.2267\n",
       "  1.8744  0.7307  1.9713  ...  -1.5955 -0.2580 -0.3355\n",
       "           ...             ⋱             ...          \n",
       " -1.1109  0.2461 -0.4712  ...   0.8664  0.8858 -0.2580\n",
       "  0.0522 -0.9170  0.5562  ...   0.7307  0.6338 -0.5487\n",
       "  0.1491 -0.7038  0.6338  ...   0.6919  0.7307 -0.4906\n",
       "\n",
       "(1 ,1 ,.,.) = \n",
       "  1.2988  1.3184  2.4591  ...   1.3184  0.5514  1.3578\n",
       "  1.1611  1.2988  2.4395  ...  -1.0219  0.4924  0.4138\n",
       "  2.2231  1.0038  2.2231  ...  -1.4546 -0.1369 -0.2156\n",
       "           ...             ⋱             ...          \n",
       " -1.1989  0.0991 -0.7269  ...  -0.5892 -0.6089 -0.6482\n",
       " -1.1399 -1.0809  0.3154  ...  -0.7072 -0.8252 -0.9629\n",
       "  0.0794 -0.8449  0.3941  ...  -0.7269 -0.7072 -0.8449\n",
       "\n",
       "(1 ,2 ,.,.) = \n",
       "  2.6172  2.6172  2.6952  ...   1.5636  0.9003  0.7052\n",
       "  2.5586  2.6757  2.7537  ...  -0.7776  0.8612  0.8417\n",
       "  1.4270  1.3295  2.5781  ...  -1.2459  0.1979  0.1979\n",
       "           ...             ⋱             ...          \n",
       " -1.2849 -0.0167 -0.8362  ...   0.2954 -0.8167 -0.8557\n",
       " -0.1533 -1.2069  0.1979  ...  -0.8947 -1.0508 -0.0558\n",
       " -1.1483 -0.9727  0.2564  ...  -0.8947 -0.9142 -1.0703\n",
       "     ⋮ \n",
       "\n",
       "(2 ,0 ,.,.) = \n",
       " -2.1771 -2.1964 -2.2158  ...  -2.2546 -2.2546 -1.2466\n",
       " -2.1771 -2.2158 -2.2352  ...  -1.2272 -2.2352 -1.2078\n",
       " -2.1964 -2.2352 -1.2466  ...  -2.2352 -1.2466 -2.2352\n",
       "           ...             ⋱             ...          \n",
       " -1.1884 -1.1690 -1.1497  ...  -2.3128 -1.3047 -2.2934\n",
       " -1.2466 -1.2660 -1.2466  ...  -2.3128 -1.3047 -2.2934\n",
       " -1.2466 -2.2740 -2.2934  ...  -1.3047 -2.3128 -1.3047\n",
       "\n",
       "(2 ,1 ,.,.) = \n",
       " -2.0839 -2.0839 -2.0446  ...  -1.0809 -2.1233 -1.1399\n",
       " -1.0416 -1.0219 -0.9826  ...  -1.0416 -2.0839 -1.1006\n",
       " -0.9826 -0.9826 -0.9432  ...  -1.0022 -1.0612 -2.1036\n",
       "           ...             ⋱             ...          \n",
       " -2.1233 -1.0612 -1.0612  ...  -2.3003 -1.2972 -2.3003\n",
       " -2.2019 -2.2019 -1.1596  ...  -2.3003 -1.2972 -2.3003\n",
       " -1.2186 -2.2806 -2.2806  ...  -1.2972 -2.3003 -1.2776\n",
       "\n",
       "(2 ,2 ,.,.) = \n",
       " -0.3679 -0.3289 -1.2849  ...  -0.3874 -0.4655 -1.5190\n",
       " -0.2509 -1.2264 -1.1678  ...  -0.2704 -1.3434 -0.3874\n",
       " -0.1338 -1.1093 -1.0313  ...  -1.1483 -0.2118 -1.2849\n",
       "           ...             ⋱             ...          \n",
       " -1.7922 -1.7727 -1.7336  ...  -2.0263 -1.0313 -1.0118\n",
       " -1.9092 -1.9287 -0.8947  ...  -2.0263 -1.0313 -2.0263\n",
       " -1.0118 -2.0458 -1.0313  ...  -1.0508 -2.0653 -1.0508\n",
       "...   \n",
       "     ⋮ \n",
       "\n",
       "(29,0 ,.,.) = \n",
       "  0.8470 -1.0140 -1.4792  ...  -1.3823 -0.6457 -0.6650\n",
       "  0.1491 -0.8783 -1.7118  ...  -0.8395 -2.1383 -1.5180\n",
       " -0.6263  0.1879 -0.3743  ...  -1.8863 -2.0220 -0.8977\n",
       "           ...             ⋱             ...          \n",
       "  1.3898  0.3236  0.2073  ...   0.5174  0.3817  0.5174\n",
       "  1.7193  0.6144  0.3430  ...   0.6531  0.5950  1.5836\n",
       "  0.2848  0.3042  1.2541  ...   0.5562  0.3430  1.3704\n",
       "\n",
       "(29,1 ,.,.) = \n",
       "  0.2368 -0.7662 -0.3336  ...  -1.1989 -1.6119 -0.6089\n",
       "  0.6301  0.5121 -0.5106  ...  -0.6482 -2.0249 -0.3336\n",
       " -0.1369  0.5318 -0.1566  ...  -0.6089 -0.7859  0.2761\n",
       "           ...             ⋱             ...          \n",
       "  0.2958  0.2368  1.1414  ...   1.9871  0.7874  0.9054\n",
       "  0.4924  1.4364  1.0628  ...   2.0265  2.0068  1.9478\n",
       "  0.2761  1.2398  0.9251  ...   1.8298  1.7118  1.7118\n",
       "\n",
       "(29,2 ,.,.) = \n",
       "  1.1929 -0.7191 -1.1678  ...  -0.0167 -0.4069 -0.4850\n",
       "  1.6026  0.5491 -1.4215  ...  -0.6020 -0.8362 -0.2704\n",
       " -0.2899  0.4905 -0.1143  ...  -1.6751 -0.7386  0.3345\n",
       "           ...             ⋱             ...          \n",
       "  0.5881 -0.4460  0.5491  ...  -0.4069  0.5881 -0.2899\n",
       " -0.2313 -0.2118 -0.4460  ...   0.8417  0.7832 -0.2704\n",
       " -0.3874  0.7832  0.6466  ...   0.8027 -0.4460 -0.3484\n",
       "     ⋮ \n",
       "\n",
       "(30,0 ,.,.) = \n",
       " -1.7312 -2.3903 -1.3823  ...  -1.7312 -0.3936 -1.4404\n",
       " -1.9251 -2.2546 -1.3629  ...  -0.7620 -0.3355 -0.2773\n",
       " -0.9752 -1.1109 -1.2272  ...  -0.9752 -0.6844 -1.2660\n",
       "           ...             ⋱             ...          \n",
       "  1.0990  1.0602  0.5562  ...   0.2461  0.7113  0.1491\n",
       "  1.0602  1.6224  1.0214  ...  -0.5875  0.8664  1.0990\n",
       "  1.8550  0.4787  0.9633  ...   0.1297 -0.5100  0.6531\n",
       "\n",
       "(30,1 ,.,.) = \n",
       " -1.8676 -2.3986 -1.3562  ...  -1.9463 -0.6286 -1.7102\n",
       " -1.0219 -2.3396 -2.3789  ...  -0.9826 -1.5136 -0.4319\n",
       " -1.0809 -2.2806 -2.3003  ...  -1.1006 -0.8449 -1.4349\n",
       "           ...             ⋱             ...          \n",
       "  0.7874  0.7874  1.0431  ...  -0.2352  0.1188 -0.4909\n",
       "  0.7284  1.2398  1.7314  ...  -0.0779  0.4728  0.4728\n",
       "  1.2398 -0.0976  1.6134  ...  -0.5106 -0.8056  0.2368\n",
       "\n",
       "(30,2 ,.,.) = \n",
       " -1.8507 -2.2214 -2.2019  ...  -1.9287 -1.6556 -1.6751\n",
       " -2.0068 -1.1873 -2.2214  ...  -2.0068 -1.5190 -1.4215\n",
       " -1.0118 -2.1824 -2.1629  ...  -1.0703 -1.8897 -1.4215\n",
       "           ...             ⋱             ...          \n",
       "  1.2514  1.2905  0.4710  ...  -1.6751 -1.4215 -1.1093\n",
       "  1.2124  0.6661  0.1003  ...  -1.5190 -1.2459 -1.1483\n",
       " -0.4850 -0.6801  1.0368  ...   0.1003 -1.4800 -0.2704\n",
       "     ⋮ \n",
       "\n",
       "(31,0 ,.,.) = \n",
       "  1.4867  1.1765 -0.7813  ...   1.2541  0.2461 -0.5293\n",
       "  1.0408  1.0408  0.6531  ...   0.6725 -0.2386 -0.6844\n",
       " -0.5681  0.5368  0.3817  ...  -0.8395  0.7694 -0.3355\n",
       "           ...             ⋱             ...          \n",
       " -0.1804 -1.2660 -1.2466  ...   1.7387  0.7888  0.7888\n",
       " -0.3161 -1.4017 -1.3629  ...  -0.3549 -0.0253  0.2267\n",
       " -1.5374 -1.4211 -0.1998  ...  -0.9558  0.2654 -0.9170\n",
       "\n",
       "(31,1 ,.,.) = \n",
       "  0.5908  1.2398 -0.8449  ...   0.3154  0.3941 -0.5106\n",
       "  0.0598  1.0628  0.5908  ...   0.7284  0.9251  0.4728\n",
       " -0.6679  0.3744  0.1384  ...  -0.8646  0.9841 -0.0189\n",
       "           ...             ⋱             ...          \n",
       "  0.1188 -0.9629 -0.9629  ...   1.6921  1.8101  1.8298\n",
       "  0.0204 -0.0386  0.0008  ...   0.7088  1.0038  1.2791\n",
       " -0.1172 -0.0386  0.0401  ...  -0.9236  0.2958 -0.8646\n",
       "\n",
       "(31,2 ,.,.) = \n",
       "  0.9978  1.5831 -0.6606  ...   0.7052  0.6271 -0.4069\n",
       "  0.4710  1.3880  0.7442  ...   0.9003  1.0173  0.4905\n",
       " -0.9532  0.1394 -1.0898  ...  -0.8557  1.1344  0.2564\n",
       "           ...             ⋱             ...          \n",
       " -1.8702 -1.8507 -1.8312  ...   1.7587  1.9538  2.0319\n",
       " -1.9482 -1.9873 -1.9873  ...  -0.7191  0.7832  0.0613\n",
       " -2.0458 -1.9873 -0.8362  ...  -1.6946 -1.4410 -1.3629\n",
       "[torch.cuda.FloatTensor of size 32x3x32x32 (GPU 0)]"
      ]
     },
     "execution_count": 204,
     "metadata": {},
     "output_type": "execute_result"
    }
   ],
   "source": [
    "attack"
   ]
  },
  {
   "cell_type": "code",
   "execution_count": 195,
   "metadata": {},
   "outputs": [
    {
     "data": {
      "text/plain": [
       "\n",
       "(0 ,.,.) = \n",
       " -0.2580 -0.1610 -0.5487  ...  -1.6343 -1.5955 -0.2192\n",
       " -0.1804 -0.0060 -1.4792  ...  -1.5955 -1.4017 -1.4598\n",
       " -1.2466  0.0910 -1.2660  ...  -1.1690 -1.2466 -0.5487\n",
       "           ...             ⋱             ...          \n",
       "  0.2848  0.2073 -0.3936  ...   0.0134  0.4787 -0.3743\n",
       "  0.2654 -1.2078 -0.8395  ...   1.1378  0.1879 -0.6650\n",
       " -0.0253 -1.9251 -2.1189  ...   1.1378  1.3316  0.8664\n",
       "\n",
       "(1 ,.,.) = \n",
       " -1.3169 -1.0809 -0.2352  ...  -1.3366 -1.1596  0.1974\n",
       " -1.1006 -0.7072 -0.0386  ...  -0.1959  0.2368 -1.0809\n",
       " -0.8252  0.5908  0.1974  ...   0.3941  0.3941 -0.3139\n",
       "           ...             ⋱             ...          \n",
       " -0.2549 -0.3139  0.0401  ...   1.7314  2.2625  1.2004\n",
       " -0.2746 -0.6679 -0.4516  ...   1.8888  0.8661 -0.2156\n",
       " -0.7072 -1.6119 -0.6679  ...   0.6891  0.8071  0.2761\n",
       "\n",
       "(2 ,.,.) = \n",
       " -1.4410 -1.2069 -0.3679  ...  -1.6166 -0.2509 -0.0167\n",
       " -0.1533 -0.8947 -1.3239  ...  -0.4069  0.0418 -1.1678\n",
       " -1.0508  0.3735 -1.0898  ...   0.1589  0.1784 -1.4215\n",
       "           ...             ⋱             ...          \n",
       " -0.6996 -0.7971 -1.5385  ...   0.7442  1.2124  0.5686\n",
       " -0.8752 -1.0703 -1.9092  ...   0.8807  1.0173  0.3930\n",
       " -0.0362 -0.7191 -0.8947  ...   0.1003  0.2759 -0.2509\n",
       "[torch.FloatTensor of size 3x32x32]"
      ]
     },
     "execution_count": 195,
     "metadata": {},
     "output_type": "execute_result"
    }
   ],
   "source": [
    "testdset[4][1]"
   ]
  },
  {
   "cell_type": "code",
   "execution_count": null,
   "metadata": {
    "collapsed": true
   },
   "outputs": [],
   "source": [
    "# 이제 pretrained 불러오기"
   ]
  },
  {
   "cell_type": "code",
   "execution_count": 13,
   "metadata": {
    "collapsed": true
   },
   "outputs": [],
   "source": [
    "from models import *"
   ]
  },
  {
   "cell_type": "code",
   "execution_count": 14,
   "metadata": {
    "collapsed": true
   },
   "outputs": [],
   "source": [
    "net = VGG('VGG19')"
   ]
  },
  {
   "cell_type": "code",
   "execution_count": 15,
   "metadata": {
    "collapsed": true
   },
   "outputs": [],
   "source": [
    "net = net.cuda()"
   ]
  },
  {
   "cell_type": "code",
   "execution_count": 16,
   "metadata": {
    "collapsed": true
   },
   "outputs": [],
   "source": [
    "checkpoint = torch.load('./checkpoint/ckpt.t7')"
   ]
  },
  {
   "cell_type": "code",
   "execution_count": 17,
   "metadata": {
    "collapsed": true
   },
   "outputs": [],
   "source": [
    "net = checkpoint['net']"
   ]
  },
  {
   "cell_type": "code",
   "execution_count": null,
   "metadata": {
    "collapsed": true
   },
   "outputs": [],
   "source": [
    "norm = transforms.Normalize((0.4914, 0.4822, 0.4465), (0.2023, 0.1994, 0.2010))"
   ]
  },
  {
   "cell_type": "code",
   "execution_count": 44,
   "metadata": {},
   "outputs": [],
   "source": [
    "criterion = nn.CrossEntropyLoss()\n",
    "test_loss = 0\n",
    "correct = 0\n",
    "total = 0\n",
    "for batch_idx, (inputs, attack,targets) in enumerate(train_loader):\n",
    "    inputs, attack, targets = Variable(torch.FloatTensor(inputs), volatile=True),Variable(torch.FloatTensor(attack)), Variable(torch.LongTensor(targets))\n",
    "    if 1:\n",
    "        inputs, attack, targets = inputs.cuda(), attack.cuda(),targets.cuda()\n",
    "#    for i in range(attack.size()[0]):\n",
    "#        attaattack = transform_test(attack.cpu().data.numpy()[0])\n",
    "    attack = model(attack)\n",
    "#    attack = norm(attack)\n",
    "    outputs = net(attack)\n",
    "    loss = criterion(outputs.cpu(), targets.cpu())\n",
    "\n",
    "    test_loss += loss.data[0]\n",
    "    _, predicted = torch.max(outputs.data, 1)\n",
    "    total += targets.size(0)\n",
    "    correct += predicted.eq(targets.data).cpu().sum()"
   ]
  },
  {
   "cell_type": "code",
   "execution_count": 43,
   "metadata": {},
   "outputs": [
    {
     "data": {
      "text/plain": [
       "0.1662932138284251"
      ]
     },
     "execution_count": 43,
     "metadata": {},
     "output_type": "execute_result"
    }
   ],
   "source": [
    "correct/total"
   ]
  },
  {
   "cell_type": "code",
   "execution_count": 45,
   "metadata": {},
   "outputs": [
    {
     "data": {
      "text/plain": [
       "0.13420294494238155"
      ]
     },
     "execution_count": 45,
     "metadata": {},
     "output_type": "execute_result"
    }
   ],
   "source": [
    "correct/total"
   ]
  },
  {
   "cell_type": "code",
   "execution_count": 30,
   "metadata": {},
   "outputs": [
    {
     "data": {
      "text/plain": [
       "Variable containing:\n",
       "(0 ,0 ,.,.) = \n",
       "  2.6774e-01  2.5881e-01  2.6077e-01  ...   2.4203e-01  2.4598e-01  2.5856e-01\n",
       "  2.5686e-01  2.6103e-01  2.5850e-01  ...   2.5386e-01  2.5401e-01  2.5187e-01\n",
       "  2.5643e-01  2.5312e-01  2.5126e-01  ...   2.5714e-01  2.5180e-01  2.5274e-01\n",
       "                 ...                   ⋱                   ...                \n",
       "  4.2695e-01  4.4246e-01  4.5388e-01  ...   4.7842e-01  4.6101e-01  4.5355e-01\n",
       "  4.3157e-01  4.4461e-01  4.5638e-01  ...   4.8908e-01  4.7395e-01  4.6187e-01\n",
       "  4.3946e-01  4.4941e-01  4.5870e-01  ...   4.9291e-01  4.8531e-01  4.7220e-01\n",
       "\n",
       "(0 ,1 ,.,.) = \n",
       "  2.7833e-01  2.7074e-01  2.7014e-01  ...   2.4684e-01  2.4834e-01  2.6243e-01\n",
       "  2.6183e-01  2.6464e-01  2.5886e-01  ...   2.5168e-01  2.5259e-01  2.5463e-01\n",
       "  2.5970e-01  2.5844e-01  2.5157e-01  ...   2.5081e-01  2.4968e-01  2.5482e-01\n",
       "                 ...                   ⋱                   ...                \n",
       "  4.0906e-01  4.1718e-01  4.3355e-01  ...   4.6500e-01  4.4878e-01  4.3467e-01\n",
       "  4.1870e-01  4.2468e-01  4.3660e-01  ...   4.7312e-01  4.6163e-01  4.4614e-01\n",
       "  4.2553e-01  4.2828e-01  4.3868e-01  ...   4.7666e-01  4.6821e-01  4.5478e-01\n",
       "\n",
       "(0 ,2 ,.,.) = \n",
       "  2.3064e-01  2.2424e-01  2.2711e-01  ...   2.0376e-01  2.0106e-01  2.1631e-01\n",
       "  2.1143e-01  2.1459e-01  2.1369e-01  ...   2.0401e-01  2.0054e-01  2.0508e-01\n",
       "  2.1089e-01  2.1049e-01  2.0755e-01  ...   2.0049e-01  1.9537e-01  2.0523e-01\n",
       "                 ...                   ⋱                   ...                \n",
       "  3.5597e-01  3.6352e-01  3.7601e-01  ...   3.9794e-01  3.8216e-01  3.7091e-01\n",
       "  3.5957e-01  3.6702e-01  3.7974e-01  ...   4.0821e-01  3.9456e-01  3.7794e-01\n",
       "  3.6333e-01  3.6984e-01  3.8240e-01  ...   4.2040e-01  4.0529e-01  3.9306e-01\n",
       "     ⋮ \n",
       "\n",
       "(1 ,0 ,.,.) = \n",
       "  6.1967e-01  6.3003e-01  6.3685e-01  ...   4.7188e-01  4.6466e-01  4.7442e-01\n",
       "  6.1741e-01  6.1916e-01  6.2910e-01  ...   4.5622e-01  4.4631e-01  4.5760e-01\n",
       "  6.0434e-01  6.0906e-01  6.2150e-01  ...   4.3392e-01  4.2908e-01  4.4247e-01\n",
       "                 ...                   ⋱                   ...                \n",
       "  4.9214e-01  4.8962e-01  4.9032e-01  ...   4.7440e-01  4.7184e-01  4.7230e-01\n",
       "  4.7801e-01  4.7938e-01  4.8384e-01  ...   4.8321e-01  4.8087e-01  4.7858e-01\n",
       "  4.7515e-01  4.7750e-01  4.7705e-01  ...   4.8352e-01  4.8549e-01  4.8117e-01\n",
       "\n",
       "(1 ,1 ,.,.) = \n",
       "  6.2029e-01  6.2704e-01  6.3038e-01  ...   4.7499e-01  4.7395e-01  4.8497e-01\n",
       "  6.1411e-01  6.1260e-01  6.2151e-01  ...   4.5318e-01  4.4537e-01  4.6088e-01\n",
       "  5.9756e-01  6.0078e-01  6.1303e-01  ...   4.2509e-01  4.2153e-01  4.3748e-01\n",
       "                 ...                   ⋱                   ...                \n",
       "  4.8031e-01  4.7551e-01  4.7726e-01  ...   4.5230e-01  4.5349e-01  4.5517e-01\n",
       "  4.6697e-01  4.6395e-01  4.6776e-01  ...   4.6125e-01  4.6257e-01  4.6254e-01\n",
       "  4.5987e-01  4.5827e-01  4.5935e-01  ...   4.6387e-01  4.6445e-01  4.6365e-01\n",
       "\n",
       "(1 ,2 ,.,.) = \n",
       "  6.0333e-01  6.0917e-01  6.1055e-01  ...   4.4761e-01  4.4057e-01  4.5638e-01\n",
       "  5.9001e-01  5.8712e-01  5.9514e-01  ...   4.1857e-01  4.0845e-01  4.2662e-01\n",
       "  5.6605e-01  5.6699e-01  5.7485e-01  ...   3.9046e-01  3.8575e-01  4.0296e-01\n",
       "                 ...                   ⋱                   ...                \n",
       "  4.2306e-01  4.1630e-01  4.1747e-01  ...   3.9986e-01  3.9672e-01  3.9765e-01\n",
       "  4.0889e-01  4.0682e-01  4.0938e-01  ...   4.0693e-01  3.9964e-01  3.9668e-01\n",
       "  4.0266e-01  4.0425e-01  4.0797e-01  ...   4.1270e-01  4.0087e-01  3.9896e-01\n",
       "     ⋮ \n",
       "\n",
       "(2 ,0 ,.,.) = \n",
       "  9.1298e-02  6.1779e-02  6.4726e-02  ...   1.0024e-01  9.9230e-02  1.2187e-01\n",
       "  6.8398e-02  5.3064e-02  5.8351e-02  ...   9.9361e-02  1.0096e-01  1.1255e-01\n",
       "  7.4598e-02  6.0590e-02  6.5971e-02  ...   9.5346e-02  1.0264e-01  1.1752e-01\n",
       "                 ...                   ⋱                   ...                \n",
       "  5.3464e-02  3.2589e-02  3.0682e-02  ...   6.7653e-02  6.6273e-02  7.1539e-02\n",
       "  4.7827e-02  2.8236e-02  2.5785e-02  ...   7.7621e-02  7.2365e-02  7.4144e-02\n",
       "  7.3281e-02  4.2205e-02  4.0611e-02  ...   9.6783e-02  8.9874e-02  1.0525e-01\n",
       "\n",
       "(2 ,1 ,.,.) = \n",
       "  1.6963e-01  1.3693e-01  1.3550e-01  ...   1.9131e-01  1.8481e-01  1.9717e-01\n",
       "  1.4671e-01  1.2923e-01  1.2759e-01  ...   1.8689e-01  1.8504e-01  1.8699e-01\n",
       "  1.6144e-01  1.4779e-01  1.4708e-01  ...   1.8453e-01  1.9054e-01  1.9716e-01\n",
       "                 ...                   ⋱                   ...                \n",
       "  5.5572e-02  3.4768e-02  3.1807e-02  ...   8.1657e-02  8.1079e-02  8.6897e-02\n",
       "  5.2472e-02  3.2083e-02  2.8487e-02  ...   9.5220e-02  9.5747e-02  9.7591e-02\n",
       "  7.9296e-02  4.5986e-02  4.1347e-02  ...   1.1702e-01  1.1353e-01  1.2995e-01\n",
       "\n",
       "(2 ,2 ,.,.) = \n",
       "  2.8257e-01  2.6629e-01  2.6399e-01  ...   3.3123e-01  2.9920e-01  2.7949e-01\n",
       "  2.7994e-01  2.7040e-01  2.5789e-01  ...   3.2594e-01  3.0065e-01  2.6956e-01\n",
       "  3.1749e-01  3.0823e-01  3.0189e-01  ...   3.3382e-01  3.2358e-01  3.0363e-01\n",
       "                 ...                   ⋱                   ...                \n",
       "  5.1881e-02  3.5315e-02  3.3191e-02  ...   9.7379e-02  9.7012e-02  9.8586e-02\n",
       "  4.6691e-02  3.1275e-02  2.8757e-02  ...   1.1478e-01  1.1257e-01  1.0969e-01\n",
       "  7.0878e-02  4.4953e-02  4.1713e-02  ...   1.3746e-01  1.3265e-01  1.4390e-01\n",
       "...   \n",
       "     ⋮ \n",
       "\n",
       "(29,0 ,.,.) = \n",
       "  3.4642e-01  3.4354e-01  3.4181e-01  ...   2.5293e-01  2.5145e-01  2.5756e-01\n",
       "  3.3694e-01  3.4215e-01  3.4075e-01  ...   2.5840e-01  2.5839e-01  2.4852e-01\n",
       "  3.3770e-01  3.4039e-01  3.4360e-01  ...   2.5286e-01  2.5336e-01  2.4839e-01\n",
       "                 ...                   ⋱                   ...                \n",
       "  5.7482e-01  5.8105e-01  5.9262e-01  ...   5.2445e-01  5.2409e-01  5.2614e-01\n",
       "  5.7619e-01  5.8195e-01  5.8789e-01  ...   5.3332e-01  5.3072e-01  5.3051e-01\n",
       "  5.6515e-01  5.7564e-01  5.7975e-01  ...   5.3377e-01  5.3764e-01  5.3220e-01\n",
       "\n",
       "(29,1 ,.,.) = \n",
       "  3.5633e-01  3.5473e-01  3.5377e-01  ...   2.7787e-01  2.7092e-01  2.7529e-01\n",
       "  3.4113e-01  3.4697e-01  3.4775e-01  ...   2.7550e-01  2.7461e-01  2.6757e-01\n",
       "  3.4089e-01  3.4520e-01  3.4787e-01  ...   2.6653e-01  2.6868e-01  2.6990e-01\n",
       "                 ...                   ⋱                   ...                \n",
       "  5.6608e-01  5.6678e-01  5.7280e-01  ...   5.1685e-01  5.1395e-01  5.1195e-01\n",
       "  5.6790e-01  5.6909e-01  5.7336e-01  ...   5.1862e-01  5.1396e-01  5.1377e-01\n",
       "  5.5983e-01  5.6383e-01  5.7048e-01  ...   5.1644e-01  5.1703e-01  5.1248e-01\n",
       "\n",
       "(29,2 ,.,.) = \n",
       "  2.8509e-01  2.8195e-01  2.7965e-01  ...   2.0220e-01  1.9462e-01  2.0814e-01\n",
       "  2.7024e-01  2.7423e-01  2.7219e-01  ...   1.9823e-01  1.9446e-01  1.9447e-01\n",
       "  2.7350e-01  2.7331e-01  2.7340e-01  ...   1.9283e-01  1.9173e-01  1.9584e-01\n",
       "                 ...                   ⋱                   ...                \n",
       "  4.7216e-01  4.7641e-01  4.8274e-01  ...   4.1783e-01  4.1207e-01  4.1222e-01\n",
       "  4.6385e-01  4.7046e-01  4.7847e-01  ...   4.2276e-01  4.1630e-01  4.1380e-01\n",
       "  4.5707e-01  4.6293e-01  4.6834e-01  ...   4.3074e-01  4.2480e-01  4.2245e-01\n",
       "     ⋮ \n",
       "\n",
       "(30,0 ,.,.) = \n",
       "  1.4765e-02  1.0930e-02  3.9692e-02  ...   1.0050e-01  1.0126e-01  1.2827e-01\n",
       "  5.2070e-02  5.5046e-02  9.4651e-02  ...   9.3103e-02  9.3047e-02  1.1225e-01\n",
       "  1.1360e-01  1.1412e-01  1.2153e-01  ...   9.9151e-02  9.4794e-02  1.1225e-01\n",
       "                 ...                   ⋱                   ...                \n",
       "  7.8880e-01  7.8521e-01  7.9775e-01  ...   4.6907e-01  4.6379e-01  4.6647e-01\n",
       "  7.7284e-01  7.6601e-01  7.7656e-01  ...   5.3438e-01  5.1996e-01  5.1775e-01\n",
       "  7.4500e-01  7.4828e-01  7.4948e-01  ...   5.9721e-01  5.8479e-01  5.6747e-01\n",
       "\n",
       "(30,1 ,.,.) = \n",
       "  6.8869e-03  5.2033e-03  2.9537e-02  ...   1.0105e-01  1.0240e-01  1.3169e-01\n",
       "  3.4043e-02  4.1586e-02  9.2560e-02  ...   9.6436e-02  9.6928e-02  1.1579e-01\n",
       "  1.2563e-01  1.3017e-01  1.3559e-01  ...   1.0158e-01  9.7439e-02  1.1594e-01\n",
       "                 ...                   ⋱                   ...                \n",
       "  7.0256e-01  7.0178e-01  7.1475e-01  ...   3.9360e-01  3.9765e-01  3.9906e-01\n",
       "  6.9402e-01  6.8940e-01  7.0055e-01  ...   4.6968e-01  4.5487e-01  4.4620e-01\n",
       "  6.7402e-01  6.7260e-01  6.7496e-01  ...   5.3589e-01  5.1810e-01  5.0119e-01\n",
       "\n",
       "(30,2 ,.,.) = \n",
       "  4.0730e-03  1.7610e-03  9.5729e-03  ...   8.7332e-02  8.6618e-02  1.1184e-01\n",
       "  6.1055e-03  6.6753e-03  2.8695e-02  ...   8.0752e-02  7.7602e-02  9.3083e-02\n",
       "  5.0880e-02  6.7814e-02  8.7436e-02  ...   8.7061e-02  8.0006e-02  9.4600e-02\n",
       "                 ...                   ⋱                   ...                \n",
       "  5.8253e-01  5.8094e-01  5.8430e-01  ...   2.9579e-01  2.9381e-01  2.9232e-01\n",
       "  5.8304e-01  5.7333e-01  5.7366e-01  ...   3.5696e-01  3.3802e-01  3.2681e-01\n",
       "  5.7116e-01  5.5530e-01  5.4770e-01  ...   4.2097e-01  3.9814e-01  3.8325e-01\n",
       "     ⋮ \n",
       "\n",
       "(31,0 ,.,.) = \n",
       "  4.6467e-01  4.6649e-01  4.7364e-01  ...   5.5323e-01  5.5099e-01  5.3885e-01\n",
       "  4.7115e-01  4.7175e-01  4.7929e-01  ...   5.5533e-01  5.5247e-01  5.4184e-01\n",
       "  4.7715e-01  4.6750e-01  4.7220e-01  ...   5.4603e-01  5.4837e-01  5.4437e-01\n",
       "                 ...                   ⋱                   ...                \n",
       "  4.7716e-01  4.7545e-01  4.8683e-01  ...   4.9011e-01  4.9253e-01  5.0066e-01\n",
       "  4.8750e-01  4.8604e-01  4.9324e-01  ...   4.9974e-01  4.9493e-01  4.9781e-01\n",
       "  4.9070e-01  4.9325e-01  4.9459e-01  ...   5.0636e-01  5.0110e-01  4.9798e-01\n",
       "\n",
       "(31,1 ,.,.) = \n",
       "  5.0769e-01  5.0911e-01  5.0999e-01  ...   5.5876e-01  5.6364e-01  5.5274e-01\n",
       "  5.0669e-01  5.0401e-01  5.0861e-01  ...   5.6613e-01  5.6651e-01  5.5924e-01\n",
       "  5.0312e-01  4.9555e-01  5.0207e-01  ...   5.5915e-01  5.6346e-01  5.5703e-01\n",
       "                 ...                   ⋱                   ...                \n",
       "  4.8819e-01  4.8344e-01  4.9452e-01  ...   4.8514e-01  4.8876e-01  4.9634e-01\n",
       "  5.0026e-01  4.9174e-01  4.9948e-01  ...   4.9495e-01  4.9151e-01  5.0007e-01\n",
       "  5.0232e-01  4.9714e-01  4.9942e-01  ...   5.0091e-01  4.9754e-01  4.9852e-01\n",
       "\n",
       "(31,2 ,.,.) = \n",
       "  4.8378e-01  4.8603e-01  4.8732e-01  ...   5.0775e-01  5.1711e-01  5.2039e-01\n",
       "  4.7593e-01  4.7496e-01  4.7882e-01  ...   5.1679e-01  5.2451e-01  5.2405e-01\n",
       "  4.7661e-01  4.6777e-01  4.7125e-01  ...   5.1051e-01  5.1992e-01  5.2181e-01\n",
       "                 ...                   ⋱                   ...                \n",
       "  4.2526e-01  4.1877e-01  4.2411e-01  ...   4.1446e-01  4.1294e-01  4.2376e-01\n",
       "  4.3380e-01  4.2898e-01  4.3269e-01  ...   4.2594e-01  4.1993e-01  4.2831e-01\n",
       "  4.3692e-01  4.4035e-01  4.4123e-01  ...   4.3841e-01  4.2928e-01  4.3264e-01\n",
       "[torch.cuda.FloatTensor of size 32x3x32x32 (GPU 0)]"
      ]
     },
     "execution_count": 30,
     "metadata": {},
     "output_type": "execute_result"
    }
   ],
   "source": [
    "attack"
   ]
  },
  {
   "cell_type": "code",
   "execution_count": 31,
   "metadata": {
    "collapsed": true
   },
   "outputs": [],
   "source": [
    "torchvision.N"
   ]
  },
  {
   "cell_type": "code",
   "execution_count": 227,
   "metadata": {},
   "outputs": [
    {
     "data": {
      "text/plain": [
       "\n",
       "(0 ,.,.) = \n",
       " -2.4245 -2.4247 -2.4247  ...  -2.4218 -2.4218 -2.4217\n",
       " -2.4244 -2.4246 -2.4247  ...  -2.4223 -2.4222 -2.4221\n",
       " -2.4251 -2.4254 -2.4254  ...  -2.4234 -2.4235 -2.4234\n",
       "\n",
       "(1 ,.,.) = \n",
       " -2.4138 -2.4136 -2.4138  ...  -2.4106 -2.4106 -2.4106\n",
       " -2.4136 -2.4136 -2.4137  ...  -2.4112 -2.4111 -2.4112\n",
       " -2.4143 -2.4143 -2.4145  ...  -2.4123 -2.4124 -2.4125\n",
       "\n",
       "(2 ,.,.) = \n",
       " -2.2168 -2.2167 -2.2169  ...  -2.2136 -2.2137 -2.2137\n",
       " -2.2166 -2.2167 -2.2169  ...  -2.2143 -2.2143 -2.2143\n",
       " -2.2173 -2.2174 -2.2176  ...  -2.2154 -2.2155 -2.2156\n",
       "...\n",
       "\n",
       "(29,.,.) = \n",
       "  0.0009  0.0009  0.0009  ...   0.0016  0.0017  0.0017\n",
       "  0.0009  0.0009  0.0009  ...   0.0015  0.0015  0.0015\n",
       "  0.0007  0.0007  0.0007  ...   0.0012  0.0013  0.0013\n",
       "\n",
       "(30,.,.) = \n",
       "  0.0009  0.0009  0.0009  ...   0.0016  0.0016  0.0016\n",
       "  0.0009  0.0009  0.0009  ...   0.0015  0.0015  0.0015\n",
       "  0.0007  0.0007  0.0007  ...   0.0012  0.0012  0.0012\n",
       "\n",
       "(31,.,.) = \n",
       "  0.0010  0.0009  0.0009  ...   0.0015  0.0015  0.0015\n",
       "  0.0010  0.0009  0.0009  ...   0.0014  0.0014  0.0014\n",
       "  0.0008  0.0007  0.0007  ...   0.0011  0.0011  0.0011\n",
       "[torch.FloatTensor of size 32x3x32]"
      ]
     },
     "execution_count": 227,
     "metadata": {},
     "output_type": "execute_result"
    }
   ],
   "source": [
    "transform_test(attack.cpu().data.numpy()[0])"
   ]
  },
  {
   "cell_type": "code",
   "execution_count": 223,
   "metadata": {
    "collapsed": true
   },
   "outputs": [],
   "source": [
    "tmp = attack.cpu().data.numpy()"
   ]
  },
  {
   "cell_type": "code",
   "execution_count": 226,
   "metadata": {},
   "outputs": [
    {
     "data": {
      "text/plain": [
       "(32, 3, 32, 32)"
      ]
     },
     "execution_count": 226,
     "metadata": {},
     "output_type": "execute_result"
    }
   ],
   "source": [
    "tmp.shape[0]"
   ]
  },
  {
   "cell_type": "code",
   "execution_count": 213,
   "metadata": {},
   "outputs": [
    {
     "data": {
      "text/plain": [
       "Variable containing:\n",
       "(0 ,0 ,.,.) = \n",
       "  2.3559e-01  2.2816e-01  2.3635e-01  ...   2.2247e-01  2.3076e-01  2.4623e-01\n",
       "  2.2672e-01  2.3469e-01  2.3854e-01  ...   2.2886e-01  2.3508e-01  2.3665e-01\n",
       "  2.2661e-01  2.2550e-01  2.3090e-01  ...   2.2580e-01  2.2647e-01  2.3317e-01\n",
       "                 ...                   ⋱                   ...                \n",
       "  3.7405e-01  3.9104e-01  3.9887e-01  ...   4.1860e-01  4.0028e-01  3.8288e-01\n",
       "  3.7673e-01  3.9085e-01  3.9657e-01  ...   4.2572e-01  4.0727e-01  3.8705e-01\n",
       "  3.8110e-01  3.8745e-01  3.9478e-01  ...   4.2582e-01  4.0989e-01  3.9522e-01\n",
       "\n",
       "(0 ,1 ,.,.) = \n",
       "  2.4211e-01  2.3756e-01  2.4342e-01  ...   2.2280e-01  2.2781e-01  2.4330e-01\n",
       "  2.2825e-01  2.3700e-01  2.3897e-01  ...   2.2496e-01  2.2893e-01  2.3169e-01\n",
       "  2.2761e-01  2.3125e-01  2.3248e-01  ...   2.1950e-01  2.2181e-01  2.2769e-01\n",
       "                 ...                   ⋱                   ...                \n",
       "  3.4886e-01  3.5930e-01  3.6361e-01  ...   3.8339e-01  3.7205e-01  3.5376e-01\n",
       "  3.5409e-01  3.6434e-01  3.6354e-01  ...   3.9125e-01  3.7897e-01  3.5957e-01\n",
       "  3.5935e-01  3.6048e-01  3.6505e-01  ...   3.9182e-01  3.7631e-01  3.6709e-01\n",
       "\n",
       "(0 ,2 ,.,.) = \n",
       "  2.0562e-01  2.0359e-01  2.1218e-01  ...   1.8381e-01  1.8235e-01  1.9843e-01\n",
       "  1.9086e-01  1.9895e-01  2.0389e-01  ...   1.8342e-01  1.8168e-01  1.8562e-01\n",
       "  1.9137e-01  1.9279e-01  1.9692e-01  ...   1.7565e-01  1.7273e-01  1.8248e-01\n",
       "                 ...                   ⋱                   ...                \n",
       "  2.9241e-01  3.0200e-01  3.0478e-01  ...   3.1455e-01  3.0105e-01  2.8193e-01\n",
       "  2.8904e-01  2.9816e-01  2.9998e-01  ...   3.2123e-01  3.0486e-01  2.8345e-01\n",
       "  2.9056e-01  2.9083e-01  2.9723e-01  ...   3.1961e-01  3.0096e-01  2.9309e-01\n",
       "     ⋮ \n",
       "\n",
       "(1 ,0 ,.,.) = \n",
       "  7.0598e-01  7.2564e-01  7.3661e-01  ...   5.2178e-01  5.1141e-01  5.1592e-01\n",
       "  6.9808e-01  7.1102e-01  7.2649e-01  ...   4.9544e-01  4.8768e-01  4.9865e-01\n",
       "  6.7504e-01  6.9173e-01  7.0717e-01  ...   4.7340e-01  4.7014e-01  4.8127e-01\n",
       "                 ...                   ⋱                   ...                \n",
       "  5.0288e-01  4.9446e-01  4.9239e-01  ...   4.2962e-01  4.3186e-01  4.3706e-01\n",
       "  4.9292e-01  4.8846e-01  4.9303e-01  ...   4.4101e-01  4.4334e-01  4.4346e-01\n",
       "  4.9298e-01  4.9184e-01  4.9191e-01  ...   4.4379e-01  4.4906e-01  4.4812e-01\n",
       "\n",
       "(1 ,1 ,.,.) = \n",
       "  7.0423e-01  7.2481e-01  7.3769e-01  ...   5.0940e-01  5.0373e-01  5.1213e-01\n",
       "  6.8903e-01  7.0320e-01  7.2099e-01  ...   4.7793e-01  4.7061e-01  4.8432e-01\n",
       "  6.6748e-01  6.8509e-01  7.0119e-01  ...   4.4972e-01  4.4720e-01  4.6050e-01\n",
       "                 ...                   ⋱                   ...                \n",
       "  4.7883e-01  4.6627e-01  4.6797e-01  ...   4.0916e-01  4.1390e-01  4.2151e-01\n",
       "  4.6839e-01  4.5886e-01  4.6548e-01  ...   4.1968e-01  4.2439e-01  4.2834e-01\n",
       "  4.6362e-01  4.5862e-01  4.6341e-01  ...   4.2746e-01  4.2930e-01  4.3186e-01\n",
       "\n",
       "(1 ,2 ,.,.) = \n",
       "  7.0015e-01  7.1928e-01  7.3297e-01  ...   4.7017e-01  4.5745e-01  4.7168e-01\n",
       "  6.8142e-01  6.9456e-01  7.1447e-01  ...   4.3634e-01  4.2297e-01  4.3972e-01\n",
       "  6.4731e-01  6.6765e-01  6.7830e-01  ...   4.0548e-01  3.9902e-01  4.1379e-01\n",
       "                 ...                   ⋱                   ...                \n",
       "  4.0127e-01  3.8886e-01  3.9005e-01  ...   3.6034e-01  3.6397e-01  3.7083e-01\n",
       "  3.8808e-01  3.8149e-01  3.8707e-01  ...   3.7266e-01  3.7264e-01  3.7143e-01\n",
       "  3.8563e-01  3.8638e-01  3.9390e-01  ...   3.8252e-01  3.7625e-01  3.7702e-01\n",
       "     ⋮ \n",
       "\n",
       "(2 ,0 ,.,.) = \n",
       "  7.1687e-02  5.2776e-02  5.5223e-02  ...   9.3532e-02  9.4439e-02  1.1506e-01\n",
       "  5.7241e-02  4.7514e-02  5.1329e-02  ...   8.8754e-02  9.0651e-02  1.0093e-01\n",
       "  6.6714e-02  5.8650e-02  6.3304e-02  ...   7.9587e-02  8.6667e-02  1.0062e-01\n",
       "                 ...                   ⋱                   ...                \n",
       "  5.2437e-02  3.5627e-02  3.3417e-02  ...   7.5346e-02  7.0212e-02  6.9196e-02\n",
       "  4.6161e-02  2.8445e-02  2.6345e-02  ...   9.0977e-02  7.8549e-02  7.0618e-02\n",
       "  6.9887e-02  4.2245e-02  4.0936e-02  ...   1.0963e-01  9.5565e-02  1.0006e-01\n",
       "\n",
       "(2 ,1 ,.,.) = \n",
       "  1.4211e-01  1.2529e-01  1.2563e-01  ...   1.8420e-01  1.8080e-01  1.9249e-01\n",
       "  1.3238e-01  1.1999e-01  1.1557e-01  ...   1.7106e-01  1.7000e-01  1.7386e-01\n",
       "  1.4838e-01  1.4286e-01  1.4116e-01  ...   1.5867e-01  1.6508e-01  1.7274e-01\n",
       "                 ...                   ⋱                   ...                \n",
       "  5.5610e-02  3.9771e-02  3.6942e-02  ...   9.0873e-02  8.5461e-02  8.4683e-02\n",
       "  5.1209e-02  3.3852e-02  3.0846e-02  ...   1.1051e-01  1.0126e-01  9.2668e-02\n",
       "  7.4982e-02  4.6520e-02  4.2868e-02  ...   1.2995e-01  1.1654e-01  1.2179e-01\n",
       "\n",
       "(2 ,2 ,.,.) = \n",
       "  2.6254e-01  2.8844e-01  3.0229e-01  ...   3.3206e-01  3.0989e-01  2.9502e-01\n",
       "  2.9447e-01  3.2349e-01  3.0291e-01  ...   3.1577e-01  2.9515e-01  2.7509e-01\n",
       "  3.2406e-01  3.3829e-01  3.2177e-01  ...   3.0635e-01  2.9732e-01  2.8904e-01\n",
       "                 ...                   ⋱                   ...                \n",
       "  5.4763e-02  4.3899e-02  4.2611e-02  ...   1.1493e-01  1.0919e-01  1.0397e-01\n",
       "  4.8069e-02  3.5971e-02  3.3873e-02  ...   1.3689e-01  1.2427e-01  1.1054e-01\n",
       "  6.9886e-02  4.8157e-02  4.6145e-02  ...   1.5341e-01  1.3816e-01  1.3897e-01\n",
       "...   \n",
       "     ⋮ \n",
       "\n",
       "(29,0 ,.,.) = \n",
       "  2.9797e-01  2.9316e-01  2.9259e-01  ...   2.1698e-01  2.1777e-01  2.2738e-01\n",
       "  2.8422e-01  2.9008e-01  2.9030e-01  ...   2.2334e-01  2.2551e-01  2.1786e-01\n",
       "  2.8678e-01  2.8759e-01  2.8896e-01  ...   2.1842e-01  2.2199e-01  2.2170e-01\n",
       "                 ...                   ⋱                   ...                \n",
       "  5.9126e-01  6.0029e-01  6.1352e-01  ...   5.8890e-01  5.8716e-01  5.8213e-01\n",
       "  5.9754e-01  6.0472e-01  6.1522e-01  ...   5.9177e-01  5.9177e-01  5.8635e-01\n",
       "  5.9277e-01  6.0410e-01  6.1007e-01  ...   5.8407e-01  5.8776e-01  5.7604e-01\n",
       "\n",
       "(29,1 ,.,.) = \n",
       "  3.1120e-01  3.0895e-01  3.0613e-01  ...   2.4583e-01  2.3981e-01  2.4378e-01\n",
       "  2.9349e-01  2.9855e-01  2.9557e-01  ...   2.4469e-01  2.4488e-01  2.3551e-01\n",
       "  2.9658e-01  2.9948e-01  2.9613e-01  ...   2.3674e-01  2.4268e-01  2.4269e-01\n",
       "                 ...                   ⋱                   ...                \n",
       "  5.7789e-01  5.7842e-01  5.8164e-01  ...   5.7220e-01  5.6894e-01  5.6163e-01\n",
       "  5.7826e-01  5.8066e-01  5.8680e-01  ...   5.7151e-01  5.6474e-01  5.6054e-01\n",
       "  5.7201e-01  5.7851e-01  5.9028e-01  ...   5.7009e-01  5.6300e-01  5.5104e-01\n",
       "\n",
       "(29,2 ,.,.) = \n",
       "  2.4009e-01  2.3552e-01  2.3320e-01  ...   1.7000e-01  1.6245e-01  1.7464e-01\n",
       "  2.2235e-01  2.2540e-01  2.2242e-01  ...   1.6914e-01  1.6501e-01  1.6255e-01\n",
       "  2.2567e-01  2.2454e-01  2.2160e-01  ...   1.6268e-01  1.6374e-01  1.6649e-01\n",
       "                 ...                   ⋱                   ...                \n",
       "  4.2499e-01  4.3031e-01  4.3635e-01  ...   4.1991e-01  4.2095e-01  4.2056e-01\n",
       "  4.2499e-01  4.3322e-01  4.4417e-01  ...   4.2742e-01  4.2597e-01  4.2391e-01\n",
       "  4.3121e-01  4.3602e-01  4.4567e-01  ...   4.3203e-01  4.2905e-01  4.2652e-01\n",
       "     ⋮ \n",
       "\n",
       "(30,0 ,.,.) = \n",
       "  1.3793e-01  1.2201e-01  1.2726e-01  ...   1.1486e-01  1.1934e-01  1.4601e-01\n",
       "  1.1955e-01  1.2134e-01  1.2285e-01  ...   1.0690e-01  1.0614e-01  1.2407e-01\n",
       "  1.1160e-01  1.1020e-01  1.1380e-01  ...   1.0755e-01  1.0172e-01  1.1816e-01\n",
       "                 ...                   ⋱                   ...                \n",
       "  7.9789e-01  8.0188e-01  8.1836e-01  ...   5.1034e-01  4.9669e-01  4.9863e-01\n",
       "  7.7836e-01  7.7595e-01  7.8835e-01  ...   5.7610e-01  5.5231e-01  5.4995e-01\n",
       "  7.5823e-01  7.6713e-01  7.7231e-01  ...   6.3445e-01  6.2132e-01  6.0240e-01\n",
       "\n",
       "(30,1 ,.,.) = \n",
       "  1.3616e-01  1.2882e-01  1.3194e-01  ...   1.1369e-01  1.1921e-01  1.4707e-01\n",
       "  1.1611e-01  1.2357e-01  1.2567e-01  ...   1.1069e-01  1.0996e-01  1.2500e-01\n",
       "  1.0820e-01  1.1406e-01  1.1817e-01  ...   1.1128e-01  1.0468e-01  1.1914e-01\n",
       "                 ...                   ⋱                   ...                \n",
       "  6.9536e-01  7.0421e-01  7.1922e-01  ...   4.2438e-01  4.2263e-01  4.2278e-01\n",
       "  6.8539e-01  6.8814e-01  6.9886e-01  ...   4.9851e-01  4.7582e-01  4.6886e-01\n",
       "  6.7778e-01  6.8546e-01  6.9225e-01  ...   5.6688e-01  5.4574e-01  5.2822e-01\n",
       "\n",
       "(30,2 ,.,.) = \n",
       "  1.0146e-01  9.4397e-02  9.4921e-02  ...   9.7783e-02  9.9955e-02  1.2524e-01\n",
       "  8.2190e-02  9.1687e-02  9.2073e-02  ...   9.2422e-02  8.8233e-02  1.0199e-01\n",
       "  7.9112e-02  8.7127e-02  8.7995e-02  ...   9.4205e-02  8.6124e-02  9.8848e-02\n",
       "                 ...                   ⋱                   ...                \n",
       "  5.4060e-01  5.5639e-01  5.6665e-01  ...   2.9906e-01  2.9376e-01  2.9215e-01\n",
       "  5.4526e-01  5.5001e-01  5.5491e-01  ...   3.5942e-01  3.3693e-01  3.2916e-01\n",
       "  5.5471e-01  5.5182e-01  5.5401e-01  ...   4.2344e-01  4.0189e-01  3.9211e-01\n",
       "     ⋮ \n",
       "\n",
       "(31,0 ,.,.) = \n",
       "  3.5360e-01  3.5561e-01  3.6677e-01  ...   4.4033e-01  4.4636e-01  4.4254e-01\n",
       "  3.5512e-01  3.5774e-01  3.6662e-01  ...   4.3926e-01  4.4503e-01  4.3647e-01\n",
       "  3.5783e-01  3.4872e-01  3.5943e-01  ...   4.3490e-01  4.3842e-01  4.3222e-01\n",
       "                 ...                   ⋱                   ...                \n",
       "  3.9969e-01  4.0570e-01  4.1307e-01  ...   4.0995e-01  4.0702e-01  4.0709e-01\n",
       "  4.0672e-01  4.1137e-01  4.1722e-01  ...   4.1836e-01  4.1497e-01  4.1097e-01\n",
       "  4.1543e-01  4.2013e-01  4.2364e-01  ...   4.2859e-01  4.2126e-01  4.1610e-01\n",
       "\n",
       "(31,1 ,.,.) = \n",
       "  3.9282e-01  3.9947e-01  4.0670e-01  ...   4.6398e-01  4.7212e-01  4.6103e-01\n",
       "  3.8349e-01  3.9229e-01  3.9951e-01  ...   4.6335e-01  4.6900e-01  4.5665e-01\n",
       "  3.8249e-01  3.8571e-01  3.9428e-01  ...   4.6081e-01  4.6060e-01  4.4961e-01\n",
       "                 ...                   ⋱                   ...                \n",
       "  4.1923e-01  4.2050e-01  4.2256e-01  ...   4.1509e-01  4.1780e-01  4.1781e-01\n",
       "  4.3247e-01  4.3467e-01  4.3790e-01  ...   4.3004e-01  4.2871e-01  4.2735e-01\n",
       "  4.3828e-01  4.4083e-01  4.4249e-01  ...   4.3309e-01  4.2866e-01  4.2691e-01\n",
       "\n",
       "(31,2 ,.,.) = \n",
       "  3.2964e-01  3.3479e-01  3.3724e-01  ...   3.7429e-01  3.8115e-01  3.8282e-01\n",
       "  3.1413e-01  3.2659e-01  3.3152e-01  ...   3.7259e-01  3.7821e-01  3.7333e-01\n",
       "  3.1331e-01  3.1925e-01  3.2698e-01  ...   3.6864e-01  3.7189e-01  3.7286e-01\n",
       "                 ...                   ⋱                   ...                \n",
       "  3.1569e-01  3.2012e-01  3.2374e-01  ...   3.5216e-01  3.5144e-01  3.5139e-01\n",
       "  3.2335e-01  3.2890e-01  3.3385e-01  ...   3.6485e-01  3.5913e-01  3.5531e-01\n",
       "  3.3588e-01  3.3825e-01  3.3955e-01  ...   3.7535e-01  3.6305e-01  3.6413e-01\n",
       "[torch.cuda.FloatTensor of size 32x3x32x32 (GPU 0)]"
      ]
     },
     "execution_count": 213,
     "metadata": {},
     "output_type": "execute_result"
    }
   ],
   "source": [
    "attack"
   ]
  },
  {
   "cell_type": "code",
   "execution_count": null,
   "metadata": {
    "collapsed": true
   },
   "outputs": [],
   "source": [
    "torch.norm"
   ]
  },
  {
   "cell_type": "code",
   "execution_count": 185,
   "metadata": {},
   "outputs": [
    {
     "ename": "RuntimeError",
     "evalue": "in-place operations can be only used on variables that don't share storage with any other variables, but detected that there are 2 objects sharing it",
     "output_type": "error",
     "traceback": [
      "\u001b[0;31m---------------------------------------------------------------------------\u001b[0m",
      "\u001b[0;31mRuntimeError\u001b[0m                              Traceback (most recent call last)",
      "\u001b[0;32m<ipython-input-185-9ecd6487af76>\u001b[0m in \u001b[0;36m<module>\u001b[0;34m()\u001b[0m\n\u001b[0;32m----> 1\u001b[0;31m \u001b[0mnorm\u001b[0m\u001b[0;34m(\u001b[0m\u001b[0mattack\u001b[0m\u001b[0;34m.\u001b[0m\u001b[0mcpu\u001b[0m\u001b[0;34m(\u001b[0m\u001b[0;34m)\u001b[0m\u001b[0;34m)\u001b[0m\u001b[0;34m\u001b[0m\u001b[0m\n\u001b[0m",
      "\u001b[0;32m~/anaconda3/envs/torch/lib/python3.6/site-packages/torchvision-0.1.9-py3.6.egg/torchvision/transforms.py\u001b[0m in \u001b[0;36m__call__\u001b[0;34m(self, tensor)\u001b[0m\n\u001b[1;32m    154\u001b[0m         \u001b[0;31m# TODO: make efficient\u001b[0m\u001b[0;34m\u001b[0m\u001b[0;34m\u001b[0m\u001b[0m\n\u001b[1;32m    155\u001b[0m         \u001b[0;32mfor\u001b[0m \u001b[0mt\u001b[0m\u001b[0;34m,\u001b[0m \u001b[0mm\u001b[0m\u001b[0;34m,\u001b[0m \u001b[0ms\u001b[0m \u001b[0;32min\u001b[0m \u001b[0mzip\u001b[0m\u001b[0;34m(\u001b[0m\u001b[0mtensor\u001b[0m\u001b[0;34m,\u001b[0m \u001b[0mself\u001b[0m\u001b[0;34m.\u001b[0m\u001b[0mmean\u001b[0m\u001b[0;34m,\u001b[0m \u001b[0mself\u001b[0m\u001b[0;34m.\u001b[0m\u001b[0mstd\u001b[0m\u001b[0;34m)\u001b[0m\u001b[0;34m:\u001b[0m\u001b[0;34m\u001b[0m\u001b[0m\n\u001b[0;32m--> 156\u001b[0;31m             \u001b[0mt\u001b[0m\u001b[0;34m.\u001b[0m\u001b[0msub_\u001b[0m\u001b[0;34m(\u001b[0m\u001b[0mm\u001b[0m\u001b[0;34m)\u001b[0m\u001b[0;34m.\u001b[0m\u001b[0mdiv_\u001b[0m\u001b[0;34m(\u001b[0m\u001b[0ms\u001b[0m\u001b[0;34m)\u001b[0m\u001b[0;34m\u001b[0m\u001b[0m\n\u001b[0m\u001b[1;32m    157\u001b[0m         \u001b[0;32mreturn\u001b[0m \u001b[0mtensor\u001b[0m\u001b[0;34m\u001b[0m\u001b[0m\n\u001b[1;32m    158\u001b[0m \u001b[0;34m\u001b[0m\u001b[0m\n",
      "\u001b[0;32m~/anaconda3/envs/torch/lib/python3.6/site-packages/torch/autograd/variable.py\u001b[0m in \u001b[0;36msub_\u001b[0;34m(self, other)\u001b[0m\n\u001b[1;32m    333\u001b[0m \u001b[0;34m\u001b[0m\u001b[0m\n\u001b[1;32m    334\u001b[0m     \u001b[0;32mdef\u001b[0m \u001b[0msub_\u001b[0m\u001b[0;34m(\u001b[0m\u001b[0mself\u001b[0m\u001b[0;34m,\u001b[0m \u001b[0mother\u001b[0m\u001b[0;34m)\u001b[0m\u001b[0;34m:\u001b[0m\u001b[0;34m\u001b[0m\u001b[0m\n\u001b[0;32m--> 335\u001b[0;31m         \u001b[0;32mreturn\u001b[0m \u001b[0mself\u001b[0m\u001b[0;34m.\u001b[0m\u001b[0m_sub\u001b[0m\u001b[0;34m(\u001b[0m\u001b[0mother\u001b[0m\u001b[0;34m,\u001b[0m \u001b[0;32mTrue\u001b[0m\u001b[0;34m)\u001b[0m\u001b[0;34m\u001b[0m\u001b[0m\n\u001b[0m\u001b[1;32m    336\u001b[0m \u001b[0;34m\u001b[0m\u001b[0m\n\u001b[1;32m    337\u001b[0m     \u001b[0;32mdef\u001b[0m \u001b[0mmul\u001b[0m\u001b[0;34m(\u001b[0m\u001b[0mself\u001b[0m\u001b[0;34m,\u001b[0m \u001b[0mother\u001b[0m\u001b[0;34m)\u001b[0m\u001b[0;34m:\u001b[0m\u001b[0;34m\u001b[0m\u001b[0m\n",
      "\u001b[0;32m~/anaconda3/envs/torch/lib/python3.6/site-packages/torch/autograd/variable.py\u001b[0m in \u001b[0;36m_sub\u001b[0;34m(self, other, inplace)\u001b[0m\n\u001b[1;32m    327\u001b[0m         \u001b[0;32melse\u001b[0m\u001b[0;34m:\u001b[0m\u001b[0;34m\u001b[0m\u001b[0m\n\u001b[1;32m    328\u001b[0m             \u001b[0;32massert\u001b[0m \u001b[0;32mnot\u001b[0m \u001b[0mtorch\u001b[0m\u001b[0;34m.\u001b[0m\u001b[0mis_tensor\u001b[0m\u001b[0;34m(\u001b[0m\u001b[0mother\u001b[0m\u001b[0;34m)\u001b[0m\u001b[0;34m\u001b[0m\u001b[0m\n\u001b[0;32m--> 329\u001b[0;31m             \u001b[0;32mreturn\u001b[0m \u001b[0mSubConstant\u001b[0m\u001b[0;34m.\u001b[0m\u001b[0mapply\u001b[0m\u001b[0;34m(\u001b[0m\u001b[0mself\u001b[0m\u001b[0;34m,\u001b[0m \u001b[0mother\u001b[0m\u001b[0;34m,\u001b[0m \u001b[0minplace\u001b[0m\u001b[0;34m)\u001b[0m\u001b[0;34m\u001b[0m\u001b[0m\n\u001b[0m\u001b[1;32m    330\u001b[0m \u001b[0;34m\u001b[0m\u001b[0m\n\u001b[1;32m    331\u001b[0m     \u001b[0;32mdef\u001b[0m \u001b[0msub\u001b[0m\u001b[0;34m(\u001b[0m\u001b[0mself\u001b[0m\u001b[0;34m,\u001b[0m \u001b[0mother\u001b[0m\u001b[0;34m)\u001b[0m\u001b[0;34m:\u001b[0m\u001b[0;34m\u001b[0m\u001b[0m\n",
      "\u001b[0;31mRuntimeError\u001b[0m: in-place operations can be only used on variables that don't share storage with any other variables, but detected that there are 2 objects sharing it"
     ]
    }
   ],
   "source": [
    "norm(attack.cpu())"
   ]
  },
  {
   "cell_type": "code",
   "execution_count": 56,
   "metadata": {
    "collapsed": true
   },
   "outputs": [],
   "source": [
    "for i in real_train_loader:\n",
    "    break"
   ]
  },
  {
   "cell_type": "code",
   "execution_count": 59,
   "metadata": {},
   "outputs": [
    {
     "data": {
      "text/plain": [
       "\n",
       "(0 ,0 ,.,.) = \n",
       "  0.2314  0.1686  0.1961  ...   0.6196  0.5961  0.5804\n",
       "  0.0627  0.0000  0.0706  ...   0.4824  0.4667  0.4784\n",
       "  0.0980  0.0627  0.1922  ...   0.4627  0.4706  0.4275\n",
       "           ...             ⋱             ...          \n",
       "  0.8157  0.7882  0.7765  ...   0.6275  0.2196  0.2078\n",
       "  0.7059  0.6784  0.7294  ...   0.7216  0.3804  0.3255\n",
       "  0.6941  0.6588  0.7020  ...   0.8471  0.5922  0.4824\n",
       "\n",
       "(0 ,1 ,.,.) = \n",
       "  0.2431  0.1804  0.1882  ...   0.5176  0.4902  0.4863\n",
       "  0.0784  0.0000  0.0314  ...   0.3451  0.3255  0.3412\n",
       "  0.0941  0.0275  0.1059  ...   0.3294  0.3294  0.2863\n",
       "           ...             ⋱             ...          \n",
       "  0.6667  0.6000  0.6314  ...   0.5216  0.1216  0.1333\n",
       "  0.5451  0.4824  0.5647  ...   0.5804  0.2431  0.2078\n",
       "  0.5647  0.5059  0.5569  ...   0.7216  0.4627  0.3608\n",
       "\n",
       "(0 ,2 ,.,.) = \n",
       "  0.2471  0.1765  0.1686  ...   0.4235  0.4000  0.4039\n",
       "  0.0784  0.0000  0.0000  ...   0.2157  0.1961  0.2235\n",
       "  0.0824  0.0000  0.0314  ...   0.1961  0.1961  0.1647\n",
       "           ...             ⋱             ...          \n",
       "  0.3765  0.1333  0.1020  ...   0.2745  0.0275  0.0784\n",
       "  0.3765  0.1647  0.1176  ...   0.3686  0.1333  0.1333\n",
       "  0.4549  0.3686  0.3412  ...   0.5490  0.3294  0.2824\n",
       "     ⋮ \n",
       "\n",
       "(1 ,0 ,.,.) = \n",
       "  0.6039  0.4941  0.4118  ...   0.3569  0.3412  0.3098\n",
       "  0.5490  0.5686  0.4902  ...   0.3765  0.3020  0.2784\n",
       "  0.5490  0.5451  0.4510  ...   0.3098  0.2667  0.2627\n",
       "           ...             ⋱             ...          \n",
       "  0.6863  0.6118  0.6039  ...   0.1647  0.2392  0.3647\n",
       "  0.6471  0.6118  0.6235  ...   0.4039  0.4824  0.5137\n",
       "  0.6392  0.6196  0.6392  ...   0.5608  0.5608  0.5608\n",
       "\n",
       "(1 ,1 ,.,.) = \n",
       "  0.6941  0.5373  0.4078  ...   0.3725  0.3529  0.3176\n",
       "  0.6275  0.6000  0.4902  ...   0.3882  0.3137  0.2863\n",
       "  0.6078  0.5725  0.4510  ...   0.3216  0.2745  0.2706\n",
       "           ...             ⋱             ...          \n",
       "  0.6549  0.6039  0.6275  ...   0.1333  0.2078  0.3255\n",
       "  0.6039  0.5961  0.6314  ...   0.3647  0.4471  0.4745\n",
       "  0.5804  0.5804  0.6118  ...   0.5216  0.5255  0.5216\n",
       "\n",
       "(1 ,2 ,.,.) = \n",
       "  0.7333  0.5333  0.3725  ...   0.2784  0.2784  0.2745\n",
       "  0.6627  0.6039  0.4627  ...   0.3059  0.2431  0.2392\n",
       "  0.6431  0.5843  0.4392  ...   0.2510  0.2157  0.2157\n",
       "           ...             ⋱             ...          \n",
       "  0.6510  0.6275  0.6667  ...   0.1412  0.2235  0.3569\n",
       "  0.5020  0.5098  0.5569  ...   0.3765  0.4706  0.5137\n",
       "  0.4706  0.4784  0.5216  ...   0.5451  0.5569  0.5647\n",
       "     ⋮ \n",
       "\n",
       "(2 ,0 ,.,.) = \n",
       "  1.0000  0.9922  0.9922  ...   0.9922  0.9922  0.9922\n",
       "  1.0000  1.0000  1.0000  ...   1.0000  1.0000  1.0000\n",
       "  1.0000  0.9961  0.9961  ...   0.9961  0.9961  0.9961\n",
       "           ...             ⋱             ...          \n",
       "  0.4431  0.4353  0.4118  ...   0.2824  0.2824  0.2824\n",
       "  0.4353  0.4078  0.3882  ...   0.2667  0.2745  0.3059\n",
       "  0.4157  0.3882  0.3725  ...   0.3059  0.3098  0.3137\n",
       "\n",
       "(2 ,1 ,.,.) = \n",
       "  1.0000  0.9922  0.9922  ...   0.9922  0.9922  0.9922\n",
       "  1.0000  1.0000  1.0000  ...   1.0000  1.0000  1.0000\n",
       "  1.0000  0.9961  0.9961  ...   0.9961  0.9961  0.9961\n",
       "           ...             ⋱             ...          \n",
       "  0.4706  0.4627  0.4392  ...   0.3176  0.3137  0.3137\n",
       "  0.4627  0.4353  0.4157  ...   0.2941  0.2980  0.3294\n",
       "  0.4431  0.4157  0.4000  ...   0.3333  0.3333  0.3373\n",
       "\n",
       "(2 ,2 ,.,.) = \n",
       "  1.0000  0.9922  0.9922  ...   0.9922  0.9922  0.9922\n",
       "  1.0000  1.0000  1.0000  ...   1.0000  1.0000  1.0000\n",
       "  1.0000  0.9961  0.9961  ...   0.9961  0.9961  0.9961\n",
       "           ...             ⋱             ...          \n",
       "  0.4392  0.4353  0.4157  ...   0.3137  0.3098  0.3098\n",
       "  0.4314  0.4078  0.3843  ...   0.2863  0.2941  0.3216\n",
       "  0.4118  0.3843  0.3686  ...   0.3255  0.3255  0.3294\n",
       "...   \n",
       "     ⋮ \n",
       "\n",
       "(29,0 ,.,.) = \n",
       "  0.7922  0.7922  0.8000  ...   0.8118  0.8039  0.7961\n",
       "  0.8078  0.8078  0.8118  ...   0.8235  0.8157  0.8078\n",
       "  0.8235  0.8275  0.8314  ...   0.8392  0.8314  0.8235\n",
       "           ...             ⋱             ...          \n",
       "  0.8549  0.8235  0.7608  ...   0.9529  0.9569  0.9529\n",
       "  0.8588  0.8510  0.8471  ...   0.9451  0.9451  0.9451\n",
       "  0.8510  0.8471  0.8510  ...   0.9373  0.9373  0.9412\n",
       "\n",
       "(29,1 ,.,.) = \n",
       "  0.8000  0.8000  0.8078  ...   0.8157  0.8078  0.8000\n",
       "  0.8157  0.8157  0.8196  ...   0.8275  0.8196  0.8118\n",
       "  0.8314  0.8353  0.8392  ...   0.8392  0.8353  0.8275\n",
       "           ...             ⋱             ...          \n",
       "  0.8510  0.8196  0.7608  ...   0.9490  0.9490  0.9529\n",
       "  0.8549  0.8471  0.8471  ...   0.9412  0.9412  0.9412\n",
       "  0.8471  0.8431  0.8471  ...   0.9333  0.9333  0.9333\n",
       "\n",
       "(29,2 ,.,.) = \n",
       "  0.7804  0.7804  0.7882  ...   0.7843  0.7804  0.7765\n",
       "  0.7961  0.7961  0.8000  ...   0.8039  0.7961  0.7882\n",
       "  0.8118  0.8157  0.8235  ...   0.8235  0.8157  0.8078\n",
       "           ...             ⋱             ...          \n",
       "  0.8706  0.8392  0.7765  ...   0.9686  0.9686  0.9686\n",
       "  0.8745  0.8667  0.8627  ...   0.9608  0.9608  0.9608\n",
       "  0.8667  0.8627  0.8667  ...   0.9529  0.9529  0.9529\n",
       "     ⋮ \n",
       "\n",
       "(30,0 ,.,.) = \n",
       "  0.4941  0.4784  0.4941  ...   0.4863  0.4706  0.4588\n",
       "  0.4784  0.4667  0.4745  ...   0.4863  0.4784  0.4588\n",
       "  0.4784  0.4745  0.4745  ...   0.4941  0.4824  0.4745\n",
       "           ...             ⋱             ...          \n",
       "  0.4941  0.4941  0.5020  ...   0.5216  0.4784  0.4471\n",
       "  0.4902  0.4941  0.4980  ...   0.5020  0.4745  0.4471\n",
       "  0.4824  0.4824  0.4941  ...   0.5020  0.4941  0.4745\n",
       "\n",
       "(30,1 ,.,.) = \n",
       "  0.4627  0.4510  0.4667  ...   0.4627  0.4471  0.4353\n",
       "  0.4510  0.4392  0.4471  ...   0.4627  0.4549  0.4353\n",
       "  0.4510  0.4471  0.4471  ...   0.4706  0.4588  0.4510\n",
       "           ...             ⋱             ...          \n",
       "  0.4627  0.4627  0.4706  ...   0.4902  0.4471  0.4157\n",
       "  0.4588  0.4627  0.4667  ...   0.4706  0.4431  0.4157\n",
       "  0.4510  0.4510  0.4627  ...   0.4667  0.4627  0.4431\n",
       "\n",
       "(30,2 ,.,.) = \n",
       "  0.4314  0.4235  0.4353  ...   0.4157  0.4000  0.3882\n",
       "  0.4196  0.4078  0.4157  ...   0.4157  0.4078  0.3882\n",
       "  0.4196  0.4157  0.4157  ...   0.4235  0.4118  0.4039\n",
       "           ...             ⋱             ...          \n",
       "  0.4196  0.4196  0.4275  ...   0.4471  0.4039  0.3725\n",
       "  0.4157  0.4196  0.4235  ...   0.4275  0.4000  0.3725\n",
       "  0.4078  0.4078  0.4196  ...   0.4275  0.4196  0.4000\n",
       "     ⋮ \n",
       "\n",
       "(31,0 ,.,.) = \n",
       "  0.9255  0.9137  0.9176  ...   0.5804  0.5765  0.5490\n",
       "  0.9529  0.9490  0.9529  ...   0.6392  0.6314  0.6235\n",
       "  0.9608  0.9490  0.9608  ...   0.6392  0.6314  0.6157\n",
       "           ...             ⋱             ...          \n",
       "  0.3098  0.2745  0.2824  ...   0.1490  0.1412  0.1294\n",
       "  0.3176  0.3059  0.2902  ...   0.1843  0.1216  0.0941\n",
       "  0.3137  0.3137  0.2902  ...   0.1569  0.1098  0.0863\n",
       "\n",
       "(31,1 ,.,.) = \n",
       "  0.9490  0.9373  0.9412  ...   0.5686  0.5686  0.5373\n",
       "  0.9765  0.9686  0.9804  ...   0.6353  0.6275  0.6196\n",
       "  0.9843  0.9725  0.9843  ...   0.6353  0.6275  0.6157\n",
       "           ...             ⋱             ...          \n",
       "  0.2902  0.2549  0.2667  ...   0.1216  0.1137  0.0980\n",
       "  0.3098  0.2863  0.2667  ...   0.1490  0.0941  0.0667\n",
       "  0.3137  0.3020  0.2627  ...   0.1176  0.0824  0.0588\n",
       "\n",
       "(31,2 ,.,.) = \n",
       "  0.9333  0.9216  0.9255  ...   0.5490  0.5451  0.5137\n",
       "  0.9608  0.9569  0.9647  ...   0.6353  0.6275  0.6196\n",
       "  0.9686  0.9569  0.9686  ...   0.6510  0.6431  0.6314\n",
       "           ...             ⋱             ...          \n",
       "  0.2353  0.1843  0.1765  ...   0.0980  0.0902  0.0745\n",
       "  0.2431  0.2196  0.1922  ...   0.1137  0.0667  0.0392\n",
       "  0.2471  0.2392  0.2039  ...   0.0784  0.0471  0.0314\n",
       "[torch.FloatTensor of size 32x3x32x32]"
      ]
     },
     "execution_count": 59,
     "metadata": {},
     "output_type": "execute_result"
    }
   ],
   "source": [
    "i[0]"
   ]
  },
  {
   "cell_type": "code",
   "execution_count": null,
   "metadata": {
    "collapsed": true
   },
   "outputs": [],
   "source": [
    "reconstructed_image.cpu().data[0].numpy().transpose(1,2,0)"
   ]
  },
  {
   "cell_type": "markdown",
   "metadata": {},
   "source": [
    "## Sample results"
   ]
  },
  {
   "cell_type": "code",
   "execution_count": null,
   "metadata": {
    "collapsed": true
   },
   "outputs": [],
   "source": [
    "example_z = Variable(torch.FloatTensor(8*8*z_dim).normal_(0,1).view(64,-1))\n",
    "\n",
    "samples = model.decoder(example_z).data.numpy()\n",
    "fig = plt.figure(figsize=(10, 10))\n",
    "gs = gridspec.GridSpec(8, 8)\n",
    "gs.update(wspace=0.05, hspace=0.05)\n",
    "for i, sample in enumerate(samples):\n",
    "    ax = plt.subplot(gs[i])\n",
    "    plt.axis('off')\n",
    "    ax.set_xticklabels([])\n",
    "    ax.set_yticklabels([])\n",
    "    ax.set_aspect('equal')\n",
    "    plt.imshow(sample.reshape(32, 32,3).transpose(1,2,0), cmap='hsv')\n",
    "fig.savefig(\"generated_images_by_{}epochs.png\".format(num_epoch))"
   ]
  },
  {
   "cell_type": "code",
   "execution_count": null,
   "metadata": {
    "collapsed": true
   },
   "outputs": [],
   "source": []
  }
 ],
 "metadata": {
  "kernelspec": {
   "display_name": "torch",
   "language": "python",
   "name": "torch"
  },
  "language_info": {
   "codemirror_mode": {
    "name": "ipython",
    "version": 3
   },
   "file_extension": ".py",
   "mimetype": "text/x-python",
   "name": "python",
   "nbconvert_exporter": "python",
   "pygments_lexer": "ipython3",
   "version": "3.6.2"
  }
 },
 "nbformat": 4,
 "nbformat_minor": 2
}
