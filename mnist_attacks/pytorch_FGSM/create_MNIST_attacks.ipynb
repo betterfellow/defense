{
 "cells": [
  {
   "cell_type": "code",
   "execution_count": 1,
   "metadata": {},
   "outputs": [],
   "source": [
    "import numpy as np \n",
    "import torch\n",
    "from torch.autograd import Variable\n",
    "import torch.nn as nn \n",
    "import torch.nn.functional as F \n",
    "import torchvision \n",
    "import torch.optim as optim \n",
    "from torchvision import transforms\n",
    "from tqdm import *\n",
    "import matplotlib.pyplot as plt\n",
    "import pickle \n",
    "import random "
   ]
  },
  {
   "cell_type": "code",
   "execution_count": 2,
   "metadata": {
    "collapsed": true
   },
   "outputs": [],
   "source": [
    "# DEFINE NETWORK\n",
    "class Net(nn.Module):\n",
    "    def __init__(self):\n",
    "        super(Net, self).__init__()\n",
    "        # my network is composed of only affine layers \n",
    "        self.fc1 = nn.Linear(28*28, 300)\n",
    "        self.fc2 = nn.Linear(300, 100)\n",
    "        self.fc3 = nn.Linear(100, 10)   \n",
    "\n",
    "    def forward(self, x):\n",
    "        x = F.relu(self.fc1(x))\n",
    "        x = F.relu(self.fc2(x))\n",
    "        x = self.fc3(x)\n",
    "        return x\n",
    "\n",
    "    def classify(self, x):\n",
    "        outputs = self.forward(x)\n",
    "        outputs = outputs / torch.norm(outputs) \n",
    "        max_val, max_idx = torch.max(outputs, 1)\n",
    "        return int(max_idx.data.numpy()), float(max_val.data.numpy()) "
   ]
  },
  {
   "cell_type": "code",
   "execution_count": 3,
   "metadata": {},
   "outputs": [
    {
     "name": "stdout",
     "output_type": "stream",
     "text": [
      "Net (\n",
      "  (fc1): Linear (784 -> 300)\n",
      "  (fc2): Linear (300 -> 100)\n",
      "  (fc3): Linear (100 -> 10)\n",
      ")\n"
     ]
    }
   ],
   "source": [
    "net = Net()\n",
    "print(net)"
   ]
  },
  {
   "cell_type": "code",
   "execution_count": 4,
   "metadata": {
    "collapsed": true
   },
   "outputs": [],
   "source": [
    "SoftmaxWithXent = nn.CrossEntropyLoss()"
   ]
  },
  {
   "cell_type": "code",
   "execution_count": 5,
   "metadata": {},
   "outputs": [
    {
     "name": "stdout",
     "output_type": "stream",
     "text": [
      "Copying:  fc1.weight\n",
      "Copying:  fc1.bias\n",
      "Copying:  fc2.weight\n",
      "Copying:  fc2.bias\n",
      "Copying:  fc3.weight\n",
      "Copying:  fc3.bias\n",
      "Weights Loaded!\n"
     ]
    }
   ],
   "source": [
    "# Load pre-trained weights \n",
    "weights_dict = {} \n",
    "with open(\"weights.pkl\", \"rb\") as f:\n",
    "    weights_dict = pickle.load(f)\n",
    "for param in net.named_parameters():\n",
    "    if param[0] in weights_dict.keys():\n",
    "        print(\"Copying: \", param[0])\n",
    "        param[1].data = weights_dict[param[0]].data \n",
    "print(\"Weights Loaded!\")\n"
   ]
  },
  {
   "cell_type": "code",
   "execution_count": 6,
   "metadata": {},
   "outputs": [],
   "source": [
    "# Load 5K samples \n",
    "with open(\"5k_samples.pkl\",\"rb\") as f: \n",
    "    samples_5k = pickle.load(f) \n",
    "xs = samples_5k[\"images\"]\n",
    "y_trues = samples_5k[\"labels\"]\n",
    "noises = [] \n",
    "y_preds = []\n",
    "y_preds_adversarial = [] \n",
    "totalMisclassifications = 0\n",
    "xs_clean = [] \n",
    "y_trues_clean = []"
   ]
  },
  {
   "cell_type": "code",
   "execution_count": 7,
   "metadata": {},
   "outputs": [
    {
     "name": "stderr",
     "output_type": "stream",
     "text": [
      "181it [00:00, 602.42it/s]"
     ]
    },
    {
     "name": "stdout",
     "output_type": "stream",
     "text": [
      "WARNING: MISCLASSIFICATION ERROR\n",
      "WARNING: MISCLASSIFICATION ERROR\n",
      "WARNING: MISCLASSIFICATION ERROR\n",
      "WARNING: MISCLASSIFICATION ERROR\n",
      "WARNING: MISCLASSIFICATION ERROR\n",
      "WARNING: MISCLASSIFICATION ERROR\n"
     ]
    },
    {
     "name": "stderr",
     "output_type": "stream",
     "text": [
      "307it [00:00, 611.85it/s]"
     ]
    },
    {
     "name": "stdout",
     "output_type": "stream",
     "text": [
      "WARNING: MISCLASSIFICATION ERROR\n",
      "WARNING: MISCLASSIFICATION ERROR\n",
      "WARNING: MISCLASSIFICATION ERROR\n"
     ]
    },
    {
     "name": "stderr",
     "output_type": "stream",
     "text": [
      "499it [00:00, 620.15it/s]"
     ]
    },
    {
     "name": "stdout",
     "output_type": "stream",
     "text": [
      "WARNING: MISCLASSIFICATION ERROR\n",
      "WARNING: MISCLASSIFICATION ERROR\n",
      "WARNING: MISCLASSIFICATION ERROR\n",
      "WARNING: MISCLASSIFICATION ERROR\n",
      "WARNING: MISCLASSIFICATION ERROR\n"
     ]
    },
    {
     "name": "stderr",
     "output_type": "stream",
     "text": [
      "625it [00:01, 620.96it/s]"
     ]
    },
    {
     "name": "stdout",
     "output_type": "stream",
     "text": [
      "WARNING: MISCLASSIFICATION ERROR\n",
      "WARNING: MISCLASSIFICATION ERROR\n",
      "WARNING: MISCLASSIFICATION ERROR\n",
      "WARNING: MISCLASSIFICATION ERROR\n"
     ]
    },
    {
     "name": "stderr",
     "output_type": "stream",
     "text": [
      "749it [00:01, 619.23it/s]"
     ]
    },
    {
     "name": "stdout",
     "output_type": "stream",
     "text": [
      "WARNING: MISCLASSIFICATION ERROR\n",
      "WARNING: MISCLASSIFICATION ERROR\n",
      "WARNING: MISCLASSIFICATION ERROR\n",
      "WARNING: MISCLASSIFICATION ERROR\n",
      "WARNING: MISCLASSIFICATION ERROR\n"
     ]
    },
    {
     "name": "stderr",
     "output_type": "stream",
     "text": [
      "954it [00:01, 628.28it/s]"
     ]
    },
    {
     "name": "stdout",
     "output_type": "stream",
     "text": [
      "WARNING: MISCLASSIFICATION ERROR\n",
      "WARNING: MISCLASSIFICATION ERROR\n",
      "WARNING: MISCLASSIFICATION ERROR\n",
      "WARNING: MISCLASSIFICATION ERROR\n",
      "WARNING: MISCLASSIFICATION ERROR\n",
      "WARNING: MISCLASSIFICATION ERROR\n"
     ]
    },
    {
     "name": "stderr",
     "output_type": "stream",
     "text": [
      "1222it [00:01, 635.15it/s]"
     ]
    },
    {
     "name": "stdout",
     "output_type": "stream",
     "text": [
      "WARNING: MISCLASSIFICATION ERROR\n",
      "WARNING: MISCLASSIFICATION ERROR\n",
      "WARNING: MISCLASSIFICATION ERROR\n",
      "WARNING: MISCLASSIFICATION ERROR\n",
      "WARNING: MISCLASSIFICATION ERROR\n",
      "WARNING: MISCLASSIFICATION ERROR\n",
      "WARNING: MISCLASSIFICATION ERROR\n",
      "WARNING: MISCLASSIFICATION ERROR\n",
      "WARNING: MISCLASSIFICATION ERROR\n"
     ]
    },
    {
     "name": "stderr",
     "output_type": "stream",
     "text": [
      "1355it [00:02, 635.28it/s]"
     ]
    },
    {
     "name": "stdout",
     "output_type": "stream",
     "text": [
      "WARNING: MISCLASSIFICATION ERROR\n",
      "WARNING: MISCLASSIFICATION ERROR\n",
      "WARNING: MISCLASSIFICATION ERROR\n",
      "WARNING: MISCLASSIFICATION ERROR\n",
      "WARNING: MISCLASSIFICATION ERROR\n"
     ]
    },
    {
     "name": "stderr",
     "output_type": "stream",
     "text": [
      "1484it [00:02, 632.69it/s]"
     ]
    },
    {
     "name": "stdout",
     "output_type": "stream",
     "text": [
      "WARNING: MISCLASSIFICATION ERROR\n",
      "WARNING: MISCLASSIFICATION ERROR\n",
      "WARNING: MISCLASSIFICATION ERROR\n"
     ]
    },
    {
     "name": "stderr",
     "output_type": "stream",
     "text": [
      "1678it [00:02, 632.86it/s]"
     ]
    },
    {
     "name": "stdout",
     "output_type": "stream",
     "text": [
      "WARNING: MISCLASSIFICATION ERROR\n",
      "WARNING: MISCLASSIFICATION ERROR\n",
      "WARNING: MISCLASSIFICATION ERROR\n",
      "WARNING: MISCLASSIFICATION ERROR\n",
      "WARNING: MISCLASSIFICATION ERROR\n"
     ]
    },
    {
     "name": "stderr",
     "output_type": "stream",
     "text": [
      "1806it [00:02, 632.97it/s]"
     ]
    },
    {
     "name": "stdout",
     "output_type": "stream",
     "text": [
      "WARNING: MISCLASSIFICATION ERROR\n",
      "WARNING: MISCLASSIFICATION ERROR\n",
      "WARNING: MISCLASSIFICATION ERROR\n",
      "WARNING: MISCLASSIFICATION ERROR\n",
      "WARNING: MISCLASSIFICATION ERROR\n",
      "WARNING: MISCLASSIFICATION ERROR\n",
      "WARNING: MISCLASSIFICATION ERROR\n"
     ]
    },
    {
     "name": "stderr",
     "output_type": "stream",
     "text": [
      "1933it [00:03, 630.37it/s]"
     ]
    },
    {
     "name": "stdout",
     "output_type": "stream",
     "text": [
      "WARNING: MISCLASSIFICATION ERROR\n",
      "WARNING: MISCLASSIFICATION ERROR\n",
      "WARNING: MISCLASSIFICATION ERROR\n",
      "WARNING: MISCLASSIFICATION ERROR\n",
      "WARNING: MISCLASSIFICATION ERROR\n"
     ]
    },
    {
     "name": "stderr",
     "output_type": "stream",
     "text": [
      "2058it [00:03, 628.70it/s]"
     ]
    },
    {
     "name": "stdout",
     "output_type": "stream",
     "text": [
      "WARNING: MISCLASSIFICATION ERROR\n",
      "WARNING: MISCLASSIFICATION ERROR\n",
      "WARNING: MISCLASSIFICATION ERROR\n",
      "WARNING: MISCLASSIFICATION ERROR\n",
      "WARNING: MISCLASSIFICATION ERROR\n",
      "WARNING: MISCLASSIFICATION ERROR\n",
      "WARNING: MISCLASSIFICATION ERROR\n",
      "WARNING: MISCLASSIFICATION ERROR\n"
     ]
    },
    {
     "name": "stderr",
     "output_type": "stream",
     "text": [
      "2179it [00:03, 617.45it/s]"
     ]
    },
    {
     "name": "stdout",
     "output_type": "stream",
     "text": [
      "WARNING: MISCLASSIFICATION ERROR\n",
      "WARNING: MISCLASSIFICATION ERROR\n",
      "WARNING: MISCLASSIFICATION ERROR\n",
      "WARNING: MISCLASSIFICATION ERROR\n"
     ]
    },
    {
     "name": "stderr",
     "output_type": "stream",
     "text": [
      "2351it [00:03, 608.52it/s]"
     ]
    },
    {
     "name": "stdout",
     "output_type": "stream",
     "text": [
      "WARNING: MISCLASSIFICATION ERROR\n",
      "WARNING: MISCLASSIFICATION ERROR\n",
      "WARNING: MISCLASSIFICATION ERROR\n"
     ]
    },
    {
     "name": "stderr",
     "output_type": "stream",
     "text": [
      "2553it [00:04, 612.61it/s]"
     ]
    },
    {
     "name": "stdout",
     "output_type": "stream",
     "text": [
      "WARNING: MISCLASSIFICATION ERROR\n",
      "WARNING: MISCLASSIFICATION ERROR\n",
      "WARNING: MISCLASSIFICATION ERROR\n",
      "WARNING: MISCLASSIFICATION ERROR\n",
      "WARNING: MISCLASSIFICATION ERROR\n",
      "WARNING: MISCLASSIFICATION ERROR\n",
      "WARNING: MISCLASSIFICATION ERROR\n"
     ]
    },
    {
     "name": "stderr",
     "output_type": "stream",
     "text": [
      "2691it [00:04, 615.74it/s]"
     ]
    },
    {
     "name": "stdout",
     "output_type": "stream",
     "text": [
      "WARNING: MISCLASSIFICATION ERROR\n",
      "WARNING: MISCLASSIFICATION ERROR\n",
      "WARNING: MISCLASSIFICATION ERROR\n",
      "WARNING: MISCLASSIFICATION ERROR\n",
      "WARNING: MISCLASSIFICATION ERROR\n",
      "WARNING: MISCLASSIFICATION ERROR\n",
      "WARNING: MISCLASSIFICATION ERROR\n"
     ]
    },
    {
     "name": "stderr",
     "output_type": "stream",
     "text": [
      "2826it [00:04, 618.07it/s]"
     ]
    },
    {
     "name": "stdout",
     "output_type": "stream",
     "text": [
      "WARNING: MISCLASSIFICATION ERROR\n",
      "WARNING: MISCLASSIFICATION ERROR\n",
      "WARNING: MISCLASSIFICATION ERROR\n",
      "WARNING: MISCLASSIFICATION ERROR\n",
      "WARNING: MISCLASSIFICATION ERROR\n"
     ]
    },
    {
     "name": "stderr",
     "output_type": "stream",
     "text": [
      "3035it [00:04, 622.77it/s]"
     ]
    },
    {
     "name": "stdout",
     "output_type": "stream",
     "text": [
      "WARNING: MISCLASSIFICATION ERROR\n",
      "WARNING: MISCLASSIFICATION ERROR\n",
      "WARNING: MISCLASSIFICATION ERROR\n",
      "WARNING: MISCLASSIFICATION ERROR\n",
      "WARNING: MISCLASSIFICATION ERROR\n",
      "WARNING: MISCLASSIFICATION ERROR\n",
      "WARNING: MISCLASSIFICATION ERROR\n",
      "WARNING: MISCLASSIFICATION ERROR\n",
      "WARNING: MISCLASSIFICATION ERROR\n"
     ]
    },
    {
     "name": "stderr",
     "output_type": "stream",
     "text": [
      "3174it [00:05, 625.21it/s]"
     ]
    },
    {
     "name": "stdout",
     "output_type": "stream",
     "text": [
      "WARNING: MISCLASSIFICATION ERROR\n",
      "WARNING: MISCLASSIFICATION ERROR\n",
      "WARNING: MISCLASSIFICATION ERROR\n",
      "WARNING: MISCLASSIFICATION ERROR\n",
      "WARNING: MISCLASSIFICATION ERROR\n",
      "WARNING: MISCLASSIFICATION ERROR\n",
      "WARNING: MISCLASSIFICATION ERROR\n"
     ]
    },
    {
     "name": "stderr",
     "output_type": "stream",
     "text": [
      "3315it [00:05, 627.93it/s]"
     ]
    },
    {
     "name": "stdout",
     "output_type": "stream",
     "text": [
      "WARNING: MISCLASSIFICATION ERROR\n",
      "WARNING: MISCLASSIFICATION ERROR\n",
      "WARNING: MISCLASSIFICATION ERROR\n",
      "WARNING: MISCLASSIFICATION ERROR\n"
     ]
    },
    {
     "name": "stderr",
     "output_type": "stream",
     "text": [
      "3456it [00:05, 630.15it/s]"
     ]
    },
    {
     "name": "stdout",
     "output_type": "stream",
     "text": [
      "WARNING: MISCLASSIFICATION ERROR\n",
      "WARNING: MISCLASSIFICATION ERROR\n",
      "WARNING: MISCLASSIFICATION ERROR\n",
      "WARNING: MISCLASSIFICATION ERROR\n",
      "WARNING: MISCLASSIFICATION ERROR\n",
      "WARNING: MISCLASSIFICATION ERROR\n"
     ]
    },
    {
     "name": "stderr",
     "output_type": "stream",
     "text": [
      "3666it [00:05, 633.17it/s]"
     ]
    },
    {
     "name": "stdout",
     "output_type": "stream",
     "text": [
      "WARNING: MISCLASSIFICATION ERROR\n",
      "WARNING: MISCLASSIFICATION ERROR\n",
      "WARNING: MISCLASSIFICATION ERROR\n",
      "WARNING: MISCLASSIFICATION ERROR\n",
      "WARNING: MISCLASSIFICATION ERROR\n",
      "WARNING: MISCLASSIFICATION ERROR\n"
     ]
    },
    {
     "name": "stderr",
     "output_type": "stream",
     "text": [
      "3805it [00:05, 634.29it/s]"
     ]
    },
    {
     "name": "stdout",
     "output_type": "stream",
     "text": [
      "WARNING: MISCLASSIFICATION ERROR\n",
      "WARNING: MISCLASSIFICATION ERROR\n",
      "WARNING: MISCLASSIFICATION ERROR\n",
      "WARNING: MISCLASSIFICATION ERROR\n",
      "WARNING: MISCLASSIFICATION ERROR\n"
     ]
    },
    {
     "name": "stderr",
     "output_type": "stream",
     "text": [
      "3943it [00:06, 635.43it/s]"
     ]
    },
    {
     "name": "stdout",
     "output_type": "stream",
     "text": [
      "WARNING: MISCLASSIFICATION ERROR\n",
      "WARNING: MISCLASSIFICATION ERROR\n",
      "WARNING: MISCLASSIFICATION ERROR\n",
      "WARNING: MISCLASSIFICATION ERROR\n",
      "WARNING: MISCLASSIFICATION ERROR\n",
      "WARNING: MISCLASSIFICATION ERROR\n"
     ]
    },
    {
     "name": "stderr",
     "output_type": "stream",
     "text": [
      "4147it [00:06, 637.16it/s]"
     ]
    },
    {
     "name": "stdout",
     "output_type": "stream",
     "text": [
      "WARNING: MISCLASSIFICATION ERROR\n",
      "WARNING: MISCLASSIFICATION ERROR\n",
      "WARNING: MISCLASSIFICATION ERROR\n",
      "WARNING: MISCLASSIFICATION ERROR\n",
      "WARNING: MISCLASSIFICATION ERROR\n",
      "WARNING: MISCLASSIFICATION ERROR\n",
      "WARNING: MISCLASSIFICATION ERROR\n",
      "WARNING: MISCLASSIFICATION ERROR\n"
     ]
    },
    {
     "name": "stderr",
     "output_type": "stream",
     "text": [
      "4283it [00:06, 637.93it/s]"
     ]
    },
    {
     "name": "stdout",
     "output_type": "stream",
     "text": [
      "WARNING: MISCLASSIFICATION ERROR\n",
      "WARNING: MISCLASSIFICATION ERROR\n",
      "WARNING: MISCLASSIFICATION ERROR\n",
      "WARNING: MISCLASSIFICATION ERROR\n",
      "WARNING: MISCLASSIFICATION ERROR\n",
      "WARNING: MISCLASSIFICATION ERROR\n",
      "WARNING: MISCLASSIFICATION ERROR\n",
      "WARNING: MISCLASSIFICATION ERROR\n"
     ]
    },
    {
     "name": "stderr",
     "output_type": "stream",
     "text": [
      "4421it [00:06, 639.28it/s]"
     ]
    },
    {
     "name": "stdout",
     "output_type": "stream",
     "text": [
      "WARNING: MISCLASSIFICATION ERROR\n",
      "WARNING: MISCLASSIFICATION ERROR\n",
      "WARNING: MISCLASSIFICATION ERROR\n",
      "WARNING: MISCLASSIFICATION ERROR\n",
      "WARNING: MISCLASSIFICATION ERROR\n",
      "WARNING: MISCLASSIFICATION ERROR\n",
      "WARNING: MISCLASSIFICATION ERROR\n",
      "WARNING: MISCLASSIFICATION ERROR\n"
     ]
    },
    {
     "name": "stderr",
     "output_type": "stream",
     "text": [
      "4628it [00:07, 641.09it/s]"
     ]
    },
    {
     "name": "stdout",
     "output_type": "stream",
     "text": [
      "WARNING: MISCLASSIFICATION ERROR\n",
      "WARNING: MISCLASSIFICATION ERROR\n",
      "WARNING: MISCLASSIFICATION ERROR\n",
      "WARNING: MISCLASSIFICATION ERROR\n",
      "WARNING: MISCLASSIFICATION ERROR\n",
      "WARNING: MISCLASSIFICATION ERROR\n",
      "WARNING: MISCLASSIFICATION ERROR\n",
      "WARNING: MISCLASSIFICATION ERROR\n",
      "WARNING: MISCLASSIFICATION ERROR\n",
      "WARNING: MISCLASSIFICATION ERROR\n",
      "WARNING: MISCLASSIFICATION ERROR\n"
     ]
    },
    {
     "name": "stderr",
     "output_type": "stream",
     "text": [
      "4768it [00:07, 642.40it/s]"
     ]
    },
    {
     "name": "stdout",
     "output_type": "stream",
     "text": [
      "WARNING: MISCLASSIFICATION ERROR\n",
      "WARNING: MISCLASSIFICATION ERROR\n",
      "WARNING: MISCLASSIFICATION ERROR\n",
      "WARNING: MISCLASSIFICATION ERROR\n"
     ]
    },
    {
     "name": "stderr",
     "output_type": "stream",
     "text": [
      "5000it [00:07, 644.23it/s]"
     ]
    },
    {
     "name": "stdout",
     "output_type": "stream",
     "text": [
      "WARNING: MISCLASSIFICATION ERROR\n",
      "WARNING: MISCLASSIFICATION ERROR\n",
      "WARNING: MISCLASSIFICATION ERROR\n",
      "WARNING: MISCLASSIFICATION ERROR\n"
     ]
    },
    {
     "name": "stderr",
     "output_type": "stream",
     "text": [
      "\n"
     ]
    }
   ],
   "source": [
    "for x, y_true in tqdm(zip(xs, y_trues)):\n",
    "    \n",
    "    # Wrap x as a variable \n",
    "    x = Variable(torch.FloatTensor(x.reshape(1,784)), requires_grad=True)\n",
    "    y_true = Variable(torch.LongTensor(np.array([y_true])), requires_grad=False)\n",
    "    \n",
    "    # Classification before Adv \n",
    "    y_pred =  np.argmax(net(x).data.numpy())\n",
    "    \n",
    "    # Generate Adversarial Image \n",
    "\n",
    "    # Forward pass\n",
    "    outputs = net(x)\n",
    "    loss = SoftmaxWithXent(outputs, y_true)\n",
    "    loss.backward() # obtain gradients on x\n",
    "\n",
    "    # Add perturbation\n",
    "    epsilon = 0.1\n",
    "    x_grad   = torch.sign(x.grad.data)\n",
    "    x_adversarial = torch.clamp(x.data + epsilon * x_grad, 0, 1) \n",
    "\n",
    "    # Classification after optimization  \n",
    "    y_pred_adversarial = np.argmax(net(Variable(x_adversarial)).data.numpy())\n",
    "    # print \"Before: {} | after: {}\".format(y_pred, y_pred_adversarial)\n",
    "    \n",
    "    # print \"Y_TRUE: {} | Y_PRED: {}\".format(_y_true, y_pred)\n",
    "    if y_true.data.numpy() != y_pred:\n",
    "        print(\"WARNING: MISCLASSIFICATION ERROR\")\n",
    "        totalMisclassifications += 1\n",
    "    else:\n",
    "        y_preds.append(y_pred)\n",
    "        y_preds_adversarial.append(y_pred_adversarial)\n",
    "        noises.append( (x_adversarial - x.data).numpy() ) \n",
    "        xs_clean.append(x.data.numpy())\n",
    "        y_trues_clean.append(y_true.data.numpy())\n"
   ]
  },
  {
   "cell_type": "code",
   "execution_count": 8,
   "metadata": {},
   "outputs": [
    {
     "name": "stdout",
     "output_type": "stream",
     "text": [
      "Total totalMisclassifications :  183\n",
      "out of :  5000\n"
     ]
    }
   ],
   "source": [
    "print(\"Total totalMisclassifications : \", totalMisclassifications)\n",
    "print(\"out of : \", len(xs))"
   ]
  },
  {
   "cell_type": "code",
   "execution_count": 9,
   "metadata": {
    "collapsed": true
   },
   "outputs": [],
   "source": [
    "with open(\"bulk_mnist_fgsd.pkl\",\"wb\") as f: \n",
    "    adv_data_dict = {\n",
    "            \"xs\" : xs_clean, \n",
    "            \"y_trues\" : y_trues_clean,\n",
    "            \"y_preds\" : y_preds,\n",
    "            \"noises\" : noises,\n",
    "            \"y_preds_adversarial\" : y_preds_adversarial\n",
    "            }    \n",
    "    pickle.dump(adv_data_dict, f)"
   ]
  },
  {
   "cell_type": "code",
   "execution_count": null,
   "metadata": {
    "collapsed": true
   },
   "outputs": [],
   "source": []
  }
 ],
 "metadata": {
  "kernelspec": {
   "display_name": "Python3.6 [pytorch]",
   "language": "python",
   "name": "pytorch"
  },
  "language_info": {
   "codemirror_mode": {
    "name": "ipython",
    "version": 3
   },
   "file_extension": ".py",
   "mimetype": "text/x-python",
   "name": "python",
   "nbconvert_exporter": "python",
   "pygments_lexer": "ipython3",
   "version": "3.6.2"
  }
 },
 "nbformat": 4,
 "nbformat_minor": 2
}
