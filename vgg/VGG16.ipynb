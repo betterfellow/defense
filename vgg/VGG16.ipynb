{
 "cells": [
  {
   "cell_type": "markdown",
   "metadata": {},
   "source": [
    "# VGG16"
   ]
  },
  {
   "cell_type": "code",
   "execution_count": 1,
   "metadata": {
    "collapsed": false
   },
   "outputs": [],
   "source": [
    "import numpy as np\n",
    "import torch\n",
    "import torch.nn as nn\n",
    "import torch.optim as optim\n",
    "import torch.nn.init as init\n",
    "import torchvision.datasets as dset\n",
    "import torchvision.transforms as transforms\n",
    "from torch.utils.data import DataLoader\n",
    "from torch.autograd import Variable\n",
    "import matplotlib.pyplot as plt\n",
    "import matplotlib.gridspec as gridspec\n",
    "import torchvision.models as models\n",
    "import torchvision \n",
    "% matplotlib inline"
   ]
  },
  {
   "cell_type": "code",
   "execution_count": 2,
   "metadata": {
    "collapsed": false
   },
   "outputs": [
    {
     "name": "stdout",
     "output_type": "stream",
     "text": [
      "Files already downloaded and verified\n",
      "Files already downloaded and verified\n"
     ]
    }
   ],
   "source": [
    "transform = transforms.Compose(\n",
    "    [transforms.ToTensor(),\n",
    "     transforms.Normalize((0.5, 0.5, 0.5), (0.5, 0.5, 0.5))])\n",
    "\n",
    "trainset = torchvision.datasets.CIFAR10(root='./data', train=True,\n",
    "                                        download=True, transform=transform)\n",
    "trainloader = torch.utils.data.DataLoader(trainset, batch_size=128,\n",
    "                                          shuffle=False, num_workers=2)\n",
    "\n",
    "testset = torchvision.datasets.CIFAR10(root='./data', train=False,\n",
    "                                       download=True, transform=transform)\n",
    "testloader = torch.utils.data.DataLoader(testset, batch_size=128,\n",
    "                                         shuffle=False, num_workers=2)\n",
    "\n",
    "classes = ('airplane', 'automobile', 'bird', 'cat', 'deer',\n",
    "                   'dog', 'frog', 'horse', 'ship', 'truck')\n"
   ]
  },
  {
   "cell_type": "code",
   "execution_count": 3,
   "metadata": {
    "collapsed": false
   },
   "outputs": [],
   "source": [
    "class vgg16_fine(nn.Module):\n",
    "            def __init__(self):\n",
    "                super(vgg16_fine, self).__init__()\n",
    "                self.features = nn.Sequential(\n",
    "                    nn.Conv2d(3, 64, kernel_size=(3, 3), stride=(1, 1), padding=(1, 1)),\n",
    "                    nn.ReLU (inplace=True),                    \n",
    "                    nn.BatchNorm2d(64),\n",
    "                    nn.Dropout(0.3),\n",
    "                    nn.Conv2d(64, 64, kernel_size=(3, 3), stride=(1, 1), padding=(1, 1)),\n",
    "                    nn.ReLU (inplace=True),                    \n",
    "                    nn.BatchNorm2d(64),\n",
    "                    nn.MaxPool2d (2,2),\n",
    "                    nn.Conv2d(64, 128, kernel_size=(3, 3), stride=(1, 1), padding=(1, 1)),\n",
    "                    nn.ReLU (inplace=True),                    \n",
    "                    nn.BatchNorm2d(128),\n",
    "                    nn.Dropout(0.4),\n",
    "                    nn.Conv2d(128, 128, kernel_size=(3, 3), stride=(1, 1), padding=(1, 1)),\n",
    "                    nn.ReLU (inplace=True),                    \n",
    "                    nn.BatchNorm2d(128),\n",
    "                    nn.MaxPool2d (2,2),\n",
    "                    nn.Conv2d(128, 256, kernel_size=(3, 3), stride=(1, 1), padding=(1, 1)),\n",
    "                    nn.ReLU (inplace=True),                    \n",
    "                    nn.BatchNorm2d(256),\n",
    "                    nn.Dropout(0.4),\n",
    "                    nn.Conv2d(256, 256, kernel_size=(3, 3), stride=(1, 1), padding=(1, 1)),\n",
    "                    nn.ReLU (inplace=True),                    \n",
    "                    nn.BatchNorm2d(256),\n",
    "                    nn.Dropout(0.4),\n",
    "                    nn.Conv2d(256, 256, kernel_size=(3, 3), stride=(1, 1), padding=(1, 1)),\n",
    "                    nn.ReLU (inplace=True),                    \n",
    "                    nn.BatchNorm2d(256),\n",
    "                    nn.MaxPool2d (2,2),\n",
    "                    nn.Conv2d(256, 512, kernel_size=(3, 3), stride=(1, 1), padding=(1, 1)),\n",
    "                    nn.ReLU (inplace=True),                    \n",
    "                    nn.BatchNorm2d(512),\n",
    "                    nn.Dropout(0.4),\n",
    "                    nn.Conv2d(512, 512, kernel_size=(3, 3), stride=(1, 1), padding=(1, 1)),\n",
    "                    nn.ReLU (inplace=True),                    \n",
    "                    nn.BatchNorm2d(512),\n",
    "                    nn.Dropout(0.4),\n",
    "                    nn.Conv2d(512, 512, kernel_size=(3, 3), stride=(1, 1), padding=(1, 1)),\n",
    "                    nn.ReLU (inplace=True),                    \n",
    "                    nn.BatchNorm2d(512),\n",
    "                    nn.MaxPool2d (2,2),\n",
    "                    nn.Conv2d(512, 512, kernel_size=(3, 3), stride=(1, 1), padding=(1, 1)),\n",
    "                    nn.ReLU (inplace=True),                    \n",
    "                    nn.BatchNorm2d(512),\n",
    "                    nn.Dropout(0.4),\n",
    "                    nn.Conv2d(512, 512, kernel_size=(3, 3), stride=(1, 1), padding=(1, 1)),\n",
    "                    nn.ReLU (inplace=True),                    \n",
    "                    nn.BatchNorm2d(512),\n",
    "                    nn.Dropout(0.4),\n",
    "                    nn.Conv2d(512, 512, kernel_size=(3, 3), stride=(1, 1), padding=(1, 1)),\n",
    "                    nn.ReLU (inplace=True),                    \n",
    "                    nn.BatchNorm2d(512),\n",
    "                    nn.MaxPool2d (2,2),\n",
    "                    nn.Dropout(0.5)) \n",
    "                self.classifier = nn.Sequential(\n",
    "                 nn.Linear(512, 512),\n",
    "                 nn.ReLU(inplace=True),\n",
    "                 nn.BatchNorm2d(512),\n",
    "                 nn.Dropout(0.5),\n",
    "                 nn.Linear(512, 10),\n",
    "                 nn.Softmax()   \n",
    "            )\n",
    "            def forward(self, x):\n",
    "                f = self.features(x)\n",
    "                f=f.view(-1,512*1*1)\n",
    "                y=self.classifier(f)\n",
    "                return y\n",
    "\n",
    "vgg16 = vgg16_fine()"
   ]
  },
  {
   "cell_type": "code",
   "execution_count": 4,
   "metadata": {
    "collapsed": false
   },
   "outputs": [],
   "source": [
    "criterion = nn.CrossEntropyLoss()\n",
    "optimizer = optim.Adam(vgg16.parameters(), lr=0.001)\n"
   ]
  },
  {
   "cell_type": "code",
   "execution_count": 5,
   "metadata": {
    "collapsed": false
   },
   "outputs": [
    {
     "name": "stdout",
     "output_type": "stream",
     "text": [
      "[1,     1] loss: 0.046\n",
      "[1,    51] loss: 2.250\n",
      "[1,   101] loss: 2.207\n",
      "[1,   151] loss: 2.182\n",
      "[1,   201] loss: 2.144\n",
      "[1,   251] loss: 2.115\n",
      "[1,   301] loss: 2.092\n",
      "[1,   351] loss: 2.056\n",
      "Finished Training\n"
     ]
    }
   ],
   "source": [
    "for epoch in range(1):  # loop over the dataset multiple times\n",
    "\n",
    "    running_loss = 0.0\n",
    "    for i, data in enumerate(trainloader, 0):\n",
    "        # get the inputs\n",
    "        inputs, labels = data\n",
    "\n",
    "        # wrap them in Variable\n",
    "        inputs, labels = Variable(inputs), Variable(labels)\n",
    "\n",
    "        # zero the parameter gradients\n",
    "        optimizer.zero_grad()\n",
    "\n",
    "        # forward + backward + optimize\n",
    "        outputs = vgg16(inputs)\n",
    "        loss = criterion(outputs, labels)\n",
    "        loss.backward()\n",
    "        optimizer.step()\n",
    "\n",
    "        # print statistics\n",
    "        running_loss += loss.data[0]\n",
    "        if i % 50 == 0:    # print every 50 mini-batches\n",
    "            print('[%d, %5d] loss: %.3f' %\n",
    "                  (epoch + 1, i + 1, running_loss / 50))\n",
    "            running_loss = 0.0\n",
    "            \n",
    "        if i%200==0:\n",
    "            torch.save(vgg16,'vgg16_'+str(i)+'.pkl')\n",
    "            torch.save(vgg16,'vgg16.pkl')   \n",
    "\n",
    "print('Finished Training')"
   ]
  },
  {
   "cell_type": "code",
   "execution_count": 6,
   "metadata": {
    "collapsed": false
   },
   "outputs": [
    {
     "name": "stdout",
     "output_type": "stream",
     "text": [
      "Accuracy of the network on the 10000 test images: 41 %\n"
     ]
    }
   ],
   "source": [
    "correct = 0\n",
    "total = 0\n",
    "for data in testloader:\n",
    "    images, labels = data\n",
    "    outputs = vgg16(Variable(images))\n",
    "    _, predicted = torch.max(outputs.data, 1)\n",
    "    total += labels.size(0)\n",
    "    correct += (predicted == labels).sum()\n",
    "\n",
    "print('Accuracy of the network on the 10000 test images: %d %%' % (\n",
    "    100 * correct / total))"
   ]
  }
 ],
 "metadata": {
  "anaconda-cloud": {},
  "kernelspec": {
   "display_name": "Python [conda root]",
   "language": "python",
   "name": "conda-root-py"
  },
  "language_info": {
   "codemirror_mode": {
    "name": "ipython",
    "version": 3
   },
   "file_extension": ".py",
   "mimetype": "text/x-python",
   "name": "python",
   "nbconvert_exporter": "python",
   "pygments_lexer": "ipython3",
   "version": "3.5.2"
  }
 },
 "nbformat": 4,
 "nbformat_minor": 2
}
